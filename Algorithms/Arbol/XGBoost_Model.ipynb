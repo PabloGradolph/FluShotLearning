{
 "cells": [
  {
   "cell_type": "markdown",
   "metadata": {},
   "source": [
    "# Gradient Boosted Tree Model with XGBoost"
   ]
  },
  {
   "cell_type": "code",
   "execution_count": 41,
   "metadata": {},
   "outputs": [],
   "source": [
    "import pandas as pd\n",
    "from sklearn.model_selection import train_test_split\n",
    "from sklearn.preprocessing import OrdinalEncoder\n",
    "from sklearn.pipeline import Pipeline\n",
    "from sklearn.multioutput import MultiOutputClassifier\n",
    "from sklearn.metrics import roc_auc_score, classification_report\n",
    "from xgboost import XGBClassifier\n",
    "from xgboost import plot_importance\n",
    "from xgboost import plot_tree\n",
    "from xgboost import to_graphviz\n",
    "from skopt import BayesSearchCV\n",
    "from skopt.space import Real, Categorical, Integer\n",
    "import numpy as np\n",
    "import graphviz\n",
    "import joblib"
   ]
  },
  {
   "cell_type": "code",
   "execution_count": 42,
   "metadata": {},
   "outputs": [],
   "source": [
    "X = pd.read_csv(\"../../Data/preprocessed_training_dataset.csv\", index_col=\"respondent_id\")\n",
    "y = pd.read_csv(\"../../Data/training_set_labels.csv\", index_col=\"respondent_id\", usecols=[\"respondent_id\", \"h1n1_vaccine\", \"seasonal_vaccine\"])"
   ]
  },
  {
   "cell_type": "code",
   "execution_count": 43,
   "metadata": {},
   "outputs": [],
   "source": [
    "X_train, X_test, y_train, y_test = train_test_split(X, y, test_size=0.2, random_state=42, stratify=y)"
   ]
  },
  {
   "cell_type": "code",
   "execution_count": 44,
   "metadata": {},
   "outputs": [],
   "source": [
    "# Espacio de búsqueda de hiperparámetros\n",
    "search_space = {\n",
    "    'estimator__max_depth': Integer(3, 10),\n",
    "    'estimator__learning_rate': Real(0.01, 0.3, prior='log-uniform'),\n",
    "    'estimator__subsample': Real(0.5, 1.0),\n",
    "    'estimator__colsample_bytree': Real(0.5, 1.0),\n",
    "    'estimator__n_estimators': Integer(50, 300),\n",
    "    'estimator__gamma': Real(0.0, 1.0)\n",
    "}\n",
    "\n",
    "# Crear el modelo base\n",
    "xgb_model = XGBClassifier(eval_metric='logloss', random_state=42)\n",
    "\n",
    "# Envolverlo en MultiOutputClassifier para predicción multietiqueta\n",
    "multi_xgb = MultiOutputClassifier(xgb_model)"
   ]
  },
  {
   "cell_type": "code",
   "execution_count": null,
   "metadata": {},
   "outputs": [
    {
     "name": "stdout",
     "output_type": "stream",
     "text": [
      "Mejores hiperparámetros: OrderedDict({'estimator__colsample_bytree': 0.5, 'estimator__gamma': 0.0, 'estimator__learning_rate': 0.04351555474891697, 'estimator__max_depth': 5, 'estimator__n_estimators': 300, 'estimator__subsample': 0.5})\n"
     ]
    }
   ],
   "source": [
    "# Configurar BayesSearchCV\n",
    "opt = BayesSearchCV(\n",
    "    multi_xgb,\n",
    "    search_space,\n",
    "    cv=5,\n",
    "    n_iter=50,\n",
    "    scoring='roc_auc',\n",
    "    random_state=42,\n",
    "    n_jobs=-1\n",
    ")\n",
    "\n",
    "# Entrenar el modelo con optimización\n",
    "opt.fit(X_train, y_train)\n",
    "\n",
    "# Mostrar los mejores hiperparámetros\n",
    "print(\"Mejores hiperparámetros:\", opt.best_params_)\n",
    "\n",
    "# Guardar el mejor modelo optimizado\n",
    "joblib.dump(opt.best_estimator_, \"XGBoost_best_model.pkl\")\n",
    "print(\"Modelo guardado como 'XGBoost_best_model.pkl'\")"
   ]
  },
  {
   "cell_type": "code",
   "execution_count": 46,
   "metadata": {},
   "outputs": [
    {
     "name": "stdout",
     "output_type": "stream",
     "text": [
      "AUROC para H1N1: 0.8452206255778862\n",
      "AUROC para vacuna estacional: 0.862288951930725\n",
      "Reporte de Clasificación:\n",
      "              precision    recall  f1-score   support\n",
      "\n",
      "           0       0.68      0.46      0.55      1135\n",
      "           1       0.78      0.76      0.77      2488\n",
      "\n",
      "   micro avg       0.76      0.66      0.71      3623\n",
      "   macro avg       0.73      0.61      0.66      3623\n",
      "weighted avg       0.75      0.66      0.70      3623\n",
      " samples avg       0.35      0.33      0.33      3623\n",
      "\n"
     ]
    },
    {
     "name": "stderr",
     "output_type": "stream",
     "text": [
      "c:\\USERS\\PABLO\\ONEDRIVE\\DOCUMENTOS\\ESTUDIOS\\DATCOM\\1ER CUATRIMESTRE\\MINERÍA DE DATOS. PREPROCESAMIENTO Y CLASIFICACIÓN\\FLUSHOTLEARNING\\VENV\\Lib\\site-packages\\sklearn\\metrics\\_classification.py:1565: UndefinedMetricWarning: Precision is ill-defined and being set to 0.0 in samples with no predicted labels. Use `zero_division` parameter to control this behavior.\n",
      "  _warn_prf(average, modifier, f\"{metric.capitalize()} is\", len(result))\n",
      "c:\\USERS\\PABLO\\ONEDRIVE\\DOCUMENTOS\\ESTUDIOS\\DATCOM\\1ER CUATRIMESTRE\\MINERÍA DE DATOS. PREPROCESAMIENTO Y CLASIFICACIÓN\\FLUSHOTLEARNING\\VENV\\Lib\\site-packages\\sklearn\\metrics\\_classification.py:1565: UndefinedMetricWarning: Recall is ill-defined and being set to 0.0 in samples with no true labels. Use `zero_division` parameter to control this behavior.\n",
      "  _warn_prf(average, modifier, f\"{metric.capitalize()} is\", len(result))\n",
      "c:\\USERS\\PABLO\\ONEDRIVE\\DOCUMENTOS\\ESTUDIOS\\DATCOM\\1ER CUATRIMESTRE\\MINERÍA DE DATOS. PREPROCESAMIENTO Y CLASIFICACIÓN\\FLUSHOTLEARNING\\VENV\\Lib\\site-packages\\sklearn\\metrics\\_classification.py:1565: UndefinedMetricWarning: F-score is ill-defined and being set to 0.0 in samples with no true nor predicted labels. Use `zero_division` parameter to control this behavior.\n",
      "  _warn_prf(average, modifier, f\"{metric.capitalize()} is\", len(result))\n"
     ]
    }
   ],
   "source": [
    "# Predicción\n",
    "y_pred = opt.best_estimator_.predict(X_test)\n",
    "\n",
    "# Calcular probabilidades para AUROC\n",
    "y_proba = opt.best_estimator_.predict_proba(X_test)\n",
    "\n",
    "# Convertir las probabilidades a un DataFrame para cada etiqueta\n",
    "y_proba_h1n1 = y_proba[0][:, 1]  # Para H1N1\n",
    "y_proba_seasonal = y_proba[1][:, 1]  # Para vacuna estacional\n",
    "\n",
    "# Extraer las etiquetas reales como arrays 1D\n",
    "y_test_h1n1 = y_test.iloc[:, 0].values  # H1N1\n",
    "y_test_seasonal = y_test.iloc[:, 1].values  # Vacuna estacional\n",
    "\n",
    "# AUROC para cada etiqueta\n",
    "roc_auc_h1n1 = roc_auc_score(y_test_h1n1, y_proba_h1n1)\n",
    "roc_auc_seasonal = roc_auc_score(y_test_seasonal, y_proba_seasonal)\n",
    "\n",
    "print(f\"AUROC para H1N1: {roc_auc_h1n1}\")\n",
    "print(f\"AUROC para vacuna estacional: {roc_auc_seasonal}\")\n",
    "\n",
    "# Informe de clasificación\n",
    "print(\"Reporte de Clasificación:\")\n",
    "print(classification_report(y_test, y_pred))"
   ]
  },
  {
   "cell_type": "code",
   "execution_count": null,
   "metadata": {},
   "outputs": [
    {
     "name": "stdout",
     "output_type": "stream",
     "text": [
      "Archivo 'submission.csv' generado correctamente.\n"
     ]
    }
   ],
   "source": [
    "# Cargar el dataset de prueba preprocesado\n",
    "test_set_preprocessed = pd.read_csv(\"../../Data/preprocessed_test_dataset.csv\")\n",
    "\n",
    "# Asegurarse de que respondent_id esté disponible\n",
    "respondent_ids = test_set_preprocessed['respondent_id']\n",
    "\n",
    "# Eliminar respondent_id del conjunto de características\n",
    "X_test_final = test_set_preprocessed.drop(columns=['respondent_id'])\n",
    "\n",
    "# Realizar predicciones de probabilidad\n",
    "y_proba_test = opt.best_estimator_.predict_proba(X_test_final)\n",
    "\n",
    "# Extraer las probabilidades para la clase positiva (1)\n",
    "y_proba_h1n1_test = y_proba_test[0][:, 1]  # Probabilidades para H1N1\n",
    "y_proba_seasonal_test = y_proba_test[1][:, 1]  # Probabilidades para vacuna estacional\n",
    "\n",
    "# Crear el DataFrame de submission\n",
    "submission = pd.DataFrame({\n",
    "    \"respondent_id\": respondent_ids,\n",
    "    \"h1n1_vaccine\": y_proba_h1n1_test,\n",
    "    \"seasonal_vaccine\": y_proba_seasonal_test\n",
    "})\n",
    "\n",
    "# Guardar el archivo de submission\n",
    "submission.to_csv(\"XGBoost_submission.csv\", index=False)\n",
    "print(\"Archivo 'XGBoost_submission.csv' generado correctamente.\")"
   ]
  },
  {
   "cell_type": "markdown",
   "metadata": {},
   "source": [
    "Ejemplo de carga de modelo guardado para su posterior uso."
   ]
  },
  {
   "cell_type": "code",
   "execution_count": null,
   "metadata": {},
   "outputs": [],
   "source": [
    "# Cargar el modelo guardado\n",
    "loaded_model = joblib.load(\"best_model.pkl\")\n",
    "print(\"Modelo cargado correctamente.\")\n",
    "\n",
    "# Realizar predicciones usando el modelo cargado\n",
    "y_proba_test = loaded_model.predict_proba(X_test_final)\n",
    "\n",
    "# Extraer probabilidades para cada etiqueta\n",
    "y_proba_h1n1_test = y_proba_test[0][:, 1]  # Probabilidades para H1N1\n",
    "y_proba_seasonal_test = y_proba_test[1][:, 1]  # Probabilidades para vacuna estacional\n",
    "\n",
    "# Crear un DataFrame para la submission si es necesario\n",
    "submission = pd.DataFrame({\n",
    "    \"respondent_id\": respondent_ids,\n",
    "    \"h1n1_vaccine\": y_proba_h1n1_test,\n",
    "    \"seasonal_vaccine\": y_proba_seasonal_test\n",
    "})"
   ]
  }
 ],
 "metadata": {
  "kernelspec": {
   "display_name": "VENV",
   "language": "python",
   "name": "python3"
  },
  "language_info": {
   "codemirror_mode": {
    "name": "ipython",
    "version": 3
   },
   "file_extension": ".py",
   "mimetype": "text/x-python",
   "name": "python",
   "nbconvert_exporter": "python",
   "pygments_lexer": "ipython3",
   "version": "3.12.8"
  }
 },
 "nbformat": 4,
 "nbformat_minor": 2
}
