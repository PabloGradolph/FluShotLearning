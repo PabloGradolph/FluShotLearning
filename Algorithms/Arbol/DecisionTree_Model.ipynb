{
 "cells": [
  {
   "cell_type": "markdown",
   "metadata": {},
   "source": [
    "# Clasificación con Árboles de Decisión\n",
    "\n",
    "En este notebook, abordamos un problema de clasificación multietiqueta utilizando árboles de decisión. Nuestro objetivo es predecir la probabilidad de vacunación contra el H1N1 y la gripe estacional. A continuación, describimos el proceso en detalle.\n",
    "\n",
    "El algoritmo que vamos a utilizar es el árbol de decisión CART (Classification and Regression Trees). Lo aplicaremos con DecisionTreeClassifier de Scikit-learn que hace referencia al árbol de clasificación. Este árbol divide el espacio de características en regiones disjuntas mediante divisiones binarias (cada nodo tiene a lo sumo dos hijos)."
   ]
  },
  {
   "cell_type": "markdown",
   "metadata": {},
   "source": [
    "## 1. Importar los datos\n",
    "\n",
    "Cargamos los datos preprocesados y las etiquetas. El dataset ya ha sido tratado para manejar valores faltantes y aplicar codificaciones necesarias.\n",
    "\n",
    "**Archivos utilizados:**\n",
    "\n",
    "- preprocessed_training_simple_dataset.csv: Dataset preprocesado.\n",
    "- training_set_labels.csv: Etiquetas correspondientes al dataset de entrenamiento."
   ]
  },
  {
   "cell_type": "code",
   "execution_count": 1,
   "metadata": {},
   "outputs": [],
   "source": [
    "import pandas as pd\n",
    "from sklearn.tree import DecisionTreeClassifier\n",
    "from sklearn.model_selection import train_test_split\n",
    "from sklearn.metrics import accuracy_score, classification_report, roc_auc_score\n",
    "import matplotlib.pyplot as plt\n",
    "from sklearn.metrics import roc_curve, auc\n",
    "from sklearn.multioutput import MultiOutputClassifier\n",
    "from sklearn.model_selection import GridSearchCV\n",
    "\n",
    "# Cargar los datos preprocesados y las etiquetas\n",
    "X = pd.read_csv(\"../../Data/preprocessed_training_simple_dataset.csv\", index_col=\"respondent_id\")\n",
    "y = pd.read_csv(\"../../Data/training_set_labels.csv\", index_col=\"respondent_id\", usecols=[\"respondent_id\", \"h1n1_vaccine\", \"seasonal_vaccine\"])"
   ]
  },
  {
   "cell_type": "markdown",
   "metadata": {},
   "source": [
    "## 2. Dividir los datos en conjuntos de entrenamiento y prueba\n",
    "\n",
    "Para evaluar el modelo, dividimos los datos en conjuntos de entrenamiento y prueba. Usamos un 80% de los datos para entrenar y el 20% restante para probar."
   ]
  },
  {
   "cell_type": "code",
   "execution_count": 3,
   "metadata": {},
   "outputs": [],
   "source": [
    "# Dividir los datos en entrenamiento y prueba\n",
    "X_train, X_test, y_train, y_test = train_test_split(X, y, test_size=0.2, random_state=42, stratify=y)"
   ]
  },
  {
   "cell_type": "markdown",
   "metadata": {},
   "source": [
    "## 3. Entrenar un árbol de decisión\n",
    "\n",
    "Utilizamos el modelo DecisionTreeClassifier de Scikit-Learn y lo envolvemos en un MultiOutputClassifier para manejar el problema multietiqueta. Realizamos una búsqueda de hiperparámetros utilizando GridSearchCV."
   ]
  },
  {
   "cell_type": "code",
   "execution_count": 4,
   "metadata": {},
   "outputs": [],
   "source": [
    "# Modelo base: DecisionTreeClassifier\n",
    "cart_model = DecisionTreeClassifier(random_state=42)\n",
    "\n",
    "# Envolver en MultiOutputClassifier para clasificación multietiqueta\n",
    "multi_cart = MultiOutputClassifier(cart_model)"
   ]
  },
  {
   "cell_type": "code",
   "execution_count": 5,
   "metadata": {},
   "outputs": [
    {
     "name": "stdout",
     "output_type": "stream",
     "text": [
      "Mejores hiperparámetros: {'estimator__criterion': 'entropy', 'estimator__max_depth': 5, 'estimator__min_samples_leaf': 5, 'estimator__min_samples_split': 2}\n",
      "Mejor puntaje (AUROC): 0.8345002438536696\n"
     ]
    }
   ],
   "source": [
    "# Espacio de búsqueda\n",
    "param_grid = {\n",
    "    'estimator__criterion': ['gini', 'entropy'],\n",
    "    'estimator__max_depth': [3, 5, 10, None],\n",
    "    'estimator__min_samples_split': [2, 5, 10],\n",
    "    'estimator__min_samples_leaf': [1, 2, 5]\n",
    "}\n",
    "\n",
    "# Búsqueda de hiperparámetros\n",
    "opt = GridSearchCV(multi_cart, param_grid, cv=5, scoring='roc_auc', n_jobs=-1)\n",
    "\n",
    "# Entrenar el modelo con optimización\n",
    "opt.fit(X_train, y_train)\n",
    "\n",
    "# Mostrar los mejores hiperparámetros\n",
    "print(\"Mejores hiperparámetros:\", opt.best_params_)\n",
    "print(\"Mejor puntaje (AUROC):\", opt.best_score_)"
   ]
  },
  {
   "cell_type": "markdown",
   "metadata": {},
   "source": [
    "## 4. Evaluar el modelo\n",
    "\n",
    "Calculamos métricas de rendimiento clave, como precisión, recall, F1-score y nuestra métrica principal AUROC para ambas etiquetas."
   ]
  },
  {
   "cell_type": "code",
   "execution_count": 6,
   "metadata": {},
   "outputs": [
    {
     "name": "stdout",
     "output_type": "stream",
     "text": [
      "AUROC para H1N1: 0.8516725323537758\n",
      "AUROC para vacuna estacional: 0.8273459627937998\n",
      "Reporte de Clasificación:\n",
      "              precision    recall  f1-score   support\n",
      "\n",
      "           0       0.70      0.45      0.55      1135\n",
      "           1       0.80      0.62      0.70      2488\n",
      "\n",
      "   micro avg       0.77      0.57      0.65      3623\n",
      "   macro avg       0.75      0.54      0.62      3623\n",
      "weighted avg       0.77      0.57      0.65      3623\n",
      " samples avg       0.30      0.28      0.29      3623\n",
      "\n"
     ]
    },
    {
     "name": "stderr",
     "output_type": "stream",
     "text": [
      "c:\\USERS\\PABLO\\ONEDRIVE\\DOCUMENTOS\\ESTUDIOS\\DATCOM\\1ER CUATRIMESTRE\\MINERÍA DE DATOS. PREPROCESAMIENTO Y CLASIFICACIÓN\\FLUSHOTLEARNING\\VENV\\Lib\\site-packages\\sklearn\\metrics\\_classification.py:1565: UndefinedMetricWarning: Precision is ill-defined and being set to 0.0 in samples with no predicted labels. Use `zero_division` parameter to control this behavior.\n",
      "  _warn_prf(average, modifier, f\"{metric.capitalize()} is\", len(result))\n",
      "c:\\USERS\\PABLO\\ONEDRIVE\\DOCUMENTOS\\ESTUDIOS\\DATCOM\\1ER CUATRIMESTRE\\MINERÍA DE DATOS. PREPROCESAMIENTO Y CLASIFICACIÓN\\FLUSHOTLEARNING\\VENV\\Lib\\site-packages\\sklearn\\metrics\\_classification.py:1565: UndefinedMetricWarning: Recall is ill-defined and being set to 0.0 in samples with no true labels. Use `zero_division` parameter to control this behavior.\n",
      "  _warn_prf(average, modifier, f\"{metric.capitalize()} is\", len(result))\n",
      "c:\\USERS\\PABLO\\ONEDRIVE\\DOCUMENTOS\\ESTUDIOS\\DATCOM\\1ER CUATRIMESTRE\\MINERÍA DE DATOS. PREPROCESAMIENTO Y CLASIFICACIÓN\\FLUSHOTLEARNING\\VENV\\Lib\\site-packages\\sklearn\\metrics\\_classification.py:1565: UndefinedMetricWarning: F-score is ill-defined and being set to 0.0 in samples with no true nor predicted labels. Use `zero_division` parameter to control this behavior.\n",
      "  _warn_prf(average, modifier, f\"{metric.capitalize()} is\", len(result))\n"
     ]
    }
   ],
   "source": [
    "# Predicciones de probabilidad\n",
    "y_proba = opt.best_estimator_.predict_proba(X_test)\n",
    "\n",
    "# AUROC para cada etiqueta\n",
    "roc_auc_h1n1 = roc_auc_score(y_test['h1n1_vaccine'], y_proba[0][:, 1])\n",
    "roc_auc_seasonal = roc_auc_score(y_test['seasonal_vaccine'], y_proba[1][:, 1])\n",
    "\n",
    "print(f\"AUROC para H1N1: {roc_auc_h1n1}\")\n",
    "print(f\"AUROC para vacuna estacional: {roc_auc_seasonal}\")\n",
    "\n",
    "# Reporte de clasificación\n",
    "y_pred = opt.best_estimator_.predict(X_test)\n",
    "print(\"Reporte de Clasificación:\")\n",
    "print(classification_report(y_test, y_pred))"
   ]
  },
  {
   "cell_type": "markdown",
   "metadata": {},
   "source": [
    "# 5. Visualizar el árbol de decisión\n",
    "\n",
    "Visualizar el árbol nos ayuda a comprender cómo se toman las decisiones."
   ]
  },
  {
   "cell_type": "code",
   "execution_count": null,
   "metadata": {},
   "outputs": [],
   "source": []
  },
  {
   "cell_type": "markdown",
   "metadata": {},
   "source": [
    "## 6. Generar el archivo de envío a la competición\n",
    "\n",
    "Para generar el archivo de envío, aplicamos el modelo al dataset de prueba y creamos un archivo .csv con las predicciones."
   ]
  },
  {
   "cell_type": "code",
   "execution_count": null,
   "metadata": {},
   "outputs": [
    {
     "name": "stdout",
     "output_type": "stream",
     "text": [
      "Archivo 'DecisionTree_submission.csv' generado correctamente.\n"
     ]
    }
   ],
   "source": [
    "# Cargar el dataset de prueba preprocesado\n",
    "test_set_preprocessed = pd.read_csv(\"../../Data/preprocessed_test_simple_dataset.csv\")\n",
    "\n",
    "# Asegurarse de que respondent_id esté disponible\n",
    "respondent_ids = test_set_preprocessed['respondent_id']\n",
    "\n",
    "# Eliminar respondent_id del conjunto de características\n",
    "X_test_final = test_set_preprocessed.drop(columns=['respondent_id'])\n",
    "\n",
    "# Realizar predicciones de probabilidad\n",
    "y_proba_test = opt.best_estimator_.predict_proba(X_test_final)\n",
    "\n",
    "# Extraer las probabilidades para la clase positiva (1)\n",
    "y_proba_h1n1_test = y_proba_test[0][:, 1] \n",
    "y_proba_seasonal_test = y_proba_test[1][:, 1]\n",
    "\n",
    "# Crear el DataFrame de submission\n",
    "submission = pd.DataFrame({\n",
    "    \"respondent_id\": respondent_ids,\n",
    "    \"h1n1_vaccine\": y_proba_h1n1_test,\n",
    "    \"seasonal_vaccine\": y_proba_seasonal_test\n",
    "})\n",
    "\n",
    "# Guardar el archivo de submission\n",
    "submission.to_csv(\"Submissions/DecisionTree_submission.csv\", index=False)\n",
    "print(\"Archivo 'DecisionTree_submission.csv' generado correctamente.\")"
   ]
  }
 ],
 "metadata": {
  "kernelspec": {
   "display_name": "VENV",
   "language": "python",
   "name": "python3"
  },
  "language_info": {
   "codemirror_mode": {
    "name": "ipython",
    "version": 3
   },
   "file_extension": ".py",
   "mimetype": "text/x-python",
   "name": "python",
   "nbconvert_exporter": "python",
   "pygments_lexer": "ipython3",
   "version": "3.12.8"
  }
 },
 "nbformat": 4,
 "nbformat_minor": 2
}
