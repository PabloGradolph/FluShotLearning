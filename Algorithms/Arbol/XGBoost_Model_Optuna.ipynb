{
 "cells": [
  {
   "cell_type": "code",
   "execution_count": 6,
   "metadata": {},
   "outputs": [],
   "source": [
    "import pandas as pd\n",
    "from sklearn.model_selection import train_test_split\n",
    "from sklearn.metrics import roc_auc_score, classification_report\n",
    "from xgboost import XGBClassifier\n",
    "import optuna\n",
    "\n",
    "# Cargar los datos\n",
    "X = pd.read_csv(\"../../Data/preprocessed_training_simple_dataset.csv\", index_col=\"respondent_id\")\n",
    "y = pd.read_csv(\"../../Data/training_set_labels.csv\", index_col=\"respondent_id\", usecols=[\"respondent_id\", \"h1n1_vaccine\", \"seasonal_vaccine\"])\n",
    "\n",
    "# Dividir en entrenamiento y prueba\n",
    "X_train, X_test, y_train, y_test = train_test_split(X, y, test_size=0.2, random_state=42, stratify=y)"
   ]
  },
  {
   "cell_type": "code",
   "execution_count": 2,
   "metadata": {},
   "outputs": [],
   "source": [
    "def objective(trial):\n",
    "    # Hiperparámetros sugeridos por Optuna\n",
    "    params = {\n",
    "        'objective': 'binary:logistic',\n",
    "        'eval_metric': 'auc',\n",
    "        'learning_rate': trial.suggest_float('learning_rate', 0.01, 0.3, log=True),\n",
    "        'max_depth': trial.suggest_int('max_depth', 3, 10),\n",
    "        'n_estimators': trial.suggest_int('n_estimators', 50, 500),\n",
    "        'min_child_weight': trial.suggest_int('min_child_weight', 1, 10),\n",
    "        'gamma': trial.suggest_float('gamma', 0.0, 5.0),\n",
    "        'subsample': trial.suggest_float('subsample', 0.5, 1.0),\n",
    "        'colsample_bytree': trial.suggest_float('colsample_bytree', 0.5, 1.0),\n",
    "        'scale_pos_weight': trial.suggest_float('scale_pos_weight', 0.5, 2.0),\n",
    "    }\n",
    "    \n",
    "    # Crear modelos para cada etiqueta\n",
    "    model_h1n1 = XGBClassifier(**params, random_state=42)\n",
    "    model_seasonal = XGBClassifier(**params, random_state=42)\n",
    "    \n",
    "    # Entrenar modelos\n",
    "    model_h1n1.fit(X_train, y_train['h1n1_vaccine'])\n",
    "    model_seasonal.fit(X_train, y_train['seasonal_vaccine'])\n",
    "    \n",
    "    # Predicciones de probabilidad\n",
    "    y_proba_h1n1 = model_h1n1.predict_proba(X_test)[:, 1]\n",
    "    y_proba_seasonal = model_seasonal.predict_proba(X_test)[:, 1]\n",
    "    \n",
    "    # Calcular AUROC para cada etiqueta\n",
    "    roc_auc_h1n1 = roc_auc_score(y_test['h1n1_vaccine'], y_proba_h1n1)\n",
    "    roc_auc_seasonal = roc_auc_score(y_test['seasonal_vaccine'], y_proba_seasonal)\n",
    "    \n",
    "    # Retornar la media de las AUROCs como métrica objetivo\n",
    "    return (roc_auc_h1n1 + roc_auc_seasonal) / 2"
   ]
  },
  {
   "cell_type": "code",
   "execution_count": 3,
   "metadata": {},
   "outputs": [
    {
     "name": "stdout",
     "output_type": "stream",
     "text": [
      "Mejores hiperparámetros: {'learning_rate': 0.04212430307464364, 'max_depth': 10, 'n_estimators': 277, 'min_child_weight': 6, 'gamma': 4.282630483852609, 'subsample': 0.5937995709661643, 'colsample_bytree': 0.8692863672978095, 'scale_pos_weight': 1.0905098880402837}\n",
      "Mejor puntuación AUROC promedio: 0.870771494689784\n"
     ]
    }
   ],
   "source": [
    "# Silenciar Optuna\n",
    "optuna.logging.set_verbosity(optuna.logging.WARNING)\n",
    "\n",
    "# Configurar el estudio\n",
    "sampler = optuna.samplers.TPESampler(seed=42)\n",
    "study = optuna.create_study(direction='maximize', sampler=sampler)\n",
    "\n",
    "# Ejecutar la optimización\n",
    "study.optimize(objective, n_trials=50)\n",
    "\n",
    "# Mostrar los mejores hiperparámetros\n",
    "print(\"Mejores hiperparámetros:\", study.best_params)\n",
    "print(\"Mejor puntuación AUROC promedio:\", study.best_value)"
   ]
  },
  {
   "cell_type": "code",
   "execution_count": 4,
   "metadata": {},
   "outputs": [
    {
     "data": {
      "text/plain": [
       "['Modelos/XGBoost_seasonal_model.pkl']"
      ]
     },
     "execution_count": 4,
     "metadata": {},
     "output_type": "execute_result"
    }
   ],
   "source": [
    "# Usar los mejores hiperparámetros para entrenar los modelos finales\n",
    "best_params = study.best_params\n",
    "\n",
    "# Modelos finales\n",
    "final_model_h1n1 = XGBClassifier(**best_params, random_state=42)\n",
    "final_model_seasonal = XGBClassifier(**best_params, random_state=42)\n",
    "\n",
    "# Entrenar modelos\n",
    "final_model_h1n1.fit(X_train, y_train['h1n1_vaccine'])\n",
    "final_model_seasonal.fit(X_train, y_train['seasonal_vaccine'])\n",
    "\n",
    "# Guardar modelos\n",
    "import joblib\n",
    "joblib.dump(final_model_h1n1, \"Modelos/XGBoost_h1n1_model.pkl\")\n",
    "joblib.dump(final_model_seasonal, \"Modelos/XGBoost_seasonal_model.pkl\")"
   ]
  },
  {
   "cell_type": "code",
   "execution_count": 10,
   "metadata": {},
   "outputs": [
    {
     "name": "stdout",
     "output_type": "stream",
     "text": [
      "AUROC para H1N1: 0.8776323078066868\n",
      "AUROC para vacuna estacional: 0.8639106815728813\n",
      "Reporte de Clasificación H1N1:\n",
      "              precision    recall  f1-score   support\n",
      "\n",
      "           0       0.88      0.94      0.91      4207\n",
      "           1       0.72      0.54      0.62      1135\n",
      "\n",
      "    accuracy                           0.86      5342\n",
      "   macro avg       0.80      0.74      0.77      5342\n",
      "weighted avg       0.85      0.86      0.85      5342\n",
      "\n",
      "Reporte de Clasificación Seasonal:\n",
      "              precision    recall  f1-score   support\n",
      "\n",
      "           0       0.80      0.80      0.80      2854\n",
      "           1       0.77      0.77      0.77      2488\n",
      "\n",
      "    accuracy                           0.79      5342\n",
      "   macro avg       0.78      0.78      0.78      5342\n",
      "weighted avg       0.79      0.79      0.79      5342\n",
      "\n"
     ]
    }
   ],
   "source": [
    "y_pred_h1n1 = final_model_h1n1.predict(X_test)\n",
    "y_pred_seasonal = final_model_seasonal.predict(X_test)\n",
    "\n",
    "# Predicciones de probabilidad en el conjunto de prueba\n",
    "y_proba_h1n1 = final_model_h1n1.predict_proba(X_test)[:, 1]\n",
    "y_proba_seasonal = final_model_seasonal.predict_proba(X_test)[:, 1]\n",
    "\n",
    "# Calcular AUROC para cada etiqueta\n",
    "roc_auc_h1n1 = roc_auc_score(y_test['h1n1_vaccine'], y_proba_h1n1)\n",
    "roc_auc_seasonal = roc_auc_score(y_test['seasonal_vaccine'], y_proba_seasonal)\n",
    "\n",
    "print(f\"AUROC para H1N1: {roc_auc_h1n1}\")\n",
    "print(f\"AUROC para vacuna estacional: {roc_auc_seasonal}\")\n",
    "\n",
    "# Informe de clasificación\n",
    "print(\"Reporte de Clasificación H1N1:\")\n",
    "print(classification_report(y_test['h1n1_vaccine'], y_pred_h1n1))\n",
    "\n",
    "print(\"Reporte de Clasificación Seasonal:\")\n",
    "print(classification_report(y_test['seasonal_vaccine'], y_pred_seasonal))"
   ]
  },
  {
   "cell_type": "code",
   "execution_count": 11,
   "metadata": {},
   "outputs": [
    {
     "name": "stdout",
     "output_type": "stream",
     "text": [
      "Archivo 'XGBoost_Optuna_submission.csv' generado correctamente.\n"
     ]
    }
   ],
   "source": [
    "# Cargar el dataset de prueba preprocesado\n",
    "test_set_preprocessed = pd.read_csv(\"../../Data/preprocessed_test_simple_dataset.csv\")\n",
    "\n",
    "# Asegurarse de que respondent_id esté disponible\n",
    "respondent_ids = test_set_preprocessed['respondent_id']\n",
    "\n",
    "# Eliminar respondent_id del conjunto de características\n",
    "X_test_final = test_set_preprocessed.drop(columns=['respondent_id'])\n",
    "\n",
    "# Predicciones de probabilidad para H1N1\n",
    "y_proba_h1n1_test = final_model_h1n1.predict_proba(X_test_final)[:, 1]  # Probabilidades de la clase positiva (1)\n",
    "\n",
    "# Predicciones de probabilidad para vacuna estacional\n",
    "y_proba_seasonal_test = final_model_seasonal.predict_proba(X_test_final)[:, 1]  # Probabilidades de la clase positiva (1)\n",
    "\n",
    "# Crear el DataFrame de submission\n",
    "submission = pd.DataFrame({\n",
    "    \"respondent_id\": respondent_ids,\n",
    "    \"h1n1_vaccine\": y_proba_h1n1_test,\n",
    "    \"seasonal_vaccine\": y_proba_seasonal_test\n",
    "})\n",
    "\n",
    "# Guardar el archivo de submission\n",
    "submission.to_csv(\"Submissions/XGBoost_Optuna_submission.csv\", index=False)\n",
    "print(\"Archivo 'XGBoost_Optuna_submission.csv' generado correctamente.\")"
   ]
  }
 ],
 "metadata": {
  "kernelspec": {
   "display_name": "VENV",
   "language": "python",
   "name": "python3"
  },
  "language_info": {
   "codemirror_mode": {
    "name": "ipython",
    "version": 3
   },
   "file_extension": ".py",
   "mimetype": "text/x-python",
   "name": "python",
   "nbconvert_exporter": "python",
   "pygments_lexer": "ipython3",
   "version": "3.12.8"
  }
 },
 "nbformat": 4,
 "nbformat_minor": 2
}
