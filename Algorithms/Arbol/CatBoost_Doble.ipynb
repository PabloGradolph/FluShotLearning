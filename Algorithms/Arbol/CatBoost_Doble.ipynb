{
 "cells": [
  {
   "cell_type": "code",
   "execution_count": 2,
   "metadata": {},
   "outputs": [],
   "source": [
    "import pandas as pd\n",
    "from sklearn.model_selection import train_test_split\n",
    "from sklearn.metrics import roc_auc_score, classification_report\n",
    "from catboost import CatBoostClassifier\n",
    "from skopt import BayesSearchCV\n",
    "from skopt.space import Real, Integer, Categorical\n",
    "import joblib\n",
    "\n",
    "# Cargar los datos\n",
    "X = pd.read_csv(\"../../Data/preprocessed_training_dataset.csv\", index_col=\"respondent_id\")\n",
    "y = pd.read_csv(\"../../Data/training_set_labels.csv\", index_col=\"respondent_id\", usecols=[\"respondent_id\", \"h1n1_vaccine\", \"seasonal_vaccine\"])\n",
    "\n",
    "# Dividir en entrenamiento y prueba\n",
    "X_train, X_test, y_train, y_test = train_test_split(X, y, test_size=0.2, random_state=42, stratify=y)"
   ]
  },
  {
   "cell_type": "code",
   "execution_count": 3,
   "metadata": {},
   "outputs": [],
   "source": [
    "# Espacio de búsqueda\n",
    "search_space = {\n",
    "    'depth': Integer(3, 10),  # Profundidad del árbol\n",
    "    'learning_rate': Real(0.01, 0.3, prior='log-uniform'),  # Tasa de aprendizaje\n",
    "    'l2_leaf_reg': Real(1, 10, prior='log-uniform'),  # Regularización L2\n",
    "    'bagging_temperature': Real(0.0, 1.0),  # Temperatura de bagging\n",
    "    'iterations': Integer(50, 500),  # Número de iteraciones\n",
    "    'random_strength': Real(0.0, 10.0),  # Fuerza de aleatoriedad\n",
    "    'auto_class_weights': Categorical(['Balanced', 'SqrtBalanced']),  # Pesos automáticos\n",
    "}"
   ]
  },
  {
   "cell_type": "code",
   "execution_count": 4,
   "metadata": {},
   "outputs": [
    {
     "name": "stdout",
     "output_type": "stream",
     "text": [
      "Mejores hiperparámetros para H1N1: OrderedDict({'auto_class_weights': 'SqrtBalanced', 'bagging_temperature': 0.6326418282192219, 'depth': 5, 'iterations': 383, 'l2_leaf_reg': 9.32484055871332, 'learning_rate': 0.045956717765173294, 'random_strength': 0.41835870030917827})\n",
      "Mejor puntaje (AUROC): 0.8401836714526072\n"
     ]
    }
   ],
   "source": [
    "# Modelo base para H1N1\n",
    "catboost_h1n1 = CatBoostClassifier(\n",
    "    loss_function='Logloss',\n",
    "    eval_metric='AUC',\n",
    "    verbose=0,\n",
    "    random_seed=42\n",
    ")\n",
    "\n",
    "# BayesSearchCV para H1N1\n",
    "opt_h1n1 = BayesSearchCV(\n",
    "    estimator=catboost_h1n1,\n",
    "    search_spaces=search_space,\n",
    "    cv=5,\n",
    "    n_iter=50,\n",
    "    scoring='roc_auc',\n",
    "    n_jobs=-1,\n",
    "    random_state=42\n",
    ")\n",
    "\n",
    "# Entrenar el modelo para H1N1\n",
    "opt_h1n1.fit(X_train, y_train['h1n1_vaccine'])\n",
    "\n",
    "# Mostrar los mejores hiperparámetros para H1N1\n",
    "print(\"Mejores hiperparámetros para H1N1:\", opt_h1n1.best_params_)\n",
    "print(\"Mejor puntaje (AUROC):\", opt_h1n1.best_score_)"
   ]
  },
  {
   "cell_type": "code",
   "execution_count": 5,
   "metadata": {},
   "outputs": [
    {
     "name": "stdout",
     "output_type": "stream",
     "text": [
      "Mejores hiperparámetros para vacuna estacional: OrderedDict({'auto_class_weights': 'SqrtBalanced', 'bagging_temperature': 0.0, 'depth': 6, 'iterations': 288, 'l2_leaf_reg': 10.0, 'learning_rate': 0.07066138863910175, 'random_strength': 1.0958858256584423})\n",
      "Mejor puntaje (AUROC): 0.8605428042946428\n"
     ]
    }
   ],
   "source": [
    "# Modelo base para vacuna estacional\n",
    "catboost_seasonal = CatBoostClassifier(\n",
    "    loss_function='Logloss',\n",
    "    eval_metric='AUC',\n",
    "    verbose=0,\n",
    "    random_seed=42\n",
    ")\n",
    "\n",
    "# BayesSearchCV para vacuna estacional\n",
    "opt_seasonal = BayesSearchCV(\n",
    "    estimator=catboost_seasonal,\n",
    "    search_spaces=search_space,\n",
    "    cv=5,\n",
    "    n_iter=50,\n",
    "    scoring='roc_auc',\n",
    "    n_jobs=-1,\n",
    "    random_state=42\n",
    ")\n",
    "\n",
    "# Entrenar el modelo para vacuna estacional\n",
    "opt_seasonal.fit(X_train, y_train['seasonal_vaccine'])\n",
    "\n",
    "# Mostrar los mejores hiperparámetros para vacuna estacional\n",
    "print(\"Mejores hiperparámetros para vacuna estacional:\", opt_seasonal.best_params_)\n",
    "print(\"Mejor puntaje (AUROC):\", opt_seasonal.best_score_)\n"
   ]
  },
  {
   "cell_type": "code",
   "execution_count": 6,
   "metadata": {},
   "outputs": [
    {
     "name": "stdout",
     "output_type": "stream",
     "text": [
      "AUROC para H1N1: 0.8456966520033216\n",
      "AUROC para vacuna estacional: 0.8620802416420121\n",
      "\n",
      "Reporte de Clasificación para H1N1:\n",
      "              precision    recall  f1-score   support\n",
      "\n",
      "           0       0.89      0.89      0.89      4207\n",
      "           1       0.59      0.60      0.60      1135\n",
      "\n",
      "    accuracy                           0.83      5342\n",
      "   macro avg       0.74      0.74      0.74      5342\n",
      "weighted avg       0.83      0.83      0.83      5342\n",
      "\n",
      "\n",
      "Reporte de Clasificación para Vacuna Estacional:\n",
      "              precision    recall  f1-score   support\n",
      "\n",
      "           0       0.80      0.80      0.80      2854\n",
      "           1       0.77      0.77      0.77      2488\n",
      "\n",
      "    accuracy                           0.79      5342\n",
      "   macro avg       0.79      0.79      0.79      5342\n",
      "weighted avg       0.79      0.79      0.79      5342\n",
      "\n"
     ]
    }
   ],
   "source": [
    "# Predicciones de probabilidad en el conjunto de prueba\n",
    "y_proba_h1n1 = opt_h1n1.best_estimator_.predict_proba(X_test)[:, 1]\n",
    "y_proba_seasonal = opt_seasonal.best_estimator_.predict_proba(X_test)[:, 1]\n",
    "\n",
    "# Calcular AUROC para cada etiqueta\n",
    "roc_auc_h1n1 = roc_auc_score(y_test['h1n1_vaccine'], y_proba_h1n1)\n",
    "roc_auc_seasonal = roc_auc_score(y_test['seasonal_vaccine'], y_proba_seasonal)\n",
    "\n",
    "print(f\"AUROC para H1N1: {roc_auc_h1n1}\")\n",
    "print(f\"AUROC para vacuna estacional: {roc_auc_seasonal}\")\n",
    "\n",
    "# Predicciones finales\n",
    "y_pred_h1n1 = opt_h1n1.best_estimator_.predict(X_test)\n",
    "y_pred_seasonal = opt_seasonal.best_estimator_.predict(X_test)\n",
    "\n",
    "# Reporte de clasificación\n",
    "print(\"\\nReporte de Clasificación para H1N1:\")\n",
    "print(classification_report(y_test['h1n1_vaccine'], y_pred_h1n1))\n",
    "\n",
    "print(\"\\nReporte de Clasificación para Vacuna Estacional:\")\n",
    "print(classification_report(y_test['seasonal_vaccine'], y_pred_seasonal))"
   ]
  },
  {
   "cell_type": "code",
   "execution_count": 7,
   "metadata": {},
   "outputs": [
    {
     "name": "stdout",
     "output_type": "stream",
     "text": [
      "Modelos guardados correctamente.\n"
     ]
    }
   ],
   "source": [
    "# Guardar los mejores modelos\n",
    "joblib.dump(opt_h1n1.best_estimator_, \"CatBoost_H1N1_Model.pkl\")\n",
    "joblib.dump(opt_seasonal.best_estimator_, \"CatBoost_Seasonal_Model.pkl\")\n",
    "print(\"Modelos guardados correctamente.\")"
   ]
  },
  {
   "cell_type": "code",
   "execution_count": 8,
   "metadata": {},
   "outputs": [
    {
     "name": "stdout",
     "output_type": "stream",
     "text": [
      "Archivo 'CatBoost_Optuna_submission.csv' generado correctamente.\n"
     ]
    }
   ],
   "source": [
    "# Cargar el dataset de prueba preprocesado\n",
    "test_set_preprocessed = pd.read_csv(\"../../Data/preprocessed_test_dataset.csv\")\n",
    "\n",
    "# Asegurarse de que respondent_id esté disponible\n",
    "respondent_ids = test_set_preprocessed['respondent_id']\n",
    "\n",
    "# Eliminar respondent_id del conjunto de características\n",
    "X_test_final = test_set_preprocessed.drop(columns=['respondent_id'])\n",
    "\n",
    "# Predicciones de probabilidad para H1N1\n",
    "y_proba_h1n1_test = opt_h1n1.best_estimator_.predict_proba(X_test_final)[:, 1]  # Probabilidades de la clase positiva (1)\n",
    "\n",
    "# Predicciones de probabilidad para vacuna estacional\n",
    "y_proba_seasonal_test = opt_seasonal.best_estimator_.predict_proba(X_test_final)[:, 1]  # Probabilidades de la clase positiva (1)\n",
    "\n",
    "# Crear el DataFrame de submission\n",
    "submission = pd.DataFrame({\n",
    "    \"respondent_id\": respondent_ids,\n",
    "    \"h1n1_vaccine\": y_proba_h1n1_test,\n",
    "    \"seasonal_vaccine\": y_proba_seasonal_test\n",
    "})\n",
    "\n",
    "# Guardar el archivo de submission\n",
    "submission.to_csv(\"Submissions/CatBoost_Doble_submission.csv\", index=False)\n",
    "print(\"Archivo 'CatBoost_Doble_submission.csv' generado correctamente.\")"
   ]
  }
 ],
 "metadata": {
  "kernelspec": {
   "display_name": "VENV",
   "language": "python",
   "name": "python3"
  },
  "language_info": {
   "codemirror_mode": {
    "name": "ipython",
    "version": 3
   },
   "file_extension": ".py",
   "mimetype": "text/x-python",
   "name": "python",
   "nbconvert_exporter": "python",
   "pygments_lexer": "ipython3",
   "version": "3.12.8"
  }
 },
 "nbformat": 4,
 "nbformat_minor": 2
}
