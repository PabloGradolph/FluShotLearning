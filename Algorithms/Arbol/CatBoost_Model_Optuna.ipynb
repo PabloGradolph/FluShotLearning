{
 "cells": [
  {
   "cell_type": "markdown",
   "metadata": {},
   "source": [
    "# Predicción de Vacunación con CatBoost y Optuna\n",
    "\n",
    "## Introducción\n",
    "\n",
    "En este notebook, implementaremos un modelo basado en CatBoost para predecir la probabilidad de vacunación contra H1N1 y vacunas estacionales. Usaremos Optuna para la optimización de hiperparámetros y realizaremos un análisis detallado de las métricas del modelo."
   ]
  },
  {
   "cell_type": "code",
   "execution_count": 2,
   "metadata": {},
   "outputs": [
    {
     "name": "stderr",
     "output_type": "stream",
     "text": [
      "c:\\USERS\\PABLO\\ONEDRIVE\\DOCUMENTOS\\ESTUDIOS\\DATCOM\\1ER CUATRIMESTRE\\MINERÍA DE DATOS. PREPROCESAMIENTO Y CLASIFICACIÓN\\FLUSHOTLEARNING\\VENV\\Lib\\site-packages\\tqdm\\auto.py:21: TqdmWarning: IProgress not found. Please update jupyter and ipywidgets. See https://ipywidgets.readthedocs.io/en/stable/user_install.html\n",
      "  from .autonotebook import tqdm as notebook_tqdm\n"
     ]
    }
   ],
   "source": [
    "import optuna\n",
    "import pandas as pd\n",
    "import numpy as np\n",
    "import catboost\n",
    "import sys\n",
    "from catboost import CatBoostClassifier, Pool, cv\n",
    "from sklearn.model_selection import train_test_split\n",
    "import pandas as pd\n",
    "from catboost import CatBoostClassifier, Pool\n",
    "from sklearn.model_selection import train_test_split, StratifiedKFold\n",
    "from sklearn.metrics import roc_auc_score, roc_curve, classification_report, confusion_matrix, ConfusionMatrixDisplay\n",
    "import optuna.visualization as vis\n",
    "import matplotlib.pyplot as plt"
   ]
  },
  {
   "cell_type": "markdown",
   "metadata": {},
   "source": [
    "## 1. Carga de datos\n",
    "\n",
    "Comenzamos cargando el dataset preprocesado (preprocessed_training_simple_dataset.csv) que contiene las características, y el archivo de etiquetas (training_set_labels.csv) que incluye las variables objetivo: h1n1_vaccine y seasonal_vaccine."
   ]
  },
  {
   "cell_type": "code",
   "execution_count": 3,
   "metadata": {},
   "outputs": [],
   "source": [
    "# Cargar datos\n",
    "X = pd.read_csv(\"../../Data/preprocessed_training_simple_dataset.csv\", index_col=\"respondent_id\")\n",
    "y = pd.read_csv(\"../../Data/training_set_labels.csv\", index_col=\"respondent_id\")"
   ]
  },
  {
   "cell_type": "markdown",
   "metadata": {},
   "source": [
    "## 2. Dividir los datos en conjuntos de entrenamiento y prueba\n",
    "\n",
    "Separaremos el dataset en entrenamiento (80%) y prueba (20%) para evaluar el rendimiento del modelo."
   ]
  },
  {
   "cell_type": "code",
   "execution_count": 4,
   "metadata": {},
   "outputs": [],
   "source": [
    "# Dividir datos en entrenamiento y prueba\n",
    "X_train, X_test, y_train, y_test = train_test_split(X, y, test_size=0.2, random_state=42, stratify=y)\n",
    "\n",
    "# Separar las etiquetas para entrenar dos modelos independientes\n",
    "y_train_h1n1 = y_train['h1n1_vaccine']\n",
    "y_train_seasonal = y_train['seasonal_vaccine']\n",
    "y_test_h1n1 = y_test['h1n1_vaccine']\n",
    "y_test_seasonal = y_test['seasonal_vaccine']"
   ]
  },
  {
   "cell_type": "markdown",
   "metadata": {},
   "source": [
    "## 3. Optimización de Hiperparámetros con Optuna\n",
    "\n",
    "Usamos Optuna para encontrar los mejores hiperparámetros para nuestro modelo CatBoost.\n",
    "\n",
    "### Función Objetivo\n",
    "\n",
    "La función objetivo define el espacio de búsqueda de hiperparámetros y entrena el modelo en validación cruzada."
   ]
  },
  {
   "cell_type": "code",
   "execution_count": 5,
   "metadata": {},
   "outputs": [],
   "source": [
    "train_dataset = Pool(data=X_train,\n",
    "                     label=y_train['h1n1_vaccine'])"
   ]
  },
  {
   "cell_type": "code",
   "execution_count": 6,
   "metadata": {},
   "outputs": [],
   "source": [
    "def objective_h1n1(trial):\n",
    "    param = {\n",
    "        'iterations':trial.suggest_categorical('iterations', [100,200,300,500,1000,1200,1500]),\n",
    "        'learning_rate':trial.suggest_float(\"learning_rate\", 0.001, 0.3),\n",
    "        'random_strength':trial.suggest_int(\"random_strength\", 1,10),\n",
    "        'bagging_temperature':trial.suggest_int(\"bagging_temperature\", 0,10),\n",
    "        'max_bin':trial.suggest_categorical('max_bin', [4,5,6,8,10,20,30]),\n",
    "        'grow_policy':trial.suggest_categorical('grow_policy', ['SymmetricTree', 'Depthwise', 'Lossguide']),\n",
    "        'min_data_in_leaf':trial.suggest_int(\"min_data_in_leaf\", 1,10),\n",
    "        'od_type' : \"Iter\",\n",
    "        'od_wait' : 100,\n",
    "        \"depth\": trial.suggest_int(\"max_depth\", 2,10),\n",
    "        \"l2_leaf_reg\": trial.suggest_float(\"l2_leaf_reg\", 1e-8, 100, log=True),\n",
    "         'one_hot_max_size':trial.suggest_categorical('one_hot_max_size', [5,10,12,100,500,1024]),\n",
    "        'custom_metric' : ['AUC'],\n",
    "        \"loss_function\": \"Logloss\",\n",
    "        'auto_class_weights':trial.suggest_categorical('auto_class_weights', ['Balanced', 'SqrtBalanced']),\n",
    "        }\n",
    "\n",
    "    scores = cv(train_dataset,\n",
    "            param,\n",
    "            fold_count=5, \n",
    "            early_stopping_rounds=10,         \n",
    "            plot=False, verbose=False)\n",
    "\n",
    "    return scores['test-AUC-mean'].max()"
   ]
  },
  {
   "cell_type": "code",
   "execution_count": 26,
   "metadata": {},
   "outputs": [],
   "source": [
    "def objective_seasonal(trial):\n",
    "    param = {\n",
    "        'iterations':trial.suggest_categorical('iterations', [100,200,300,500,1000,1200,1500]),\n",
    "        'learning_rate':trial.suggest_float(\"learning_rate\", 0.001, 0.3),\n",
    "        'random_strength':trial.suggest_int(\"random_strength\", 1,10),\n",
    "        'bagging_temperature':trial.suggest_int(\"bagging_temperature\", 0,10),\n",
    "        'max_bin':trial.suggest_categorical('max_bin', [4,5,6,8,10,20,30]),\n",
    "        'grow_policy':trial.suggest_categorical('grow_policy', ['SymmetricTree', 'Depthwise', 'Lossguide']),\n",
    "        'min_data_in_leaf':trial.suggest_int(\"min_data_in_leaf\", 1,10),\n",
    "        'od_type' : \"Iter\",\n",
    "        'od_wait' : 100,\n",
    "        \"depth\": trial.suggest_int(\"max_depth\", 2,10),\n",
    "        \"l2_leaf_reg\": trial.suggest_float(\"l2_leaf_reg\", 1e-8, 100, log=True),\n",
    "         'one_hot_max_size':trial.suggest_categorical('one_hot_max_size', [5,10,12,100,500,1024]),\n",
    "        'custom_metric' : ['AUC'],\n",
    "        \"loss_function\": \"Logloss\",\n",
    "        'auto_class_weights':trial.suggest_categorical('auto_class_weights', ['Balanced', 'SqrtBalanced']),\n",
    "        }\n",
    "\n",
    "    scores = cv(train_dataset,\n",
    "            param,\n",
    "            fold_count=5, \n",
    "            early_stopping_rounds=10,         \n",
    "            plot=False, verbose=False)\n",
    "\n",
    "    return scores['test-AUC-mean'].max()"
   ]
  },
  {
   "cell_type": "code",
   "execution_count": 7,
   "metadata": {},
   "outputs": [
    {
     "name": "stderr",
     "output_type": "stream",
     "text": [
      "Best trial: 25. Best value: 0.869567: 100%|██████████| 50/50 [17:56<00:00, 21.54s/it]\n"
     ]
    }
   ],
   "source": [
    "# Silenciar Optuna\n",
    "optuna.logging.set_verbosity(optuna.logging.WARNING)\n",
    "\n",
    "# Optimización para H1N1\n",
    "sampler = optuna.samplers.TPESampler(n_startup_trials=10, seed=42)\n",
    "study_h1n1 = optuna.create_study(direction='maximize', sampler=sampler)\n",
    "\n",
    "# Configurar para silenciar toda salida\n",
    "with open('nul', 'w') as fnull:\n",
    "    sys.stdout = fnull  # Redirigir toda la salida\n",
    "\n",
    "    # Ejecutar la optimización con salida silenciada\n",
    "    study_h1n1.optimize(objective_h1n1, n_trials=50, show_progress_bar=True)\n",
    "\n",
    "# Restaurar salida estándar\n",
    "sys.stdout = sys.__stdout__"
   ]
  },
  {
   "cell_type": "code",
   "execution_count": 8,
   "metadata": {},
   "outputs": [
    {
     "data": {
      "text/plain": [
       "{'max_bin': 0.35270877311227444,\n",
       " 'learning_rate': 0.30146344315655826,\n",
       " 'min_data_in_leaf': 0.09768121676603778,\n",
       " 'l2_leaf_reg': 0.06999175869251471,\n",
       " 'max_depth': 0.060987552903849294,\n",
       " 'iterations': 0.047210154653009075,\n",
       " 'bagging_temperature': 0.02683031160035377,\n",
       " 'one_hot_max_size': 0.021770996678597943,\n",
       " 'random_strength': 0.009486698878524,\n",
       " 'auto_class_weights': 0.006269620575287422,\n",
       " 'grow_policy': 0.005599472982993472}"
      ]
     },
     "execution_count": 8,
     "metadata": {},
     "output_type": "execute_result"
    }
   ],
   "source": [
    "optuna.importance.get_param_importances(study_h1n1)"
   ]
  },
  {
   "cell_type": "code",
   "execution_count": 9,
   "metadata": {},
   "outputs": [
    {
     "data": {
      "application/vnd.plotly.v1+json": {
       "config": {
        "plotlyServerURL": "https://plot.ly"
       },
       "data": [
        {
         "cliponaxis": false,
         "hovertemplate": [
          "grow_policy (CategoricalDistribution): 0.0013001694416217894<extra></extra>",
          "random_strength (IntDistribution): 0.0030701332024754523<extra></extra>",
          "bagging_temperature (IntDistribution): 0.013781586722321455<extra></extra>",
          "auto_class_weights (CategoricalDistribution): 0.016718797617114717<extra></extra>",
          "l2_leaf_reg (FloatDistribution): 0.03253772831644765<extra></extra>",
          "iterations (CategoricalDistribution): 0.04211459095871971<extra></extra>",
          "max_depth (IntDistribution): 0.04628200361197562<extra></extra>",
          "one_hot_max_size (CategoricalDistribution): 0.049008641387930624<extra></extra>",
          "min_data_in_leaf (IntDistribution): 0.06796921631927744<extra></extra>",
          "learning_rate (FloatDistribution): 0.3260835176608963<extra></extra>",
          "max_bin (CategoricalDistribution): 0.4011336147612191<extra></extra>"
         ],
         "name": "Objective Value",
         "orientation": "h",
         "text": [
          "<0.01",
          "<0.01",
          "0.01",
          "0.02",
          "0.03",
          "0.04",
          "0.05",
          "0.05",
          "0.07",
          "0.33",
          "0.40"
         ],
         "textposition": "outside",
         "type": "bar",
         "x": [
          0.0013001694416217894,
          0.0030701332024754523,
          0.013781586722321455,
          0.016718797617114717,
          0.03253772831644765,
          0.04211459095871971,
          0.04628200361197562,
          0.049008641387930624,
          0.06796921631927744,
          0.3260835176608963,
          0.4011336147612191
         ],
         "y": [
          "grow_policy",
          "random_strength",
          "bagging_temperature",
          "auto_class_weights",
          "l2_leaf_reg",
          "iterations",
          "max_depth",
          "one_hot_max_size",
          "min_data_in_leaf",
          "learning_rate",
          "max_bin"
         ]
        }
       ],
       "layout": {
        "template": {
         "data": {
          "bar": [
           {
            "error_x": {
             "color": "#2a3f5f"
            },
            "error_y": {
             "color": "#2a3f5f"
            },
            "marker": {
             "line": {
              "color": "#E5ECF6",
              "width": 0.5
             },
             "pattern": {
              "fillmode": "overlay",
              "size": 10,
              "solidity": 0.2
             }
            },
            "type": "bar"
           }
          ],
          "barpolar": [
           {
            "marker": {
             "line": {
              "color": "#E5ECF6",
              "width": 0.5
             },
             "pattern": {
              "fillmode": "overlay",
              "size": 10,
              "solidity": 0.2
             }
            },
            "type": "barpolar"
           }
          ],
          "carpet": [
           {
            "aaxis": {
             "endlinecolor": "#2a3f5f",
             "gridcolor": "white",
             "linecolor": "white",
             "minorgridcolor": "white",
             "startlinecolor": "#2a3f5f"
            },
            "baxis": {
             "endlinecolor": "#2a3f5f",
             "gridcolor": "white",
             "linecolor": "white",
             "minorgridcolor": "white",
             "startlinecolor": "#2a3f5f"
            },
            "type": "carpet"
           }
          ],
          "choropleth": [
           {
            "colorbar": {
             "outlinewidth": 0,
             "ticks": ""
            },
            "type": "choropleth"
           }
          ],
          "contour": [
           {
            "colorbar": {
             "outlinewidth": 0,
             "ticks": ""
            },
            "colorscale": [
             [
              0,
              "#0d0887"
             ],
             [
              0.1111111111111111,
              "#46039f"
             ],
             [
              0.2222222222222222,
              "#7201a8"
             ],
             [
              0.3333333333333333,
              "#9c179e"
             ],
             [
              0.4444444444444444,
              "#bd3786"
             ],
             [
              0.5555555555555556,
              "#d8576b"
             ],
             [
              0.6666666666666666,
              "#ed7953"
             ],
             [
              0.7777777777777778,
              "#fb9f3a"
             ],
             [
              0.8888888888888888,
              "#fdca26"
             ],
             [
              1,
              "#f0f921"
             ]
            ],
            "type": "contour"
           }
          ],
          "contourcarpet": [
           {
            "colorbar": {
             "outlinewidth": 0,
             "ticks": ""
            },
            "type": "contourcarpet"
           }
          ],
          "heatmap": [
           {
            "colorbar": {
             "outlinewidth": 0,
             "ticks": ""
            },
            "colorscale": [
             [
              0,
              "#0d0887"
             ],
             [
              0.1111111111111111,
              "#46039f"
             ],
             [
              0.2222222222222222,
              "#7201a8"
             ],
             [
              0.3333333333333333,
              "#9c179e"
             ],
             [
              0.4444444444444444,
              "#bd3786"
             ],
             [
              0.5555555555555556,
              "#d8576b"
             ],
             [
              0.6666666666666666,
              "#ed7953"
             ],
             [
              0.7777777777777778,
              "#fb9f3a"
             ],
             [
              0.8888888888888888,
              "#fdca26"
             ],
             [
              1,
              "#f0f921"
             ]
            ],
            "type": "heatmap"
           }
          ],
          "heatmapgl": [
           {
            "colorbar": {
             "outlinewidth": 0,
             "ticks": ""
            },
            "colorscale": [
             [
              0,
              "#0d0887"
             ],
             [
              0.1111111111111111,
              "#46039f"
             ],
             [
              0.2222222222222222,
              "#7201a8"
             ],
             [
              0.3333333333333333,
              "#9c179e"
             ],
             [
              0.4444444444444444,
              "#bd3786"
             ],
             [
              0.5555555555555556,
              "#d8576b"
             ],
             [
              0.6666666666666666,
              "#ed7953"
             ],
             [
              0.7777777777777778,
              "#fb9f3a"
             ],
             [
              0.8888888888888888,
              "#fdca26"
             ],
             [
              1,
              "#f0f921"
             ]
            ],
            "type": "heatmapgl"
           }
          ],
          "histogram": [
           {
            "marker": {
             "pattern": {
              "fillmode": "overlay",
              "size": 10,
              "solidity": 0.2
             }
            },
            "type": "histogram"
           }
          ],
          "histogram2d": [
           {
            "colorbar": {
             "outlinewidth": 0,
             "ticks": ""
            },
            "colorscale": [
             [
              0,
              "#0d0887"
             ],
             [
              0.1111111111111111,
              "#46039f"
             ],
             [
              0.2222222222222222,
              "#7201a8"
             ],
             [
              0.3333333333333333,
              "#9c179e"
             ],
             [
              0.4444444444444444,
              "#bd3786"
             ],
             [
              0.5555555555555556,
              "#d8576b"
             ],
             [
              0.6666666666666666,
              "#ed7953"
             ],
             [
              0.7777777777777778,
              "#fb9f3a"
             ],
             [
              0.8888888888888888,
              "#fdca26"
             ],
             [
              1,
              "#f0f921"
             ]
            ],
            "type": "histogram2d"
           }
          ],
          "histogram2dcontour": [
           {
            "colorbar": {
             "outlinewidth": 0,
             "ticks": ""
            },
            "colorscale": [
             [
              0,
              "#0d0887"
             ],
             [
              0.1111111111111111,
              "#46039f"
             ],
             [
              0.2222222222222222,
              "#7201a8"
             ],
             [
              0.3333333333333333,
              "#9c179e"
             ],
             [
              0.4444444444444444,
              "#bd3786"
             ],
             [
              0.5555555555555556,
              "#d8576b"
             ],
             [
              0.6666666666666666,
              "#ed7953"
             ],
             [
              0.7777777777777778,
              "#fb9f3a"
             ],
             [
              0.8888888888888888,
              "#fdca26"
             ],
             [
              1,
              "#f0f921"
             ]
            ],
            "type": "histogram2dcontour"
           }
          ],
          "mesh3d": [
           {
            "colorbar": {
             "outlinewidth": 0,
             "ticks": ""
            },
            "type": "mesh3d"
           }
          ],
          "parcoords": [
           {
            "line": {
             "colorbar": {
              "outlinewidth": 0,
              "ticks": ""
             }
            },
            "type": "parcoords"
           }
          ],
          "pie": [
           {
            "automargin": true,
            "type": "pie"
           }
          ],
          "scatter": [
           {
            "fillpattern": {
             "fillmode": "overlay",
             "size": 10,
             "solidity": 0.2
            },
            "type": "scatter"
           }
          ],
          "scatter3d": [
           {
            "line": {
             "colorbar": {
              "outlinewidth": 0,
              "ticks": ""
             }
            },
            "marker": {
             "colorbar": {
              "outlinewidth": 0,
              "ticks": ""
             }
            },
            "type": "scatter3d"
           }
          ],
          "scattercarpet": [
           {
            "marker": {
             "colorbar": {
              "outlinewidth": 0,
              "ticks": ""
             }
            },
            "type": "scattercarpet"
           }
          ],
          "scattergeo": [
           {
            "marker": {
             "colorbar": {
              "outlinewidth": 0,
              "ticks": ""
             }
            },
            "type": "scattergeo"
           }
          ],
          "scattergl": [
           {
            "marker": {
             "colorbar": {
              "outlinewidth": 0,
              "ticks": ""
             }
            },
            "type": "scattergl"
           }
          ],
          "scattermapbox": [
           {
            "marker": {
             "colorbar": {
              "outlinewidth": 0,
              "ticks": ""
             }
            },
            "type": "scattermapbox"
           }
          ],
          "scatterpolar": [
           {
            "marker": {
             "colorbar": {
              "outlinewidth": 0,
              "ticks": ""
             }
            },
            "type": "scatterpolar"
           }
          ],
          "scatterpolargl": [
           {
            "marker": {
             "colorbar": {
              "outlinewidth": 0,
              "ticks": ""
             }
            },
            "type": "scatterpolargl"
           }
          ],
          "scatterternary": [
           {
            "marker": {
             "colorbar": {
              "outlinewidth": 0,
              "ticks": ""
             }
            },
            "type": "scatterternary"
           }
          ],
          "surface": [
           {
            "colorbar": {
             "outlinewidth": 0,
             "ticks": ""
            },
            "colorscale": [
             [
              0,
              "#0d0887"
             ],
             [
              0.1111111111111111,
              "#46039f"
             ],
             [
              0.2222222222222222,
              "#7201a8"
             ],
             [
              0.3333333333333333,
              "#9c179e"
             ],
             [
              0.4444444444444444,
              "#bd3786"
             ],
             [
              0.5555555555555556,
              "#d8576b"
             ],
             [
              0.6666666666666666,
              "#ed7953"
             ],
             [
              0.7777777777777778,
              "#fb9f3a"
             ],
             [
              0.8888888888888888,
              "#fdca26"
             ],
             [
              1,
              "#f0f921"
             ]
            ],
            "type": "surface"
           }
          ],
          "table": [
           {
            "cells": {
             "fill": {
              "color": "#EBF0F8"
             },
             "line": {
              "color": "white"
             }
            },
            "header": {
             "fill": {
              "color": "#C8D4E3"
             },
             "line": {
              "color": "white"
             }
            },
            "type": "table"
           }
          ]
         },
         "layout": {
          "annotationdefaults": {
           "arrowcolor": "#2a3f5f",
           "arrowhead": 0,
           "arrowwidth": 1
          },
          "autotypenumbers": "strict",
          "coloraxis": {
           "colorbar": {
            "outlinewidth": 0,
            "ticks": ""
           }
          },
          "colorscale": {
           "diverging": [
            [
             0,
             "#8e0152"
            ],
            [
             0.1,
             "#c51b7d"
            ],
            [
             0.2,
             "#de77ae"
            ],
            [
             0.3,
             "#f1b6da"
            ],
            [
             0.4,
             "#fde0ef"
            ],
            [
             0.5,
             "#f7f7f7"
            ],
            [
             0.6,
             "#e6f5d0"
            ],
            [
             0.7,
             "#b8e186"
            ],
            [
             0.8,
             "#7fbc41"
            ],
            [
             0.9,
             "#4d9221"
            ],
            [
             1,
             "#276419"
            ]
           ],
           "sequential": [
            [
             0,
             "#0d0887"
            ],
            [
             0.1111111111111111,
             "#46039f"
            ],
            [
             0.2222222222222222,
             "#7201a8"
            ],
            [
             0.3333333333333333,
             "#9c179e"
            ],
            [
             0.4444444444444444,
             "#bd3786"
            ],
            [
             0.5555555555555556,
             "#d8576b"
            ],
            [
             0.6666666666666666,
             "#ed7953"
            ],
            [
             0.7777777777777778,
             "#fb9f3a"
            ],
            [
             0.8888888888888888,
             "#fdca26"
            ],
            [
             1,
             "#f0f921"
            ]
           ],
           "sequentialminus": [
            [
             0,
             "#0d0887"
            ],
            [
             0.1111111111111111,
             "#46039f"
            ],
            [
             0.2222222222222222,
             "#7201a8"
            ],
            [
             0.3333333333333333,
             "#9c179e"
            ],
            [
             0.4444444444444444,
             "#bd3786"
            ],
            [
             0.5555555555555556,
             "#d8576b"
            ],
            [
             0.6666666666666666,
             "#ed7953"
            ],
            [
             0.7777777777777778,
             "#fb9f3a"
            ],
            [
             0.8888888888888888,
             "#fdca26"
            ],
            [
             1,
             "#f0f921"
            ]
           ]
          },
          "colorway": [
           "#636efa",
           "#EF553B",
           "#00cc96",
           "#ab63fa",
           "#FFA15A",
           "#19d3f3",
           "#FF6692",
           "#B6E880",
           "#FF97FF",
           "#FECB52"
          ],
          "font": {
           "color": "#2a3f5f"
          },
          "geo": {
           "bgcolor": "white",
           "lakecolor": "white",
           "landcolor": "#E5ECF6",
           "showlakes": true,
           "showland": true,
           "subunitcolor": "white"
          },
          "hoverlabel": {
           "align": "left"
          },
          "hovermode": "closest",
          "mapbox": {
           "style": "light"
          },
          "paper_bgcolor": "white",
          "plot_bgcolor": "#E5ECF6",
          "polar": {
           "angularaxis": {
            "gridcolor": "white",
            "linecolor": "white",
            "ticks": ""
           },
           "bgcolor": "#E5ECF6",
           "radialaxis": {
            "gridcolor": "white",
            "linecolor": "white",
            "ticks": ""
           }
          },
          "scene": {
           "xaxis": {
            "backgroundcolor": "#E5ECF6",
            "gridcolor": "white",
            "gridwidth": 2,
            "linecolor": "white",
            "showbackground": true,
            "ticks": "",
            "zerolinecolor": "white"
           },
           "yaxis": {
            "backgroundcolor": "#E5ECF6",
            "gridcolor": "white",
            "gridwidth": 2,
            "linecolor": "white",
            "showbackground": true,
            "ticks": "",
            "zerolinecolor": "white"
           },
           "zaxis": {
            "backgroundcolor": "#E5ECF6",
            "gridcolor": "white",
            "gridwidth": 2,
            "linecolor": "white",
            "showbackground": true,
            "ticks": "",
            "zerolinecolor": "white"
           }
          },
          "shapedefaults": {
           "line": {
            "color": "#2a3f5f"
           }
          },
          "ternary": {
           "aaxis": {
            "gridcolor": "white",
            "linecolor": "white",
            "ticks": ""
           },
           "baxis": {
            "gridcolor": "white",
            "linecolor": "white",
            "ticks": ""
           },
           "bgcolor": "#E5ECF6",
           "caxis": {
            "gridcolor": "white",
            "linecolor": "white",
            "ticks": ""
           }
          },
          "title": {
           "x": 0.05
          },
          "xaxis": {
           "automargin": true,
           "gridcolor": "white",
           "linecolor": "white",
           "ticks": "",
           "title": {
            "standoff": 15
           },
           "zerolinecolor": "white",
           "zerolinewidth": 2
          },
          "yaxis": {
           "automargin": true,
           "gridcolor": "white",
           "linecolor": "white",
           "ticks": "",
           "title": {
            "standoff": 15
           },
           "zerolinecolor": "white",
           "zerolinewidth": 2
          }
         }
        },
        "title": {
         "text": "Hyperparameter Importances"
        },
        "xaxis": {
         "title": {
          "text": "Hyperparameter Importance"
         }
        },
        "yaxis": {
         "title": {
          "text": "Hyperparameter"
         }
        }
       }
      }
     },
     "metadata": {},
     "output_type": "display_data"
    }
   ],
   "source": [
    "vis.plot_param_importances(study_h1n1)"
   ]
  },
  {
   "cell_type": "code",
   "execution_count": 14,
   "metadata": {},
   "outputs": [],
   "source": [
    "# Mejores hiperparámetros para h1n1_vaccine\n",
    "best_params_h1n1 = study_h1n1.best_params\n",
    "print(\"Mejores hiperparámetros para h1n1_vaccine:\", best_params_h1n1)"
   ]
  },
  {
   "cell_type": "code",
   "execution_count": 12,
   "metadata": {},
   "outputs": [],
   "source": [
    "# Entrenar el modelo H1N1 con los mejores hiperparámetros\n",
    "model_h1n1 = CatBoostClassifier(**best_params_h1n1, verbose=0)\n",
    "model_h1n1.fit(X_train, y_train_h1n1)"
   ]
  },
  {
   "cell_type": "code",
   "execution_count": 13,
   "metadata": {},
   "outputs": [
    {
     "data": {
      "image/png": "[encoded data removed]",
      "text/plain": [
       "<Figure size 640x480 with 1 Axes>"
      ]
     },
     "metadata": {},
     "output_type": "display_data"
    }
   ],
   "source": [
    "# Predicción y evaluación para H1N1\n",
    "h1n1_predictions = model_h1n1.predict(X_test)\n",
    "h1n1_probabilities = model_h1n1.predict_proba(X_test)[:, 1]\n",
    "\n",
    "# Calculamos la curva ROC y el valor ROC AUC para h1n1_vaccine\n",
    "fpr, tpr, thresholds = roc_curve(y_test['h1n1_vaccine'], h1n1_probabilities)\n",
    "roc_auc_h1n1 = roc_auc_score(y_test['h1n1_vaccine'], h1n1_probabilities)\n",
    "\n",
    "plt.figure()\n",
    "plt.plot(fpr, tpr, label='ROC curve (area = %0.4f)' % roc_auc_h1n1)\n",
    "plt.plot([0, 1], [0, 1], 'k--')\n",
    "plt.xlim([0.0, 1.0])\n",
    "plt.ylim([0.0, 1.05])\n",
    "plt.xlabel('False Positive Rate')\n",
    "plt.ylabel('True Positive Rate')\n",
    "plt.title('ROC Curve for h1n1_vaccine')\n",
    "plt.legend(loc=\"lower right\")\n",
    "plt.show()\n",
    "print(f\"AUROC para H1N1: {roc_auc_h1n1}\")"
   ]
  },
  {
   "cell_type": "code",
   "execution_count": null,
   "metadata": {},
   "outputs": [],
   "source": [
    "# Silenciar Optuna\n",
    "optuna.logging.set_verbosity(optuna.logging.WARNING)\n",
    "\n",
    "# Optimización para H1N1\n",
    "study_seasonal = optuna.create_study(direction='maximize', sampler=sampler)\n",
    "\n",
    "# Configurar para silenciar toda salida\n",
    "with open('nul', 'w') as fnull:\n",
    "    sys.stdout = fnull  # Redirigir toda la salida\n",
    "\n",
    "    # Ejecutar la optimización con salida silenciada\n",
    "    study_seasonal.optimize(objective_seasonal, n_trials=50, show_progress_bar=True)\n",
    "\n",
    "# Restaurar salida estándar\n",
    "sys.stdout = sys.__stdout__"
   ]
  },
  {
   "cell_type": "code",
   "execution_count": null,
   "metadata": {},
   "outputs": [],
   "source": [
    "optuna.importance.get_param_importances(study_seasonal)"
   ]
  },
  {
   "cell_type": "code",
   "execution_count": null,
   "metadata": {},
   "outputs": [],
   "source": [
    "vis.plot_param_importances(study_seasonal)"
   ]
  },
  {
   "cell_type": "code",
   "execution_count": null,
   "metadata": {},
   "outputs": [],
   "source": [
    "# Mejores hiperparámetros para seasonal_vaccine\n",
    "best_params_seasonal = study_seasonal.best_params\n",
    "print(\"Mejores hiperparámetros para seasonal_vaccine:\", best_params_seasonal)"
   ]
  },
  {
   "cell_type": "code",
   "execution_count": null,
   "metadata": {},
   "outputs": [],
   "source": [
    "# Entrenar el modelo Vacuna Estacional con los mejores hiperparámetros\n",
    "model_seasonal = CatBoostClassifier(**best_params_seasonal, verbose=0)\n",
    "model_seasonal.fit(X_train, y_train_seasonal)"
   ]
  },
  {
   "cell_type": "code",
   "execution_count": null,
   "metadata": {},
   "outputs": [],
   "source": [
    "# Predicción y evaluación para H1N1\n",
    "seasonal_predictions = model_seasonal.predict(X_test)\n",
    "seasonal_probabilities = model_seasonal.predict_proba(X_test)[:, 1]\n",
    "\n",
    "# Calculamos la curva ROC y el valor ROC AUC para seasonal_vaccine\n",
    "fpr, tpr, thresholds = roc_curve(y_test['seasonal_vaccine'], seasonal_probabilities)\n",
    "roc_auc_seasonal = roc_auc_score(y_test['seasonal_vaccine'], seasonal_probabilities)\n",
    "\n",
    "plt.figure()\n",
    "plt.plot(fpr, tpr, label='ROC curve (area = %0.4f)' % roc_auc_seasonal)\n",
    "plt.plot([0, 1], [0, 1], 'k--')\n",
    "plt.xlim([0.0, 1.0])\n",
    "plt.ylim([0.0, 1.05])\n",
    "plt.xlabel('False Positive Rate')\n",
    "plt.ylabel('True Positive Rate')\n",
    "plt.title('ROC Curve for seasonal_vaccine')\n",
    "plt.legend(loc=\"lower right\")\n",
    "plt.show()\n",
    "print(f\"AUROC para Seasonal: {roc_auc_seasonal}\")"
   ]
  },
  {
   "cell_type": "code",
   "execution_count": null,
   "metadata": {},
   "outputs": [],
   "source": [
    "# Cargar el dataset de prueba preprocesado\n",
    "test_set_preprocessed = pd.read_csv(\"../../Data/preprocessed_test_dataset.csv\")\n",
    "\n",
    "# Asegurarse de que respondent_id esté disponible\n",
    "respondent_ids = test_set_preprocessed['respondent_id']\n",
    "\n",
    "# Eliminar respondent_id del conjunto de características\n",
    "X_test_final = test_set_preprocessed.drop(columns=['respondent_id'])\n",
    "\n",
    "# Predicciones de probabilidad para H1N1\n",
    "y_proba_h1n1_test = model_h1n1.predict_proba(X_test_final)[:, 1]  # Probabilidades de la clase positiva (1)\n",
    "\n",
    "# Predicciones de probabilidad para vacuna estacional\n",
    "y_proba_seasonal_test = model_seasonal.predict_proba(X_test_final)[:, 1]  # Probabilidades de la clase positiva (1)\n",
    "\n",
    "# Crear el DataFrame de submission\n",
    "submission = pd.DataFrame({\n",
    "    \"respondent_id\": respondent_ids,\n",
    "    \"h1n1_vaccine\": y_proba_h1n1_test,\n",
    "    \"seasonal_vaccine\": y_proba_seasonal_test\n",
    "})\n",
    "\n",
    "# Guardar el archivo de submission\n",
    "submission.to_csv(\"Submissions/CatBoost_Optuna_submission.csv\", index=False)\n",
    "print(\"Archivo 'CatBoost_Optuna_submission.csv' generado correctamente.\")"
   ]
  }
 ],
 "metadata": {
  "kernelspec": {
   "display_name": "VENV",
   "language": "python",
   "name": "python3"
  },
  "language_info": {
   "codemirror_mode": {
    "name": "ipython",
    "version": 3
   },
   "file_extension": ".py",
   "mimetype": "text/x-python",
   "name": "python",
   "nbconvert_exporter": "python",
   "pygments_lexer": "ipython3",
   "version": "3.12.8"
  }
 },
 "nbformat": 4,
 "nbformat_minor": 2
}
