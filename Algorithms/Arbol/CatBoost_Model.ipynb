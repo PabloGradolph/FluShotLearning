{
 "cells": [
  {
   "cell_type": "markdown",
   "metadata": {},
   "source": [
    "# Gradient Boosted Tree Model with CatBoost"
   ]
  },
  {
   "cell_type": "code",
   "execution_count": 31,
   "metadata": {},
   "outputs": [],
   "source": [
    "import pandas as pd\n",
    "from sklearn.model_selection import train_test_split, GridSearchCV\n",
    "from sklearn.multioutput import MultiOutputClassifier\n",
    "from catboost import CatBoostClassifier\n",
    "from sklearn.metrics import roc_auc_score, classification_report\n",
    "from xgboost import XGBClassifier\n",
    "from xgboost import plot_importance\n",
    "from xgboost import plot_tree\n",
    "from xgboost import to_graphviz\n",
    "from skopt import BayesSearchCV\n",
    "from skopt.space import Real, Categorical, Integer\n",
    "import numpy as np\n",
    "import graphviz\n",
    "import joblib"
   ]
  },
  {
   "cell_type": "code",
   "execution_count": 38,
   "metadata": {},
   "outputs": [],
   "source": [
    "# Cargar los datos preprocesados y las etiquetas\n",
    "X = pd.read_csv(\"../../Data/preprocessed_training_simple_dataset.csv\", index_col=\"respondent_id\")\n",
    "y = pd.read_csv(\"../../Data/training_set_labels.csv\", index_col=\"respondent_id\", usecols=[\"respondent_id\", \"h1n1_vaccine\", \"seasonal_vaccine\"])"
   ]
  },
  {
   "cell_type": "code",
   "execution_count": 39,
   "metadata": {},
   "outputs": [],
   "source": [
    "X_train, X_test, y_train, y_test = train_test_split(X, y, test_size=0.2, random_state=42, stratify=y)"
   ]
  },
  {
   "cell_type": "code",
   "execution_count": 40,
   "metadata": {},
   "outputs": [],
   "source": [
    "# Espacio de búsqueda para BayesSearchCV\n",
    "search_space = {\n",
    "    'estimator__depth': Integer(3, 10),  # Profundidad del árbol\n",
    "    'estimator__learning_rate': Real(0.01, 0.3, prior='log-uniform'),  # Tasa de aprendizaje\n",
    "    'estimator__l2_leaf_reg': Real(1, 10, prior='log-uniform'),  # Regularización L2\n",
    "    'estimator__bagging_temperature': Real(0.0, 1.0),  # Temperatura de bagging\n",
    "    'estimator__iterations': Integer(50, 500),  # Número de iteraciones\n",
    "    'estimator__random_strength': Real(0.0, 10.0),  # Fuerza de aleatoriedad\n",
    "    'estimator__auto_class_weights': Categorical(['Balanced', 'SqrtBalanced']),  # Pesos automáticos para clases\n",
    "}"
   ]
  },
  {
   "cell_type": "code",
   "execution_count": 41,
   "metadata": {},
   "outputs": [],
   "source": [
    "# Modelo base: CatBoostClassifier\n",
    "catboost_model = CatBoostClassifier(\n",
    "    loss_function='Logloss',\n",
    "    eval_metric='AUC',\n",
    "    verbose=0,\n",
    "    random_seed=42\n",
    ")\n",
    "\n",
    "# MultiOutputClassifier para manejar múltiples etiquetas\n",
    "multi_catboost = MultiOutputClassifier(catboost_model)"
   ]
  },
  {
   "cell_type": "code",
   "execution_count": 42,
   "metadata": {},
   "outputs": [
    {
     "name": "stdout",
     "output_type": "stream",
     "text": [
      "Mejores hiperparámetros: OrderedDict({'estimator__auto_class_weights': 'SqrtBalanced', 'estimator__bagging_temperature': 0.0, 'estimator__depth': 6, 'estimator__iterations': 500, 'estimator__l2_leaf_reg': 10.0, 'estimator__learning_rate': 0.024272428551470552, 'estimator__random_strength': 0.0})\n",
      "Mejor puntaje (AUROC): 0.8653395384051465\n"
     ]
    }
   ],
   "source": [
    "# Configurar BayesSearchCV\n",
    "opt = BayesSearchCV(\n",
    "    estimator=multi_catboost,\n",
    "    search_spaces=search_space,\n",
    "    cv=5,\n",
    "    n_iter=50,\n",
    "    scoring='roc_auc',\n",
    "    n_jobs=-1,\n",
    "    random_state=42\n",
    ")\n",
    "\n",
    "# Entrenar el modelo con BayesSearchCV\n",
    "opt.fit(X_train, y_train)\n",
    "\n",
    "# Mostrar los mejores hiperparámetros\n",
    "print(\"Mejores hiperparámetros:\", opt.best_params_)\n",
    "print(\"Mejor puntaje (AUROC):\", opt.best_score_)"
   ]
  },
  {
   "cell_type": "code",
   "execution_count": 43,
   "metadata": {},
   "outputs": [
    {
     "name": "stdout",
     "output_type": "stream",
     "text": [
      "AUROC para H1N1: 0.8769076921304853\n",
      "AUROC para vacuna estacional: 0.8619439180526232\n",
      "Reporte de Clasificación:\n",
      "              precision    recall  f1-score   support\n",
      "\n",
      "           0       0.64      0.65      0.65      1135\n",
      "           1       0.77      0.76      0.77      2488\n",
      "\n",
      "   micro avg       0.73      0.73      0.73      3623\n",
      "   macro avg       0.71      0.70      0.71      3623\n",
      "weighted avg       0.73      0.73      0.73      3623\n",
      " samples avg       0.35      0.36      0.35      3623\n",
      "\n"
     ]
    },
    {
     "name": "stderr",
     "output_type": "stream",
     "text": [
      "c:\\USERS\\PABLO\\ONEDRIVE\\DOCUMENTOS\\ESTUDIOS\\DATCOM\\1ER CUATRIMESTRE\\MINERÍA DE DATOS. PREPROCESAMIENTO Y CLASIFICACIÓN\\FLUSHOTLEARNING\\VENV\\Lib\\site-packages\\sklearn\\metrics\\_classification.py:1565: UndefinedMetricWarning: Precision is ill-defined and being set to 0.0 in samples with no predicted labels. Use `zero_division` parameter to control this behavior.\n",
      "  _warn_prf(average, modifier, f\"{metric.capitalize()} is\", len(result))\n",
      "c:\\USERS\\PABLO\\ONEDRIVE\\DOCUMENTOS\\ESTUDIOS\\DATCOM\\1ER CUATRIMESTRE\\MINERÍA DE DATOS. PREPROCESAMIENTO Y CLASIFICACIÓN\\FLUSHOTLEARNING\\VENV\\Lib\\site-packages\\sklearn\\metrics\\_classification.py:1565: UndefinedMetricWarning: Recall is ill-defined and being set to 0.0 in samples with no true labels. Use `zero_division` parameter to control this behavior.\n",
      "  _warn_prf(average, modifier, f\"{metric.capitalize()} is\", len(result))\n",
      "c:\\USERS\\PABLO\\ONEDRIVE\\DOCUMENTOS\\ESTUDIOS\\DATCOM\\1ER CUATRIMESTRE\\MINERÍA DE DATOS. PREPROCESAMIENTO Y CLASIFICACIÓN\\FLUSHOTLEARNING\\VENV\\Lib\\site-packages\\sklearn\\metrics\\_classification.py:1565: UndefinedMetricWarning: F-score is ill-defined and being set to 0.0 in samples with no true nor predicted labels. Use `zero_division` parameter to control this behavior.\n",
      "  _warn_prf(average, modifier, f\"{metric.capitalize()} is\", len(result))\n"
     ]
    }
   ],
   "source": [
    "# Predicciones de probabilidad en el conjunto de prueba\n",
    "y_proba = opt.best_estimator_.predict_proba(X_test)\n",
    "\n",
    "# Extraer probabilidades para cada etiqueta\n",
    "y_proba_h1n1 = y_proba[0][:, 1]  # Probabilidades para H1N1\n",
    "y_proba_seasonal = y_proba[1][:, 1]  # Probabilidades para vacuna estacional\n",
    "\n",
    "# Calcular AUROC para cada etiqueta\n",
    "roc_auc_h1n1 = roc_auc_score(y_test['h1n1_vaccine'], y_proba_h1n1)\n",
    "roc_auc_seasonal = roc_auc_score(y_test['seasonal_vaccine'], y_proba_seasonal)\n",
    "\n",
    "print(f\"AUROC para H1N1: {roc_auc_h1n1}\")\n",
    "print(f\"AUROC para vacuna estacional: {roc_auc_seasonal}\")\n",
    "\n",
    "# Predicciones finales\n",
    "y_pred = opt.best_estimator_.predict(X_test)\n",
    "\n",
    "# Informe de clasificación\n",
    "print(\"Reporte de Clasificación:\")\n",
    "print(classification_report(y_test, y_pred))"
   ]
  },
  {
   "cell_type": "code",
   "execution_count": 44,
   "metadata": {},
   "outputs": [
    {
     "name": "stdout",
     "output_type": "stream",
     "text": [
      "Modelo guardado como 'CatBoost_Best_Model_Bayes.pkl'\n"
     ]
    }
   ],
   "source": [
    "# Guardar el mejor modelo\n",
    "joblib.dump(opt.best_estimator_, \"Modelos/CatBoost_Best_Model_Bayes.pkl\")\n",
    "print(\"Modelo guardado como 'CatBoost_Best_Model_Bayes.pkl'\")"
   ]
  },
  {
   "cell_type": "code",
   "execution_count": 45,
   "metadata": {},
   "outputs": [
    {
     "name": "stdout",
     "output_type": "stream",
     "text": [
      "Archivo 'CatBoost_Bayes_submission.csv' generado correctamente.\n"
     ]
    }
   ],
   "source": [
    "# Cargar el dataset de prueba preprocesado\n",
    "test_set_preprocessed = pd.read_csv(\"../../Data/preprocessed_test_simple_dataset.csv\")\n",
    "\n",
    "# Asegurarse de que respondent_id esté disponible\n",
    "respondent_ids = test_set_preprocessed['respondent_id']\n",
    "\n",
    "# Eliminar respondent_id del conjunto de características\n",
    "X_test_final = test_set_preprocessed.drop(columns=['respondent_id'])\n",
    "\n",
    "# Realizar predicciones de probabilidad\n",
    "y_proba_test = opt.best_estimator_.predict_proba(X_test_final)\n",
    "\n",
    "# Extraer las probabilidades para la clase positiva (1)\n",
    "y_proba_h1n1_test = y_proba_test[0][:, 1]  # Probabilidades para H1N1\n",
    "y_proba_seasonal_test = y_proba_test[1][:, 1]  # Probabilidades para vacuna estacional\n",
    "\n",
    "# Crear el DataFrame de submission\n",
    "submission = pd.DataFrame({\n",
    "    \"respondent_id\": respondent_ids,\n",
    "    \"h1n1_vaccine\": y_proba_h1n1_test,\n",
    "    \"seasonal_vaccine\": y_proba_seasonal_test\n",
    "})\n",
    "\n",
    "# Guardar el archivo de submission\n",
    "submission.to_csv(\"Submissions/CatBoost_Bayes_submission.csv\", index=False)\n",
    "print(\"Archivo 'CatBoost_Bayes_submission.csv' generado correctamente.\")"
   ]
  }
 ],
 "metadata": {
  "kernelspec": {
   "display_name": "VENV",
   "language": "python",
   "name": "python3"
  },
  "language_info": {
   "codemirror_mode": {
    "name": "ipython",
    "version": 3
   },
   "file_extension": ".py",
   "mimetype": "text/x-python",
   "name": "python",
   "nbconvert_exporter": "python",
   "pygments_lexer": "ipython3",
   "version": "3.12.8"
  }
 },
 "nbformat": 4,
 "nbformat_minor": 2
}
