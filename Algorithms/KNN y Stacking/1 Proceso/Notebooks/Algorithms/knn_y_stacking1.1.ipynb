{
 "cells": [
  {
   "cell_type": "markdown",
   "metadata": {},
   "source": [
    "---\n",
    "---\n",
    "---\n",
    "---\n",
    "# **Algoritmo $\\rightarrow$ kNN $|$ Ensemble $\\rightarrow$ Stacking**\n",
    "---\n",
    "---\n",
    "---\n",
    "---"
   ]
  },
  {
   "cell_type": "markdown",
   "metadata": {},
   "source": [
    "| **Descripción**               | **Detalles**                                                                                     |\n",
    "|-------------------------------|--------------------------------------------------------------------------------------------------|\n",
    "| **Problema seleccionado**     | Flu Shot Learning (predicción relativa a las vacunas contra la gripe H1N1 y la gripe estacional) |\n",
    "| **Algoritmo base**            | kNN y derivados                                                                                  |\n",
    "| **Método ensemble**           | Stacking                                                                                         |\n",
    "| **Fecha**                     | 26 de enero 2025                                                                                 |\n",
    "| **Estudiante**                | Adrián Sánchez Carrión                                                                           |"
   ]
  },
  {
   "cell_type": "markdown",
   "metadata": {},
   "source": [
    "$\\ $\n",
    "\n",
    "$\\ $\n",
    "\n",
    "$\\ $\n",
    "\n",
    "$\\ $\n",
    "\n",
    "$\\ $\n",
    "\n",
    "$\\ $\n",
    "\n",
    "$\\ $\n",
    "\n",
    "$\\ $\n",
    "\n",
    "---\n",
    "---\n",
    "---\n",
    "## **1. Importación de librerías**\n",
    "---\n",
    "---\n",
    "---"
   ]
  },
  {
   "cell_type": "markdown",
   "metadata": {},
   "source": [
    "Lo primero que hacemos es cargar las librerías necesarias para el desarrollo del algoritmo. En este caso, utilizaremos las librerías de pandas, numpy, matplotlib, seaborn, sklearn y joblib para la carga y manipulación de datos, cálculos matemáticos, visualización y la implementación del algoritmo de kNN y el ensemble de Stacking, respectivamente."
   ]
  },
  {
   "cell_type": "code",
   "execution_count": 18,
   "metadata": {},
   "outputs": [],
   "source": [
    "import numpy as np # type: ignore\n",
    "import pandas as pd # type: ignore\n",
    "\n",
    "%matplotlib inline\n",
    "import matplotlib.pyplot as plt # type: ignore\n",
    "\n",
    "import joblib # type: ignore\n",
    "\n",
    "from IPython.display import Image, display # type: ignore\n",
    "\n",
    "from sklearn.model_selection import train_test_split, GridSearchCV # type: ignore\n",
    "from sklearn.preprocessing import MinMaxScaler # type: ignore\n",
    "from sklearn.multioutput import MultiOutputClassifier # type: ignore\n",
    "from sklearn.neighbors import KNeighborsClassifier # type: ignore\n",
    "from sklearn.ensemble import StackingClassifier # type: ignore\n",
    "from sklearn.linear_model import LogisticRegression # type: ignore\n",
    "from sklearn.tree import DecisionTreeClassifier # type: ignore\n",
    "from sklearn.metrics import accuracy_score, classification_report, f1_score, precision_score, recall_score, roc_curve, roc_auc_score # type: ignore"
   ]
  },
  {
   "cell_type": "markdown",
   "metadata": {},
   "source": [
    "Más en detalle:\n",
    "\n",
    "- `numpy y pandas:` Librerías fundamentales para la manipulación y análisis de datos.\n",
    "- `matplotlib.pyplot:` Utilizada para la visualización de datos.\n",
    "- `joblib:` Utilizada para guardar y cargar modelos entrenados.\n",
    "- `IPython.display:` Utilizada para imágenes en el notebook.\n",
    "- `sklearn.model_selection:` Contiene herramientas para dividir los datos en conjuntos de entrenamiento y prueba, y para realizar búsquedas de hiperparámetros.\n",
    "- `sklearn.preprocessing:` Contiene herramientas para escalar y transformar los datos.\n",
    "- `sklearn.multioutput:` Permite trabajar con problemas de salida múltiple.\n",
    "- `sklearn.neighbors:` Contiene el clasificador K-Nearest Neighbors.\n",
    "- `sklearn.ensemble:` Contiene el clasificador de apilamiento (Stacking Classifier).\n",
    "- `sklearn.linear_model:` Contiene el modelo de regresión logística.\n",
    "- `sklearn.tree:` Contiene el clasificador de árbol de decisión.\n",
    "- `sklearn.metrics:` Proporciona funciones para evaluar el rendimiento de los modelos."
   ]
  },
  {
   "cell_type": "markdown",
   "metadata": {},
   "source": [
    "$\\ $\n",
    "\n",
    "$\\ $\n",
    "\n",
    "$\\ $\n",
    "\n",
    "$\\ $\n",
    "\n",
    "$\\ $\n",
    "\n",
    "$\\ $\n",
    "\n",
    "$\\ $\n",
    "\n",
    "$\\ $\n",
    "\n",
    "---\n",
    "---\n",
    "---\n",
    "## **2. Carga y preparación específica de los datos**\n",
    "---\n",
    "---\n",
    "---\n",
    "\n",
    "$\\ $"
   ]
  },
  {
   "cell_type": "markdown",
   "metadata": {},
   "source": [
    "---\n",
    "---\n",
    "### **2.1. Carga de los datos**\n",
    "---\n",
    "---"
   ]
  },
  {
   "cell_type": "markdown",
   "metadata": {},
   "source": [
    "Una vez cargadas las librerías necesarias, pasamos a leer los datos que utilizaremos para entrenar y evaluar los algoritmos. En este caso, los datos que utilizaremos son los datos que contienen las características preprocesadas previamente en la anterior etapa de preprocesamiento común (`preprocessed_training_dataset.csv` y `preprocessed_test_dataset.csv`). Además emplearemos las etiquetas de los datos de entrenamiento (`train_labels.csv`)."
   ]
  },
  {
   "cell_type": "code",
   "execution_count": 19,
   "metadata": {},
   "outputs": [],
   "source": [
    "# Cargar datos preprocesados\n",
    "features_train_df = pd.read_csv(\"../../Data/Preprocessed/Prueba1/preprocessed_training_dataset.csv\")\n",
    "\n",
    "labels_df = pd.read_csv(\"../../Data/Original/training_set_labels.csv\")\n",
    "labels_df = labels_df.drop(columns=[\"respondent_id\"])\n",
    "\n",
    "features_test_df = pd.read_csv(\"../../Data/Preprocessed/Prueba1/preprocessed_test_dataset.csv\")"
   ]
  },
  {
   "cell_type": "markdown",
   "metadata": {},
   "source": [
    "$\\ $\n",
    "\n",
    "$\\ $\n",
    "\n",
    "$\\ $\n",
    "\n",
    "$\\ $\n",
    "\n",
    "$\\ $\n",
    "\n",
    "---\n",
    "---\n",
    "### **2.2. Comprobación de la estructura de los datos cargados**\n",
    "---\n",
    "---"
   ]
  },
  {
   "cell_type": "markdown",
   "metadata": {},
   "source": [
    "Una vez cargados los datos, pasamos a comprobar la estructura de los mismos para ver si han sido cargados correctamente. Para ello, comenzamos comprobando el número de filas y columnas de los mismos:"
   ]
  },
  {
   "cell_type": "code",
   "execution_count": 20,
   "metadata": {},
   "outputs": [
    {
     "name": "stdout",
     "output_type": "stream",
     "text": [
      "features_df shape:  (26707, 48)\n",
      "labels_df shape:  (26707, 2)\n",
      "submission_df shape:  (26708, 48)\n"
     ]
    }
   ],
   "source": [
    "# Ver el tamaño de los datos\n",
    "print(\"features_df shape: \", features_train_df.shape)\n",
    "print(\"labels_df shape: \", labels_df.shape)\n",
    "print(\"submission_df shape: \", features_test_df.shape)"
   ]
  },
  {
   "cell_type": "markdown",
   "metadata": {},
   "source": [
    "Y ahora, visualizamos las primeras filas de cada conjunto de datos para comprobar que los datos han sido cargados correctamente. Primero visualizamos las primeras filas de los datos de entrenamiento:"
   ]
  },
  {
   "cell_type": "code",
   "execution_count": 21,
   "metadata": {},
   "outputs": [
    {
     "data": {
      "text/html": [
       "<div>\n",
       "<style scoped>\n",
       "    .dataframe tbody tr th:only-of-type {\n",
       "        vertical-align: middle;\n",
       "    }\n",
       "\n",
       "    .dataframe tbody tr th {\n",
       "        vertical-align: top;\n",
       "    }\n",
       "\n",
       "    .dataframe thead th {\n",
       "        text-align: right;\n",
       "    }\n",
       "</style>\n",
       "<table border=\"1\" class=\"dataframe\">\n",
       "  <thead>\n",
       "    <tr style=\"text-align: right;\">\n",
       "      <th></th>\n",
       "      <th>h1n1_concern</th>\n",
       "      <th>h1n1_knowledge</th>\n",
       "      <th>opinion_h1n1_vacc_effective</th>\n",
       "      <th>opinion_h1n1_risk</th>\n",
       "      <th>opinion_h1n1_sick_from_vacc</th>\n",
       "      <th>opinion_seas_vacc_effective</th>\n",
       "      <th>opinion_seas_risk</th>\n",
       "      <th>opinion_seas_sick_from_vacc</th>\n",
       "      <th>age_group</th>\n",
       "      <th>education</th>\n",
       "      <th>...</th>\n",
       "      <th>hhs_geo_region_lrircsnp</th>\n",
       "      <th>hhs_geo_region_lzgpxyit</th>\n",
       "      <th>hhs_geo_region_mlyzmhmf</th>\n",
       "      <th>hhs_geo_region_oxchjgsf</th>\n",
       "      <th>hhs_geo_region_qufhixun</th>\n",
       "      <th>census_msa_MSA, Not Principle  City</th>\n",
       "      <th>census_msa_MSA, Principle City</th>\n",
       "      <th>census_msa_Non-MSA</th>\n",
       "      <th>household_adults</th>\n",
       "      <th>household_children</th>\n",
       "    </tr>\n",
       "  </thead>\n",
       "  <tbody>\n",
       "    <tr>\n",
       "      <th>0</th>\n",
       "      <td>1.0</td>\n",
       "      <td>0.0</td>\n",
       "      <td>3.0</td>\n",
       "      <td>1.0</td>\n",
       "      <td>2.0</td>\n",
       "      <td>2.0</td>\n",
       "      <td>1.0</td>\n",
       "      <td>2.0</td>\n",
       "      <td>2.0</td>\n",
       "      <td>0.0</td>\n",
       "      <td>...</td>\n",
       "      <td>0.0</td>\n",
       "      <td>0.0</td>\n",
       "      <td>0.0</td>\n",
       "      <td>1.0</td>\n",
       "      <td>0.0</td>\n",
       "      <td>0.0</td>\n",
       "      <td>0.0</td>\n",
       "      <td>1.0</td>\n",
       "      <td>0.0</td>\n",
       "      <td>0.0</td>\n",
       "    </tr>\n",
       "    <tr>\n",
       "      <th>1</th>\n",
       "      <td>3.0</td>\n",
       "      <td>2.0</td>\n",
       "      <td>5.0</td>\n",
       "      <td>4.0</td>\n",
       "      <td>4.0</td>\n",
       "      <td>4.0</td>\n",
       "      <td>2.0</td>\n",
       "      <td>4.0</td>\n",
       "      <td>1.0</td>\n",
       "      <td>1.0</td>\n",
       "      <td>...</td>\n",
       "      <td>0.0</td>\n",
       "      <td>0.0</td>\n",
       "      <td>0.0</td>\n",
       "      <td>0.0</td>\n",
       "      <td>0.0</td>\n",
       "      <td>1.0</td>\n",
       "      <td>0.0</td>\n",
       "      <td>0.0</td>\n",
       "      <td>0.0</td>\n",
       "      <td>0.0</td>\n",
       "    </tr>\n",
       "    <tr>\n",
       "      <th>2</th>\n",
       "      <td>1.0</td>\n",
       "      <td>1.0</td>\n",
       "      <td>3.0</td>\n",
       "      <td>1.0</td>\n",
       "      <td>1.0</td>\n",
       "      <td>4.0</td>\n",
       "      <td>1.0</td>\n",
       "      <td>2.0</td>\n",
       "      <td>0.0</td>\n",
       "      <td>3.0</td>\n",
       "      <td>...</td>\n",
       "      <td>0.0</td>\n",
       "      <td>0.0</td>\n",
       "      <td>0.0</td>\n",
       "      <td>0.0</td>\n",
       "      <td>1.0</td>\n",
       "      <td>1.0</td>\n",
       "      <td>0.0</td>\n",
       "      <td>0.0</td>\n",
       "      <td>2.0</td>\n",
       "      <td>0.0</td>\n",
       "    </tr>\n",
       "    <tr>\n",
       "      <th>3</th>\n",
       "      <td>1.0</td>\n",
       "      <td>1.0</td>\n",
       "      <td>3.0</td>\n",
       "      <td>3.0</td>\n",
       "      <td>5.0</td>\n",
       "      <td>5.0</td>\n",
       "      <td>4.0</td>\n",
       "      <td>1.0</td>\n",
       "      <td>4.0</td>\n",
       "      <td>1.0</td>\n",
       "      <td>...</td>\n",
       "      <td>1.0</td>\n",
       "      <td>0.0</td>\n",
       "      <td>0.0</td>\n",
       "      <td>0.0</td>\n",
       "      <td>0.0</td>\n",
       "      <td>0.0</td>\n",
       "      <td>1.0</td>\n",
       "      <td>0.0</td>\n",
       "      <td>0.0</td>\n",
       "      <td>0.0</td>\n",
       "    </tr>\n",
       "    <tr>\n",
       "      <th>4</th>\n",
       "      <td>2.0</td>\n",
       "      <td>1.0</td>\n",
       "      <td>3.0</td>\n",
       "      <td>3.0</td>\n",
       "      <td>2.0</td>\n",
       "      <td>3.0</td>\n",
       "      <td>1.0</td>\n",
       "      <td>4.0</td>\n",
       "      <td>3.0</td>\n",
       "      <td>2.0</td>\n",
       "      <td>...</td>\n",
       "      <td>0.0</td>\n",
       "      <td>0.0</td>\n",
       "      <td>0.0</td>\n",
       "      <td>0.0</td>\n",
       "      <td>1.0</td>\n",
       "      <td>1.0</td>\n",
       "      <td>0.0</td>\n",
       "      <td>0.0</td>\n",
       "      <td>1.0</td>\n",
       "      <td>0.0</td>\n",
       "    </tr>\n",
       "  </tbody>\n",
       "</table>\n",
       "<p>5 rows × 48 columns</p>\n",
       "</div>"
      ],
      "text/plain": [
       "   h1n1_concern  h1n1_knowledge  opinion_h1n1_vacc_effective  \\\n",
       "0           1.0             0.0                          3.0   \n",
       "1           3.0             2.0                          5.0   \n",
       "2           1.0             1.0                          3.0   \n",
       "3           1.0             1.0                          3.0   \n",
       "4           2.0             1.0                          3.0   \n",
       "\n",
       "   opinion_h1n1_risk  opinion_h1n1_sick_from_vacc  \\\n",
       "0                1.0                          2.0   \n",
       "1                4.0                          4.0   \n",
       "2                1.0                          1.0   \n",
       "3                3.0                          5.0   \n",
       "4                3.0                          2.0   \n",
       "\n",
       "   opinion_seas_vacc_effective  opinion_seas_risk  \\\n",
       "0                          2.0                1.0   \n",
       "1                          4.0                2.0   \n",
       "2                          4.0                1.0   \n",
       "3                          5.0                4.0   \n",
       "4                          3.0                1.0   \n",
       "\n",
       "   opinion_seas_sick_from_vacc  age_group  education  ...  \\\n",
       "0                          2.0        2.0        0.0  ...   \n",
       "1                          4.0        1.0        1.0  ...   \n",
       "2                          2.0        0.0        3.0  ...   \n",
       "3                          1.0        4.0        1.0  ...   \n",
       "4                          4.0        3.0        2.0  ...   \n",
       "\n",
       "   hhs_geo_region_lrircsnp  hhs_geo_region_lzgpxyit  hhs_geo_region_mlyzmhmf  \\\n",
       "0                      0.0                      0.0                      0.0   \n",
       "1                      0.0                      0.0                      0.0   \n",
       "2                      0.0                      0.0                      0.0   \n",
       "3                      1.0                      0.0                      0.0   \n",
       "4                      0.0                      0.0                      0.0   \n",
       "\n",
       "   hhs_geo_region_oxchjgsf  hhs_geo_region_qufhixun  \\\n",
       "0                      1.0                      0.0   \n",
       "1                      0.0                      0.0   \n",
       "2                      0.0                      1.0   \n",
       "3                      0.0                      0.0   \n",
       "4                      0.0                      1.0   \n",
       "\n",
       "   census_msa_MSA, Not Principle  City  census_msa_MSA, Principle City  \\\n",
       "0                                  0.0                             0.0   \n",
       "1                                  1.0                             0.0   \n",
       "2                                  1.0                             0.0   \n",
       "3                                  0.0                             1.0   \n",
       "4                                  1.0                             0.0   \n",
       "\n",
       "   census_msa_Non-MSA  household_adults  household_children  \n",
       "0                 1.0               0.0                 0.0  \n",
       "1                 0.0               0.0                 0.0  \n",
       "2                 0.0               2.0                 0.0  \n",
       "3                 0.0               0.0                 0.0  \n",
       "4                 0.0               1.0                 0.0  \n",
       "\n",
       "[5 rows x 48 columns]"
      ]
     },
     "execution_count": 21,
     "metadata": {},
     "output_type": "execute_result"
    }
   ],
   "source": [
    "# Mostramos los primeros registros del dataset con cada una de las características\n",
    "features_train_df.head()"
   ]
  },
  {
   "cell_type": "markdown",
   "metadata": {},
   "source": [
    "Ahora, visualizamos las primeras de las etiquetas de los datos de entrenamiento:"
   ]
  },
  {
   "cell_type": "code",
   "execution_count": 22,
   "metadata": {},
   "outputs": [
    {
     "data": {
      "text/html": [
       "<div>\n",
       "<style scoped>\n",
       "    .dataframe tbody tr th:only-of-type {\n",
       "        vertical-align: middle;\n",
       "    }\n",
       "\n",
       "    .dataframe tbody tr th {\n",
       "        vertical-align: top;\n",
       "    }\n",
       "\n",
       "    .dataframe thead th {\n",
       "        text-align: right;\n",
       "    }\n",
       "</style>\n",
       "<table border=\"1\" class=\"dataframe\">\n",
       "  <thead>\n",
       "    <tr style=\"text-align: right;\">\n",
       "      <th></th>\n",
       "      <th>h1n1_vaccine</th>\n",
       "      <th>seasonal_vaccine</th>\n",
       "    </tr>\n",
       "  </thead>\n",
       "  <tbody>\n",
       "    <tr>\n",
       "      <th>0</th>\n",
       "      <td>0</td>\n",
       "      <td>0</td>\n",
       "    </tr>\n",
       "    <tr>\n",
       "      <th>1</th>\n",
       "      <td>0</td>\n",
       "      <td>1</td>\n",
       "    </tr>\n",
       "    <tr>\n",
       "      <th>2</th>\n",
       "      <td>0</td>\n",
       "      <td>0</td>\n",
       "    </tr>\n",
       "    <tr>\n",
       "      <th>3</th>\n",
       "      <td>0</td>\n",
       "      <td>1</td>\n",
       "    </tr>\n",
       "    <tr>\n",
       "      <th>4</th>\n",
       "      <td>0</td>\n",
       "      <td>0</td>\n",
       "    </tr>\n",
       "  </tbody>\n",
       "</table>\n",
       "</div>"
      ],
      "text/plain": [
       "   h1n1_vaccine  seasonal_vaccine\n",
       "0             0                 0\n",
       "1             0                 1\n",
       "2             0                 0\n",
       "3             0                 1\n",
       "4             0                 0"
      ]
     },
     "execution_count": 22,
     "metadata": {},
     "output_type": "execute_result"
    }
   ],
   "source": [
    "# Mostramos los primeros registros del dataset con los labels\n",
    "labels_df.head()"
   ]
  },
  {
   "cell_type": "markdown",
   "metadata": {},
   "source": [
    "Y por último, visualizamos las primeras filas de los datos de test:"
   ]
  },
  {
   "cell_type": "code",
   "execution_count": 23,
   "metadata": {},
   "outputs": [
    {
     "data": {
      "text/html": [
       "<div>\n",
       "<style scoped>\n",
       "    .dataframe tbody tr th:only-of-type {\n",
       "        vertical-align: middle;\n",
       "    }\n",
       "\n",
       "    .dataframe tbody tr th {\n",
       "        vertical-align: top;\n",
       "    }\n",
       "\n",
       "    .dataframe thead th {\n",
       "        text-align: right;\n",
       "    }\n",
       "</style>\n",
       "<table border=\"1\" class=\"dataframe\">\n",
       "  <thead>\n",
       "    <tr style=\"text-align: right;\">\n",
       "      <th></th>\n",
       "      <th>h1n1_concern</th>\n",
       "      <th>h1n1_knowledge</th>\n",
       "      <th>opinion_h1n1_vacc_effective</th>\n",
       "      <th>opinion_h1n1_risk</th>\n",
       "      <th>opinion_h1n1_sick_from_vacc</th>\n",
       "      <th>opinion_seas_vacc_effective</th>\n",
       "      <th>opinion_seas_risk</th>\n",
       "      <th>opinion_seas_sick_from_vacc</th>\n",
       "      <th>age_group</th>\n",
       "      <th>education</th>\n",
       "      <th>...</th>\n",
       "      <th>hhs_geo_region_lrircsnp</th>\n",
       "      <th>hhs_geo_region_lzgpxyit</th>\n",
       "      <th>hhs_geo_region_mlyzmhmf</th>\n",
       "      <th>hhs_geo_region_oxchjgsf</th>\n",
       "      <th>hhs_geo_region_qufhixun</th>\n",
       "      <th>census_msa_MSA, Not Principle  City</th>\n",
       "      <th>census_msa_MSA, Principle City</th>\n",
       "      <th>census_msa_Non-MSA</th>\n",
       "      <th>household_adults</th>\n",
       "      <th>household_children</th>\n",
       "    </tr>\n",
       "  </thead>\n",
       "  <tbody>\n",
       "    <tr>\n",
       "      <th>0</th>\n",
       "      <td>2.0</td>\n",
       "      <td>2.0</td>\n",
       "      <td>5.0</td>\n",
       "      <td>1.0</td>\n",
       "      <td>1.0</td>\n",
       "      <td>5.0</td>\n",
       "      <td>1.0</td>\n",
       "      <td>1.0</td>\n",
       "      <td>1.0</td>\n",
       "      <td>3.0</td>\n",
       "      <td>...</td>\n",
       "      <td>0.0</td>\n",
       "      <td>0.0</td>\n",
       "      <td>1.0</td>\n",
       "      <td>0.0</td>\n",
       "      <td>0.0</td>\n",
       "      <td>1.0</td>\n",
       "      <td>0.0</td>\n",
       "      <td>0.0</td>\n",
       "      <td>1.0</td>\n",
       "      <td>0.0</td>\n",
       "    </tr>\n",
       "    <tr>\n",
       "      <th>1</th>\n",
       "      <td>1.0</td>\n",
       "      <td>1.0</td>\n",
       "      <td>4.0</td>\n",
       "      <td>1.0</td>\n",
       "      <td>1.0</td>\n",
       "      <td>4.0</td>\n",
       "      <td>1.0</td>\n",
       "      <td>1.0</td>\n",
       "      <td>0.0</td>\n",
       "      <td>1.0</td>\n",
       "      <td>...</td>\n",
       "      <td>0.0</td>\n",
       "      <td>0.0</td>\n",
       "      <td>0.0</td>\n",
       "      <td>0.0</td>\n",
       "      <td>0.0</td>\n",
       "      <td>0.0</td>\n",
       "      <td>0.0</td>\n",
       "      <td>1.0</td>\n",
       "      <td>3.0</td>\n",
       "      <td>0.0</td>\n",
       "    </tr>\n",
       "    <tr>\n",
       "      <th>2</th>\n",
       "      <td>2.0</td>\n",
       "      <td>2.0</td>\n",
       "      <td>5.0</td>\n",
       "      <td>4.0</td>\n",
       "      <td>2.0</td>\n",
       "      <td>5.0</td>\n",
       "      <td>4.0</td>\n",
       "      <td>4.0</td>\n",
       "      <td>2.0</td>\n",
       "      <td>3.0</td>\n",
       "      <td>...</td>\n",
       "      <td>1.0</td>\n",
       "      <td>0.0</td>\n",
       "      <td>0.0</td>\n",
       "      <td>0.0</td>\n",
       "      <td>0.0</td>\n",
       "      <td>0.0</td>\n",
       "      <td>0.0</td>\n",
       "      <td>1.0</td>\n",
       "      <td>1.0</td>\n",
       "      <td>0.0</td>\n",
       "    </tr>\n",
       "    <tr>\n",
       "      <th>3</th>\n",
       "      <td>1.0</td>\n",
       "      <td>1.0</td>\n",
       "      <td>4.0</td>\n",
       "      <td>2.0</td>\n",
       "      <td>2.0</td>\n",
       "      <td>4.0</td>\n",
       "      <td>4.0</td>\n",
       "      <td>2.0</td>\n",
       "      <td>4.0</td>\n",
       "      <td>1.0</td>\n",
       "      <td>...</td>\n",
       "      <td>1.0</td>\n",
       "      <td>0.0</td>\n",
       "      <td>0.0</td>\n",
       "      <td>0.0</td>\n",
       "      <td>0.0</td>\n",
       "      <td>1.0</td>\n",
       "      <td>0.0</td>\n",
       "      <td>0.0</td>\n",
       "      <td>1.0</td>\n",
       "      <td>0.0</td>\n",
       "    </tr>\n",
       "    <tr>\n",
       "      <th>4</th>\n",
       "      <td>3.0</td>\n",
       "      <td>1.0</td>\n",
       "      <td>5.0</td>\n",
       "      <td>2.0</td>\n",
       "      <td>4.0</td>\n",
       "      <td>4.0</td>\n",
       "      <td>4.0</td>\n",
       "      <td>2.0</td>\n",
       "      <td>1.0</td>\n",
       "      <td>1.0</td>\n",
       "      <td>...</td>\n",
       "      <td>0.0</td>\n",
       "      <td>1.0</td>\n",
       "      <td>0.0</td>\n",
       "      <td>0.0</td>\n",
       "      <td>0.0</td>\n",
       "      <td>0.0</td>\n",
       "      <td>0.0</td>\n",
       "      <td>1.0</td>\n",
       "      <td>0.0</td>\n",
       "      <td>1.0</td>\n",
       "    </tr>\n",
       "  </tbody>\n",
       "</table>\n",
       "<p>5 rows × 48 columns</p>\n",
       "</div>"
      ],
      "text/plain": [
       "   h1n1_concern  h1n1_knowledge  opinion_h1n1_vacc_effective  \\\n",
       "0           2.0             2.0                          5.0   \n",
       "1           1.0             1.0                          4.0   \n",
       "2           2.0             2.0                          5.0   \n",
       "3           1.0             1.0                          4.0   \n",
       "4           3.0             1.0                          5.0   \n",
       "\n",
       "   opinion_h1n1_risk  opinion_h1n1_sick_from_vacc  \\\n",
       "0                1.0                          1.0   \n",
       "1                1.0                          1.0   \n",
       "2                4.0                          2.0   \n",
       "3                2.0                          2.0   \n",
       "4                2.0                          4.0   \n",
       "\n",
       "   opinion_seas_vacc_effective  opinion_seas_risk  \\\n",
       "0                          5.0                1.0   \n",
       "1                          4.0                1.0   \n",
       "2                          5.0                4.0   \n",
       "3                          4.0                4.0   \n",
       "4                          4.0                4.0   \n",
       "\n",
       "   opinion_seas_sick_from_vacc  age_group  education  ...  \\\n",
       "0                          1.0        1.0        3.0  ...   \n",
       "1                          1.0        0.0        1.0  ...   \n",
       "2                          4.0        2.0        3.0  ...   \n",
       "3                          2.0        4.0        1.0  ...   \n",
       "4                          2.0        1.0        1.0  ...   \n",
       "\n",
       "   hhs_geo_region_lrircsnp  hhs_geo_region_lzgpxyit  hhs_geo_region_mlyzmhmf  \\\n",
       "0                      0.0                      0.0                      1.0   \n",
       "1                      0.0                      0.0                      0.0   \n",
       "2                      1.0                      0.0                      0.0   \n",
       "3                      1.0                      0.0                      0.0   \n",
       "4                      0.0                      1.0                      0.0   \n",
       "\n",
       "   hhs_geo_region_oxchjgsf  hhs_geo_region_qufhixun  \\\n",
       "0                      0.0                      0.0   \n",
       "1                      0.0                      0.0   \n",
       "2                      0.0                      0.0   \n",
       "3                      0.0                      0.0   \n",
       "4                      0.0                      0.0   \n",
       "\n",
       "   census_msa_MSA, Not Principle  City  census_msa_MSA, Principle City  \\\n",
       "0                                  1.0                             0.0   \n",
       "1                                  0.0                             0.0   \n",
       "2                                  0.0                             0.0   \n",
       "3                                  1.0                             0.0   \n",
       "4                                  0.0                             0.0   \n",
       "\n",
       "   census_msa_Non-MSA  household_adults  household_children  \n",
       "0                 0.0               1.0                 0.0  \n",
       "1                 1.0               3.0                 0.0  \n",
       "2                 1.0               1.0                 0.0  \n",
       "3                 0.0               1.0                 0.0  \n",
       "4                 1.0               0.0                 1.0  \n",
       "\n",
       "[5 rows x 48 columns]"
      ]
     },
     "execution_count": 23,
     "metadata": {},
     "output_type": "execute_result"
    }
   ],
   "source": [
    "# Mostramos los primeros registros del dataset a predecir con cada una de las características\n",
    "features_test_df.head()"
   ]
  },
  {
   "cell_type": "markdown",
   "metadata": {},
   "source": [
    "$\\ $\n",
    "\n",
    "$\\ $\n",
    "\n",
    "$\\ $\n",
    "\n",
    "$\\ $\n",
    "\n",
    "$\\ $\n",
    "\n",
    "---\n",
    "---\n",
    "### **2.3. Normalización de los datos**\n",
    "---\n",
    "---"
   ]
  },
  {
   "cell_type": "markdown",
   "metadata": {},
   "source": [
    "Una vez hecho esto, adicionalmente al proceso realizado en el preprocesamiento común, para aplicar de forma óptima el algoritmo de kNN, es necesario normalizar los datos. Para ello, utilizamos la función `MinMaxScaler` de la librería `sklearn.preprocessing` para normalizar los datos de entrenamiento y posteriormente normalizar los datos de test con los mismos valores de normalización que los datos de entrenamiento.\n",
    "\n",
    "Mencionar, que hemos preferido emplear la normalización Min-Max en lugar de la estandarización, ya que no tenemos evidencias para afirmar que los datos siguen una distribución normal, por lo que podría ser más adecuada la normalización Min-Max."
   ]
  },
  {
   "cell_type": "code",
   "execution_count": 24,
   "metadata": {},
   "outputs": [],
   "source": [
    "# Normalizar las variables numéricas\n",
    "scaler = MinMaxScaler()\n",
    "features_train_scaled = scaler.fit_transform(features_train_df)\n",
    "features_test_scaled = scaler.transform(features_test_df)"
   ]
  },
  {
   "cell_type": "markdown",
   "metadata": {},
   "source": [
    "Una vez hecho esto, podemos comprobar que los datos han sido normalizados correctamente intentando visualizar los resultados obtenidos:"
   ]
  },
  {
   "cell_type": "code",
   "execution_count": 25,
   "metadata": {},
   "outputs": [
    {
     "data": {
      "text/plain": [
       "array([[0.33333333, 0.        , 0.5       , ..., 1.        , 0.        ,\n",
       "        0.        ],\n",
       "       [1.        , 1.        , 1.        , ..., 0.        , 0.        ,\n",
       "        0.        ],\n",
       "       [0.33333333, 0.5       , 0.5       , ..., 0.        , 0.66666667,\n",
       "        0.        ],\n",
       "       ...,\n",
       "       [0.66666667, 1.        , 0.75      , ..., 0.        , 0.        ,\n",
       "        0.        ],\n",
       "       [0.33333333, 0.5       , 0.5       , ..., 1.        , 0.33333333,\n",
       "        0.        ],\n",
       "       [0.        , 0.        , 1.        , ..., 0.        , 0.33333333,\n",
       "        0.        ]])"
      ]
     },
     "execution_count": 25,
     "metadata": {},
     "output_type": "execute_result"
    }
   ],
   "source": [
    "# Mostramos el resultado de normalizar las variables numéricas\n",
    "features_train_scaled"
   ]
  },
  {
   "cell_type": "markdown",
   "metadata": {},
   "source": [
    "Así, podemos ver que parece ser que los datos si han sufrido una normalización, pero dado el formato matricial, resulta dificil comprobarlo de forma clara. Por lo que vemos que ahora, en lugar de tener un DataFrame de pandas, tenemos un array de numpy, por lo que podemos convertirlo de nuevo a un DataFrame de pandas para poder visualizar los datos de forma más cómoda."
   ]
  },
  {
   "cell_type": "code",
   "execution_count": 26,
   "metadata": {},
   "outputs": [],
   "source": [
    "# Convertir el array normalizado a DataFrame\n",
    "features_train_scaled_df = pd.DataFrame(features_train_scaled, columns=features_train_df.columns, index=features_train_df.index)\n",
    "features_test_scaled_df = pd.DataFrame(features_test_scaled, columns=features_test_df.columns, index=features_test_df.index)"
   ]
  },
  {
   "cell_type": "markdown",
   "metadata": {},
   "source": [
    "Y ahora, sí podemos comprobar que los datos han sido normalizados correctamente de forma más sencilla:"
   ]
  },
  {
   "cell_type": "code",
   "execution_count": 27,
   "metadata": {},
   "outputs": [
    {
     "data": {
      "text/html": [
       "<div>\n",
       "<style scoped>\n",
       "    .dataframe tbody tr th:only-of-type {\n",
       "        vertical-align: middle;\n",
       "    }\n",
       "\n",
       "    .dataframe tbody tr th {\n",
       "        vertical-align: top;\n",
       "    }\n",
       "\n",
       "    .dataframe thead th {\n",
       "        text-align: right;\n",
       "    }\n",
       "</style>\n",
       "<table border=\"1\" class=\"dataframe\">\n",
       "  <thead>\n",
       "    <tr style=\"text-align: right;\">\n",
       "      <th></th>\n",
       "      <th>h1n1_concern</th>\n",
       "      <th>h1n1_knowledge</th>\n",
       "      <th>opinion_h1n1_vacc_effective</th>\n",
       "      <th>opinion_h1n1_risk</th>\n",
       "      <th>opinion_h1n1_sick_from_vacc</th>\n",
       "      <th>opinion_seas_vacc_effective</th>\n",
       "      <th>opinion_seas_risk</th>\n",
       "      <th>opinion_seas_sick_from_vacc</th>\n",
       "      <th>age_group</th>\n",
       "      <th>education</th>\n",
       "      <th>...</th>\n",
       "      <th>hhs_geo_region_lrircsnp</th>\n",
       "      <th>hhs_geo_region_lzgpxyit</th>\n",
       "      <th>hhs_geo_region_mlyzmhmf</th>\n",
       "      <th>hhs_geo_region_oxchjgsf</th>\n",
       "      <th>hhs_geo_region_qufhixun</th>\n",
       "      <th>census_msa_MSA, Not Principle  City</th>\n",
       "      <th>census_msa_MSA, Principle City</th>\n",
       "      <th>census_msa_Non-MSA</th>\n",
       "      <th>household_adults</th>\n",
       "      <th>household_children</th>\n",
       "    </tr>\n",
       "  </thead>\n",
       "  <tbody>\n",
       "    <tr>\n",
       "      <th>0</th>\n",
       "      <td>0.333333</td>\n",
       "      <td>0.0</td>\n",
       "      <td>0.5</td>\n",
       "      <td>0.041204</td>\n",
       "      <td>0.25</td>\n",
       "      <td>0.25</td>\n",
       "      <td>0.054755</td>\n",
       "      <td>0.25</td>\n",
       "      <td>0.50</td>\n",
       "      <td>0.000000</td>\n",
       "      <td>...</td>\n",
       "      <td>0.0</td>\n",
       "      <td>0.0</td>\n",
       "      <td>0.0</td>\n",
       "      <td>1.0</td>\n",
       "      <td>0.0</td>\n",
       "      <td>0.0</td>\n",
       "      <td>0.0</td>\n",
       "      <td>1.0</td>\n",
       "      <td>0.000000</td>\n",
       "      <td>0.0</td>\n",
       "    </tr>\n",
       "    <tr>\n",
       "      <th>1</th>\n",
       "      <td>1.000000</td>\n",
       "      <td>1.0</td>\n",
       "      <td>1.0</td>\n",
       "      <td>0.760301</td>\n",
       "      <td>0.75</td>\n",
       "      <td>0.75</td>\n",
       "      <td>0.291066</td>\n",
       "      <td>0.75</td>\n",
       "      <td>0.25</td>\n",
       "      <td>0.333333</td>\n",
       "      <td>...</td>\n",
       "      <td>0.0</td>\n",
       "      <td>0.0</td>\n",
       "      <td>0.0</td>\n",
       "      <td>0.0</td>\n",
       "      <td>0.0</td>\n",
       "      <td>1.0</td>\n",
       "      <td>0.0</td>\n",
       "      <td>0.0</td>\n",
       "      <td>0.000000</td>\n",
       "      <td>0.0</td>\n",
       "    </tr>\n",
       "    <tr>\n",
       "      <th>2</th>\n",
       "      <td>0.333333</td>\n",
       "      <td>0.5</td>\n",
       "      <td>0.5</td>\n",
       "      <td>0.041204</td>\n",
       "      <td>0.00</td>\n",
       "      <td>0.75</td>\n",
       "      <td>0.054755</td>\n",
       "      <td>0.25</td>\n",
       "      <td>0.00</td>\n",
       "      <td>1.000000</td>\n",
       "      <td>...</td>\n",
       "      <td>0.0</td>\n",
       "      <td>0.0</td>\n",
       "      <td>0.0</td>\n",
       "      <td>0.0</td>\n",
       "      <td>1.0</td>\n",
       "      <td>1.0</td>\n",
       "      <td>0.0</td>\n",
       "      <td>0.0</td>\n",
       "      <td>0.666667</td>\n",
       "      <td>0.0</td>\n",
       "    </tr>\n",
       "    <tr>\n",
       "      <th>3</th>\n",
       "      <td>0.333333</td>\n",
       "      <td>0.5</td>\n",
       "      <td>0.5</td>\n",
       "      <td>0.520602</td>\n",
       "      <td>1.00</td>\n",
       "      <td>1.00</td>\n",
       "      <td>0.763689</td>\n",
       "      <td>0.00</td>\n",
       "      <td>1.00</td>\n",
       "      <td>0.333333</td>\n",
       "      <td>...</td>\n",
       "      <td>1.0</td>\n",
       "      <td>0.0</td>\n",
       "      <td>0.0</td>\n",
       "      <td>0.0</td>\n",
       "      <td>0.0</td>\n",
       "      <td>0.0</td>\n",
       "      <td>1.0</td>\n",
       "      <td>0.0</td>\n",
       "      <td>0.000000</td>\n",
       "      <td>0.0</td>\n",
       "    </tr>\n",
       "    <tr>\n",
       "      <th>4</th>\n",
       "      <td>0.666667</td>\n",
       "      <td>0.5</td>\n",
       "      <td>0.5</td>\n",
       "      <td>0.520602</td>\n",
       "      <td>0.25</td>\n",
       "      <td>0.50</td>\n",
       "      <td>0.054755</td>\n",
       "      <td>0.75</td>\n",
       "      <td>0.75</td>\n",
       "      <td>0.666667</td>\n",
       "      <td>...</td>\n",
       "      <td>0.0</td>\n",
       "      <td>0.0</td>\n",
       "      <td>0.0</td>\n",
       "      <td>0.0</td>\n",
       "      <td>1.0</td>\n",
       "      <td>1.0</td>\n",
       "      <td>0.0</td>\n",
       "      <td>0.0</td>\n",
       "      <td>0.333333</td>\n",
       "      <td>0.0</td>\n",
       "    </tr>\n",
       "  </tbody>\n",
       "</table>\n",
       "<p>5 rows × 48 columns</p>\n",
       "</div>"
      ],
      "text/plain": [
       "   h1n1_concern  h1n1_knowledge  opinion_h1n1_vacc_effective  \\\n",
       "0      0.333333             0.0                          0.5   \n",
       "1      1.000000             1.0                          1.0   \n",
       "2      0.333333             0.5                          0.5   \n",
       "3      0.333333             0.5                          0.5   \n",
       "4      0.666667             0.5                          0.5   \n",
       "\n",
       "   opinion_h1n1_risk  opinion_h1n1_sick_from_vacc  \\\n",
       "0           0.041204                         0.25   \n",
       "1           0.760301                         0.75   \n",
       "2           0.041204                         0.00   \n",
       "3           0.520602                         1.00   \n",
       "4           0.520602                         0.25   \n",
       "\n",
       "   opinion_seas_vacc_effective  opinion_seas_risk  \\\n",
       "0                         0.25           0.054755   \n",
       "1                         0.75           0.291066   \n",
       "2                         0.75           0.054755   \n",
       "3                         1.00           0.763689   \n",
       "4                         0.50           0.054755   \n",
       "\n",
       "   opinion_seas_sick_from_vacc  age_group  education  ...  \\\n",
       "0                         0.25       0.50   0.000000  ...   \n",
       "1                         0.75       0.25   0.333333  ...   \n",
       "2                         0.25       0.00   1.000000  ...   \n",
       "3                         0.00       1.00   0.333333  ...   \n",
       "4                         0.75       0.75   0.666667  ...   \n",
       "\n",
       "   hhs_geo_region_lrircsnp  hhs_geo_region_lzgpxyit  hhs_geo_region_mlyzmhmf  \\\n",
       "0                      0.0                      0.0                      0.0   \n",
       "1                      0.0                      0.0                      0.0   \n",
       "2                      0.0                      0.0                      0.0   \n",
       "3                      1.0                      0.0                      0.0   \n",
       "4                      0.0                      0.0                      0.0   \n",
       "\n",
       "   hhs_geo_region_oxchjgsf  hhs_geo_region_qufhixun  \\\n",
       "0                      1.0                      0.0   \n",
       "1                      0.0                      0.0   \n",
       "2                      0.0                      1.0   \n",
       "3                      0.0                      0.0   \n",
       "4                      0.0                      1.0   \n",
       "\n",
       "   census_msa_MSA, Not Principle  City  census_msa_MSA, Principle City  \\\n",
       "0                                  0.0                             0.0   \n",
       "1                                  1.0                             0.0   \n",
       "2                                  1.0                             0.0   \n",
       "3                                  0.0                             1.0   \n",
       "4                                  1.0                             0.0   \n",
       "\n",
       "   census_msa_Non-MSA  household_adults  household_children  \n",
       "0                 1.0          0.000000                 0.0  \n",
       "1                 0.0          0.000000                 0.0  \n",
       "2                 0.0          0.666667                 0.0  \n",
       "3                 0.0          0.000000                 0.0  \n",
       "4                 0.0          0.333333                 0.0  \n",
       "\n",
       "[5 rows x 48 columns]"
      ]
     },
     "execution_count": 27,
     "metadata": {},
     "output_type": "execute_result"
    }
   ],
   "source": [
    "# Mostramos los primeros registros del dataset con cada una de las características una vez normalizadas\n",
    "features_train_scaled_df.head()"
   ]
  },
  {
   "cell_type": "markdown",
   "metadata": {},
   "source": [
    "Visualizamos también los datos de test normalizados:"
   ]
  },
  {
   "cell_type": "code",
   "execution_count": 28,
   "metadata": {},
   "outputs": [
    {
     "data": {
      "text/html": [
       "<div>\n",
       "<style scoped>\n",
       "    .dataframe tbody tr th:only-of-type {\n",
       "        vertical-align: middle;\n",
       "    }\n",
       "\n",
       "    .dataframe tbody tr th {\n",
       "        vertical-align: top;\n",
       "    }\n",
       "\n",
       "    .dataframe thead th {\n",
       "        text-align: right;\n",
       "    }\n",
       "</style>\n",
       "<table border=\"1\" class=\"dataframe\">\n",
       "  <thead>\n",
       "    <tr style=\"text-align: right;\">\n",
       "      <th></th>\n",
       "      <th>h1n1_concern</th>\n",
       "      <th>h1n1_knowledge</th>\n",
       "      <th>opinion_h1n1_vacc_effective</th>\n",
       "      <th>opinion_h1n1_risk</th>\n",
       "      <th>opinion_h1n1_sick_from_vacc</th>\n",
       "      <th>opinion_seas_vacc_effective</th>\n",
       "      <th>opinion_seas_risk</th>\n",
       "      <th>opinion_seas_sick_from_vacc</th>\n",
       "      <th>age_group</th>\n",
       "      <th>education</th>\n",
       "      <th>...</th>\n",
       "      <th>hhs_geo_region_lrircsnp</th>\n",
       "      <th>hhs_geo_region_lzgpxyit</th>\n",
       "      <th>hhs_geo_region_mlyzmhmf</th>\n",
       "      <th>hhs_geo_region_oxchjgsf</th>\n",
       "      <th>hhs_geo_region_qufhixun</th>\n",
       "      <th>census_msa_MSA, Not Principle  City</th>\n",
       "      <th>census_msa_MSA, Principle City</th>\n",
       "      <th>census_msa_Non-MSA</th>\n",
       "      <th>household_adults</th>\n",
       "      <th>household_children</th>\n",
       "    </tr>\n",
       "  </thead>\n",
       "  <tbody>\n",
       "    <tr>\n",
       "      <th>0</th>\n",
       "      <td>0.666667</td>\n",
       "      <td>1.0</td>\n",
       "      <td>1.00</td>\n",
       "      <td>0.041204</td>\n",
       "      <td>0.00</td>\n",
       "      <td>1.00</td>\n",
       "      <td>0.054755</td>\n",
       "      <td>0.00</td>\n",
       "      <td>0.25</td>\n",
       "      <td>1.000000</td>\n",
       "      <td>...</td>\n",
       "      <td>0.0</td>\n",
       "      <td>0.0</td>\n",
       "      <td>1.0</td>\n",
       "      <td>0.0</td>\n",
       "      <td>0.0</td>\n",
       "      <td>1.0</td>\n",
       "      <td>0.0</td>\n",
       "      <td>0.0</td>\n",
       "      <td>0.333333</td>\n",
       "      <td>0.000000</td>\n",
       "    </tr>\n",
       "    <tr>\n",
       "      <th>1</th>\n",
       "      <td>0.333333</td>\n",
       "      <td>0.5</td>\n",
       "      <td>0.75</td>\n",
       "      <td>0.041204</td>\n",
       "      <td>0.00</td>\n",
       "      <td>0.75</td>\n",
       "      <td>0.054755</td>\n",
       "      <td>0.00</td>\n",
       "      <td>0.00</td>\n",
       "      <td>0.333333</td>\n",
       "      <td>...</td>\n",
       "      <td>0.0</td>\n",
       "      <td>0.0</td>\n",
       "      <td>0.0</td>\n",
       "      <td>0.0</td>\n",
       "      <td>0.0</td>\n",
       "      <td>0.0</td>\n",
       "      <td>0.0</td>\n",
       "      <td>1.0</td>\n",
       "      <td>1.000000</td>\n",
       "      <td>0.000000</td>\n",
       "    </tr>\n",
       "    <tr>\n",
       "      <th>2</th>\n",
       "      <td>0.666667</td>\n",
       "      <td>1.0</td>\n",
       "      <td>1.00</td>\n",
       "      <td>0.760301</td>\n",
       "      <td>0.25</td>\n",
       "      <td>1.00</td>\n",
       "      <td>0.763689</td>\n",
       "      <td>0.75</td>\n",
       "      <td>0.50</td>\n",
       "      <td>1.000000</td>\n",
       "      <td>...</td>\n",
       "      <td>1.0</td>\n",
       "      <td>0.0</td>\n",
       "      <td>0.0</td>\n",
       "      <td>0.0</td>\n",
       "      <td>0.0</td>\n",
       "      <td>0.0</td>\n",
       "      <td>0.0</td>\n",
       "      <td>1.0</td>\n",
       "      <td>0.333333</td>\n",
       "      <td>0.000000</td>\n",
       "    </tr>\n",
       "    <tr>\n",
       "      <th>3</th>\n",
       "      <td>0.333333</td>\n",
       "      <td>0.5</td>\n",
       "      <td>0.75</td>\n",
       "      <td>0.280903</td>\n",
       "      <td>0.25</td>\n",
       "      <td>0.75</td>\n",
       "      <td>0.763689</td>\n",
       "      <td>0.25</td>\n",
       "      <td>1.00</td>\n",
       "      <td>0.333333</td>\n",
       "      <td>...</td>\n",
       "      <td>1.0</td>\n",
       "      <td>0.0</td>\n",
       "      <td>0.0</td>\n",
       "      <td>0.0</td>\n",
       "      <td>0.0</td>\n",
       "      <td>1.0</td>\n",
       "      <td>0.0</td>\n",
       "      <td>0.0</td>\n",
       "      <td>0.333333</td>\n",
       "      <td>0.000000</td>\n",
       "    </tr>\n",
       "    <tr>\n",
       "      <th>4</th>\n",
       "      <td>1.000000</td>\n",
       "      <td>0.5</td>\n",
       "      <td>1.00</td>\n",
       "      <td>0.280903</td>\n",
       "      <td>0.75</td>\n",
       "      <td>0.75</td>\n",
       "      <td>0.763689</td>\n",
       "      <td>0.25</td>\n",
       "      <td>0.25</td>\n",
       "      <td>0.333333</td>\n",
       "      <td>...</td>\n",
       "      <td>0.0</td>\n",
       "      <td>1.0</td>\n",
       "      <td>0.0</td>\n",
       "      <td>0.0</td>\n",
       "      <td>0.0</td>\n",
       "      <td>0.0</td>\n",
       "      <td>0.0</td>\n",
       "      <td>1.0</td>\n",
       "      <td>0.000000</td>\n",
       "      <td>0.333333</td>\n",
       "    </tr>\n",
       "  </tbody>\n",
       "</table>\n",
       "<p>5 rows × 48 columns</p>\n",
       "</div>"
      ],
      "text/plain": [
       "   h1n1_concern  h1n1_knowledge  opinion_h1n1_vacc_effective  \\\n",
       "0      0.666667             1.0                         1.00   \n",
       "1      0.333333             0.5                         0.75   \n",
       "2      0.666667             1.0                         1.00   \n",
       "3      0.333333             0.5                         0.75   \n",
       "4      1.000000             0.5                         1.00   \n",
       "\n",
       "   opinion_h1n1_risk  opinion_h1n1_sick_from_vacc  \\\n",
       "0           0.041204                         0.00   \n",
       "1           0.041204                         0.00   \n",
       "2           0.760301                         0.25   \n",
       "3           0.280903                         0.25   \n",
       "4           0.280903                         0.75   \n",
       "\n",
       "   opinion_seas_vacc_effective  opinion_seas_risk  \\\n",
       "0                         1.00           0.054755   \n",
       "1                         0.75           0.054755   \n",
       "2                         1.00           0.763689   \n",
       "3                         0.75           0.763689   \n",
       "4                         0.75           0.763689   \n",
       "\n",
       "   opinion_seas_sick_from_vacc  age_group  education  ...  \\\n",
       "0                         0.00       0.25   1.000000  ...   \n",
       "1                         0.00       0.00   0.333333  ...   \n",
       "2                         0.75       0.50   1.000000  ...   \n",
       "3                         0.25       1.00   0.333333  ...   \n",
       "4                         0.25       0.25   0.333333  ...   \n",
       "\n",
       "   hhs_geo_region_lrircsnp  hhs_geo_region_lzgpxyit  hhs_geo_region_mlyzmhmf  \\\n",
       "0                      0.0                      0.0                      1.0   \n",
       "1                      0.0                      0.0                      0.0   \n",
       "2                      1.0                      0.0                      0.0   \n",
       "3                      1.0                      0.0                      0.0   \n",
       "4                      0.0                      1.0                      0.0   \n",
       "\n",
       "   hhs_geo_region_oxchjgsf  hhs_geo_region_qufhixun  \\\n",
       "0                      0.0                      0.0   \n",
       "1                      0.0                      0.0   \n",
       "2                      0.0                      0.0   \n",
       "3                      0.0                      0.0   \n",
       "4                      0.0                      0.0   \n",
       "\n",
       "   census_msa_MSA, Not Principle  City  census_msa_MSA, Principle City  \\\n",
       "0                                  1.0                             0.0   \n",
       "1                                  0.0                             0.0   \n",
       "2                                  0.0                             0.0   \n",
       "3                                  1.0                             0.0   \n",
       "4                                  0.0                             0.0   \n",
       "\n",
       "   census_msa_Non-MSA  household_adults  household_children  \n",
       "0                 0.0          0.333333            0.000000  \n",
       "1                 1.0          1.000000            0.000000  \n",
       "2                 1.0          0.333333            0.000000  \n",
       "3                 0.0          0.333333            0.000000  \n",
       "4                 1.0          0.000000            0.333333  \n",
       "\n",
       "[5 rows x 48 columns]"
      ]
     },
     "execution_count": 28,
     "metadata": {},
     "output_type": "execute_result"
    }
   ],
   "source": [
    "# Mostramos los primeros registros del dataset con cada una de las características una vez normalizadas\n",
    "features_test_scaled_df.head()"
   ]
  },
  {
   "cell_type": "markdown",
   "metadata": {},
   "source": [
    "Y finalmente, nos podemos asegurar de que todos los datos son numéricos, hecho necesario para poder aplicar el algoritmo de kNN:"
   ]
  },
  {
   "cell_type": "code",
   "execution_count": 29,
   "metadata": {},
   "outputs": [],
   "source": [
    "# Asegurarse de que todos los valores sean numéricos\n",
    "# features_train_scaled = features_train_scaled.astype(float)\n",
    "# features_test_scaled = features_test_scaled.astype(float)\n",
    "labels_df = labels_df.astype(int)"
   ]
  },
  {
   "cell_type": "markdown",
   "metadata": {},
   "source": [
    "$\\ $\n",
    "\n",
    "$\\ $\n",
    "\n",
    "$\\ $\n",
    "\n",
    "$\\ $\n",
    "\n",
    "$\\ $\n",
    "\n",
    "---\n",
    "---\n",
    "### **2.4. Particionamiento de los datos**\n",
    "---\n",
    "---"
   ]
  },
  {
   "cell_type": "markdown",
   "metadata": {},
   "source": [
    "Una vez realizado el preprocesamiento general y el específico de los datos, pasamos a dividir los datos de entrenamiento en dos subconjuntos: uno de entrenamiento y otro de validación. Para ello, utilizamos la función `train_test_split` de la librería `sklearn.model_selection` que nos permite dividir los datos en los dos subconjuntos mencionados.\n",
    "\n",
    "Además, creamos también el conjunto de test, que utilizaremos para evaluar el rendimiento del modelo final. Pare este conjunto, no necesitamos las etiquetas necesarias para comprobar el rendimiento del modelo, ya que estas etiquetas no están disponibles en la competición. Así, para poder evaluar el rendimiento del modelo, utilizaremos el conjunto de validación y finalmente, una vez que nos hayamos decidido por un modelo, utilizaremos el conjunto de test para evaluar el rendimiento final, creando una submision con las predicciones realizadas a la página de la competición, la cuál nos devolverá la métrica de evaluación correspondiente."
   ]
  },
  {
   "cell_type": "code",
   "execution_count": 77,
   "metadata": {},
   "outputs": [
    {
     "name": "stdout",
     "output_type": "stream",
     "text": [
      "Para X -> Tamaño de Train: (21365, 48), Validación: (5342, 48), Test: (26708, 48)\n",
      "Para y -> Tamaño de Train: (21365, 2), Validación: (5342, 2)\n"
     ]
    }
   ],
   "source": [
    "# 1. División en Entrenamiento (80%) y Validación (20%)\n",
    "X_train, X_val, y_train, y_val = train_test_split(\n",
    "    features_train_scaled,\n",
    "    labels_df,\n",
    "    test_size=0.2,\n",
    "    random_state=42\n",
    ")\n",
    "\n",
    "# 2. Guardar los datos de Test\n",
    "X_test = features_test_scaled\n",
    "\n",
    "# Verificar tamaños\n",
    "print(f\"Para X -> Tamaño de Train: {X_train.shape}, Validación: {X_val.shape}, Test: {X_test.shape}\")\n",
    "print(f\"Para y -> Tamaño de Train: {y_train.shape}, Validación: {y_val.shape}\")"
   ]
  },
  {
   "cell_type": "markdown",
   "metadata": {},
   "source": [
    "En este caso, hemos dividido los datos de entrenamiento en un 80% para entrenamiento y un 20% para validación. Además, hemos utilizado una semilla para la división de los datos, de forma que los resultados sean reproducibles.\n",
    "\n",
    "Podría resultar interesante emplear una división con estratificación, ya que las clases están desbalanceadas, pero dado que disponemos de variables transformadas con OneHotEncoding, por ejemplo, no sería factible ya que tenemos variables con 1 sola clase y como mínimo necesitamos 2 para poder aplicar la estratificación."
   ]
  },
  {
   "cell_type": "markdown",
   "metadata": {},
   "source": [
    "$\\ $\n",
    "\n",
    "$\\ $\n",
    "\n",
    "$\\ $\n",
    "\n",
    "$\\ $\n",
    "\n",
    "$\\ $\n",
    "\n",
    "$\\ $\n",
    "\n",
    "$\\ $\n",
    "\n",
    "$\\ $\n",
    "\n",
    "---\n",
    "---\n",
    "---\n",
    "## **3. kNN**\n",
    "---\n",
    "---\n",
    "---"
   ]
  },
  {
   "cell_type": "markdown",
   "metadata": {},
   "source": [
    "$\\ $\n",
    "\n",
    "---\n",
    "---\n",
    "### **3.1. Búsqueda del mejor modelo**\n",
    "---\n",
    "---"
   ]
  },
  {
   "cell_type": "markdown",
   "metadata": {},
   "source": [
    "Ahora, con todos los pasos posteriores realizados, ya estamos listos para implementar el algoritmo kNN.\n",
    "\n",
    "Para ello, lo que vamos a hacer es definir un clasificador K-Nearest Neighbors (`KNeighborsClassifier`) y envolverlo en un `MultiOutputClassifier` para manejar múltiples salidas. Luego, definimos una cuadrícula de parámetros (`param_grid`) que incluye diferentes métricas de distancia, números de vecinos y tipos de pesos. \n",
    "\n",
    "Después, creamos un objeto GridSearchCV para realizar una búsqueda en la cuadrícula de parámetros con validación cruzada de 5 pliegues (`cv=5`). Ajustamos el modelo a los datos de entrenamiento (`X_train, y_train`) y finalmente imprimimos los mejores hiperparámetros encontrados."
   ]
  },
  {
   "cell_type": "code",
   "execution_count": 31,
   "metadata": {},
   "outputs": [
    {
     "name": "stdout",
     "output_type": "stream",
     "text": [
      "Mejores hiperparámetros KNN: {'estimator__metric': 'manhattan', 'estimator__n_neighbors': 7, 'estimator__weights': 'uniform'}\n"
     ]
    }
   ],
   "source": [
    "# Define the KNeighborsClassifier\n",
    "knn = KNeighborsClassifier()\n",
    "\n",
    "# Wrap it in a MultiOutputClassifier\n",
    "multi_target_knn = MultiOutputClassifier(knn)\n",
    "\n",
    "# Define the parameter grid\n",
    "param_grid = {\n",
    "    'estimator__metric': ['euclidean', 'manhattan', 'minkowski'],\n",
    "    'estimator__n_neighbors': [3, 5, 7],\n",
    "    'estimator__weights': ['uniform', 'distance']\n",
    "}\n",
    "\n",
    "# Create the GridSearchCV object\n",
    "grid_knn = GridSearchCV(multi_target_knn, param_grid, cv=5)\n",
    "\n",
    "# Fit the model\n",
    "grid_knn.fit(X_train, y_train)\n",
    "\n",
    "# Print the best parameters\n",
    "print(\"Mejores hiperparámetros KNN:\", grid_knn.best_params_)"
   ]
  },
  {
   "cell_type": "markdown",
   "metadata": {},
   "source": [
    "En este caso, vemos que los mejores hiperparámetros encontrados son los siguientes:\n",
    "\n",
    "- Métrica de distancia: `'manhattan'`\n",
    "- Número de vecinos: `7`\n",
    "- Tipo de pesos: `'uniform'`\n",
    "\n",
    "Esto quiere decir que el modelo kNN que mejor se ajusta a los datos de entrenamiento es aquel que utiliza la métrica de distancia de Manhattan, 7 vecinos y pesos uniformes, por lo que en las siguientes secciones emplearemos estos hiperparámetros para entrenar el modelo final."
   ]
  },
  {
   "cell_type": "markdown",
   "metadata": {},
   "source": [
    "$\\ $\n",
    "\n",
    "$\\ $\n",
    "\n",
    "$\\ $\n",
    "\n",
    "$\\ $\n",
    "\n",
    "$\\ $\n",
    "\n",
    "---\n",
    "---\n",
    "### **3.2. Evaluación con el mejor modelo**\n",
    "---\n",
    "---"
   ]
  },
  {
   "cell_type": "markdown",
   "metadata": {},
   "source": [
    "Como hemos dicho, ahora vamos a emplear el modelo obtenido anteriormente con los mejores hiperparámetros para evaluar su rendimiento en el conjunto de validación. Para ello, primero obtenemos el mejor modelo encontrado por `GridSearchCV` y lo guardamos en un archivo utilizando `joblib`. Esto nos permitirá reutilizar el modelo entrenado sin tener que volver a entrenarlo en el futuro."
   ]
  },
  {
   "cell_type": "code",
   "execution_count": 32,
   "metadata": {},
   "outputs": [
    {
     "data": {
      "text/plain": [
       "['../../Algorithms/Prueba1/knn_best_model.pkl']"
      ]
     },
     "execution_count": 32,
     "metadata": {},
     "output_type": "execute_result"
    }
   ],
   "source": [
    "# Obtener el mejor modelo\n",
    "knn_best = grid_knn.best_estimator_\n",
    "\n",
    "# Guardar el modelo entrenado\n",
    "joblib.dump(knn_best, '../../Algorithms/Prueba1/knn_best_model.pkl')"
   ]
  },
  {
   "cell_type": "markdown",
   "metadata": {},
   "source": [
    "$\\ $\n",
    "\n",
    "$\\ $\n",
    "\n",
    "$\\ $\n",
    "\n",
    "---\n",
    "#### **3.2.1. Predicción de valores enteros (predict)**\n",
    "---"
   ]
  },
  {
   "cell_type": "markdown",
   "metadata": {},
   "source": [
    "Una vez guardado el modelo, lo cargamos y realizamos predicciones sobre el conjunto de validación. Para ello, empleamos el método `predict` del modelo, que nos devolverá las predicciones realizadas sobre el conjunto de validación.\n",
    "\n",
    "Así, la función `knn_best.predict(X_val)` devuelve las etiquetas de clase predichas para cada muestra en el conjunto de validación. Es decir, para cada muestra, proporciona la clase que el modelo considera más probable. Esto es útil cuando solo necesitamos las etiquetas de clase predichas.\n",
    "\n",
    "En este problema concreto, dado que el problema es de múltiples etiquetas (multi-output) donde tenemos que predecir más de una variable de salida, el proceso es similar al de un problema de clasificación estándar, pero se aplica a cada variable de salida por separado. Aquí es donde el uso de `MultiOutputClassifier` es útil, ya que permite manejar múltiples salidas simultáneamente.\n",
    "\n",
    "Por lo que en este caso, `knn_best.predict(X_val)` devolverá una matriz donde cada fila corresponde a una muestra y cada columna a una variable de salida. Cada valor en la matriz será la etiqueta predicha para la muestra correspondiente y la variable de salida correspondiente."
   ]
  },
  {
   "cell_type": "code",
   "execution_count": 33,
   "metadata": {},
   "outputs": [],
   "source": [
    "# Evaluar KNN en el conjunto de validación\n",
    "knn_preds = knn_best.predict(X_val)"
   ]
  },
  {
   "cell_type": "markdown",
   "metadata": {},
   "source": [
    "Una vez realizadas las predicciones sobre el conjunto de validación, podemos evaluar el rendimiento del modelo. Para ello, primero convertimos los resultados obtenidos en un DataFrame de pandas para poder visualizarlos de forma más cómoda, con los correspondientes nombres de las columnas dados por las respectivas etiquetas. Además, guardamos las predicciones en un archivo CSV, en caso de que queramos cargarlas en el futuro."
   ]
  },
  {
   "cell_type": "code",
   "execution_count": 34,
   "metadata": {},
   "outputs": [],
   "source": [
    "# Convertir las predicciones a un DataFrame de pandas\n",
    "knn_preds_df = pd.DataFrame(knn_preds, columns=['h1n1_vaccine', 'seasonal_vaccine'])\n",
    "\n",
    "# Guardar el DataFrame en un archivo CSV\n",
    "knn_preds_df.to_csv('../../Data/Algorithms/Prueba1/knn_preds.csv', index=False)"
   ]
  },
  {
   "cell_type": "markdown",
   "metadata": {},
   "source": [
    "Mostrar las primeras filas de las predicciones realizadas:"
   ]
  },
  {
   "cell_type": "code",
   "execution_count": 40,
   "metadata": {},
   "outputs": [
    {
     "data": {
      "text/html": [
       "<div>\n",
       "<style scoped>\n",
       "    .dataframe tbody tr th:only-of-type {\n",
       "        vertical-align: middle;\n",
       "    }\n",
       "\n",
       "    .dataframe tbody tr th {\n",
       "        vertical-align: top;\n",
       "    }\n",
       "\n",
       "    .dataframe thead th {\n",
       "        text-align: right;\n",
       "    }\n",
       "</style>\n",
       "<table border=\"1\" class=\"dataframe\">\n",
       "  <thead>\n",
       "    <tr style=\"text-align: right;\">\n",
       "      <th></th>\n",
       "      <th>h1n1_vaccine</th>\n",
       "      <th>seasonal_vaccine</th>\n",
       "    </tr>\n",
       "  </thead>\n",
       "  <tbody>\n",
       "    <tr>\n",
       "      <th>0</th>\n",
       "      <td>0</td>\n",
       "      <td>0</td>\n",
       "    </tr>\n",
       "    <tr>\n",
       "      <th>1</th>\n",
       "      <td>0</td>\n",
       "      <td>0</td>\n",
       "    </tr>\n",
       "    <tr>\n",
       "      <th>2</th>\n",
       "      <td>0</td>\n",
       "      <td>1</td>\n",
       "    </tr>\n",
       "    <tr>\n",
       "      <th>3</th>\n",
       "      <td>0</td>\n",
       "      <td>0</td>\n",
       "    </tr>\n",
       "    <tr>\n",
       "      <th>4</th>\n",
       "      <td>0</td>\n",
       "      <td>1</td>\n",
       "    </tr>\n",
       "  </tbody>\n",
       "</table>\n",
       "</div>"
      ],
      "text/plain": [
       "   h1n1_vaccine  seasonal_vaccine\n",
       "0             0                 0\n",
       "1             0                 0\n",
       "2             0                 1\n",
       "3             0                 0\n",
       "4             0                 1"
      ]
     },
     "execution_count": 40,
     "metadata": {},
     "output_type": "execute_result"
    }
   ],
   "source": [
    "knn_preds_df.head()"
   ]
  },
  {
   "cell_type": "markdown",
   "metadata": {},
   "source": [
    "Ahora sí, podemos evaluar el rendimiento del modelo. Para ello, empleamos la métrica de evaluación `accuracy_score` de la librería `sklearn.metrics`, que nos permite calcular la precisión de las predicciones realizadas por el modelo y `classification_report` para obtener un informe más detallado de la precisión, recall, f1-score y support de las predicciones realizadas."
   ]
  },
  {
   "cell_type": "code",
   "execution_count": 36,
   "metadata": {},
   "outputs": [
    {
     "name": "stdout",
     "output_type": "stream",
     "text": [
      "Accuracy en validación: 0.595469861475103\n",
      "\n",
      "F1 Score (weighted): 0.592206437906739\n",
      "Precision (weighted): 0.6677509979251738\n",
      "Recall (weighted): 0.5554314437308016\n",
      "\n",
      "Reporte de clasificación:\n",
      "               precision    recall  f1-score   support\n",
      "\n",
      "           0       0.61      0.28      0.38      1130\n",
      "           1       0.70      0.68      0.69      2451\n",
      "\n",
      "   micro avg       0.68      0.56      0.61      3581\n",
      "   macro avg       0.65      0.48      0.54      3581\n",
      "weighted avg       0.67      0.56      0.59      3581\n",
      " samples avg       0.31      0.28      0.29      3581\n",
      "\n"
     ]
    }
   ],
   "source": [
    "# Calcular y mostrar la exactitud\n",
    "print(\"Accuracy en validación:\", accuracy_score(y_val, knn_preds), end=\"\\n\\n\")\n",
    "\n",
    "# Calcular y mostrar el F1-score\n",
    "f1 = f1_score(y_val, knn_preds, average='weighted', zero_division=0)\n",
    "print(\"F1 Score (weighted):\", f1)\n",
    "\n",
    "# Calcular y mostrar la precisión\n",
    "precision = precision_score(y_val, knn_preds, average='weighted', zero_division=0)\n",
    "print(\"Precision (weighted):\", precision)\n",
    "\n",
    "# Calcular y mostrar el recall\n",
    "recall = recall_score(y_val, knn_preds, average='weighted', zero_division=0)\n",
    "print(\"Recall (weighted):\", recall, end=\"\\n\\n\")\n",
    "\n",
    "# Calcular y mostrar el reporte de clasificación\n",
    "print(\"Reporte de clasificación:\\n\", classification_report(y_val, knn_preds, zero_division=0))"
   ]
  },
  {
   "cell_type": "markdown",
   "metadata": {},
   "source": [
    "Los resultados obtenidos muestran que el modelo KNN tiene una precisión de validación de 59.55%. El reporte de clasificación indica que el modelo tiene una precisión de 0.61 para la clase 0 y de 0.70 para la clase 1. Sin embargo, el recall para la clase 0 es bastante bajo (0.28), lo que sugiere que el modelo tiene dificultades para identificar correctamente los casos de la clase 0.\n",
    "\n",
    "El f1-score, que es una medida combinada de precisión y recall, es de 0.38 para la clase 0 y de 0.69 para la clase 1. En general, el modelo parece funcionar mejor para la clase 1 que para la clase 0. La media ponderada (weighted avg) del f1-score es de 0.59, lo que indica un rendimiento moderado del modelo en general.\n",
    "\n",
    "Como aclaración, cada una de estas métricas hacen referencia a lo siguiente:\n",
    "\n",
    "  - **Precisión:** es la proporción de verdaderos positivos entre todos los casos que el modelo ha clasificado como positivos. En otras palabras, mide la exactitud de las predicciones positivas del modelo. Una precisión alta significa que el modelo comete pocos errores al predecir la clase positiva.\n",
    "\n",
    "  - **Recall:** también conocido como sensibilidad o tasa de verdaderos positivos, es la proporción de verdaderos positivos entre todos los casos que realmente son positivos. Mide la capacidad del modelo para identificar correctamente todos los casos positivos. Un recall alto significa que el modelo detecta la mayoría de los casos positivos.\n",
    "\n",
    "  - **f1-score:** es la media armónica de la precisión y el recall. Proporciona una única métrica que equilibra ambos aspectos, siendo útil cuando se necesita un balance entre precisión y recall. Un f1-score alto indica que el modelo tiene tanto una alta precisión como un alto recall.\n",
    "\n",
    "  - **Support:** es el número de ocurrencias reales de cada clase en el conjunto de datos. Proporciona contexto sobre cuántos ejemplos de cada clase hay, lo cual es importante para interpretar las otras métricas. Por ejemplo, si una clase tiene un support bajo, las métricas asociadas a esa clase pueden ser menos confiables."
   ]
  },
  {
   "cell_type": "markdown",
   "metadata": {},
   "source": [
    "$\\ $\n",
    "\n",
    "$\\ $\n",
    "\n",
    "$\\ $\n",
    "\n",
    "---\n",
    "#### **3.2.2. Predicción de probabilidades (predict_proba)**\n",
    "---"
   ]
  },
  {
   "cell_type": "markdown",
   "metadata": {},
   "source": [
    "Dado el propósito final de este problema, resultaría más conveniente implementar un modelo que prediga probabilidades en lugar de etiquetas de clase. Esto se debe a que, en la competición, se evalúa la predicción de probabilidades en lugar de las etiquetas de clase directamente.\n",
    "\n",
    "Así, en este caso, la función `knn_best.predict_proba(X_val)` devolverá una lista de matrices de probabilidades, una para cada variable de salida. Cada matriz de probabilidades tendrá las probabilidades de pertenencia a cada clase para cada muestra, similar a un problema de clasificación estándar pero repetido para cada variable de salida.\n",
    "\n",
    "Dicho esto, pasamos a prededir las probabilidades de pertenencia a cada clase para cada muestra en el conjunto de validación."
   ]
  },
  {
   "cell_type": "code",
   "execution_count": 37,
   "metadata": {},
   "outputs": [],
   "source": [
    "# Evaluar KNN en el conjunto de validación\n",
    "knn_preds_proba = knn_best.predict_proba(X_val)"
   ]
  },
  {
   "cell_type": "markdown",
   "metadata": {},
   "source": [
    "Una vez hecho esto, imprimimos las formas (shapes) de las matrices de probabilidades para cada una de las variables de salida. Esto nos permitirá verificar las dimensiones de las probabilidades predichas por el modelo KNN para cada variable de salida.\n",
    "\n",
    "La salida mostrará las dimensiones de las matrices de probabilidades para la primera y la segunda variable de salida, respectivamente."
   ]
  },
  {
   "cell_type": "code",
   "execution_count": 112,
   "metadata": {},
   "outputs": [
    {
     "name": "stdout",
     "output_type": "stream",
     "text": [
      "knn_preds_proba[0].shape (5342, 2)\n",
      "knn_preds_proba[1].shape (5342, 2)\n"
     ]
    }
   ],
   "source": [
    "print(\"knn_preds_proba[0].shape\", knn_preds_proba[0].shape)\n",
    "print(\"knn_preds_proba[1].shape\", knn_preds_proba[1].shape)"
   ]
  },
  {
   "cell_type": "markdown",
   "metadata": {},
   "source": [
    "Así vemos que esta función nos ha devuelto una lista de dos matrices `(n_obs, 2)`. La primera matriz es para `h1n1_vacciney` la segunda matriz es para `seasonal_vaccine`. Las dos columnas de cada matriz son probabilidades para la clase `0` y la clase `1` respectivamente.\n",
    "\n",
    "Mediante el siguiente código creamos un DataFrame de pandas que contenga las probabilidades predichas para cada una de las variables de salida (`'h1n1_vaccine'` y `'seasonal_vaccine'`). Utilizamos las probabilidades de la clase positiva (índice 1) para cada variable de salida.\n",
    "\n",
    "Luego, imprimimos la forma (`shape`) del DataFrame resultante para verificar sus dimensiones y mostramos los primeros 10 registros para inspeccionar las predicciones. Finalmente, guardamos este DataFrame en un archivo CSV para poder analizar las probabilidades predichas posteriormente."
   ]
  },
  {
   "cell_type": "code",
   "execution_count": 38,
   "metadata": {},
   "outputs": [
    {
     "name": "stdout",
     "output_type": "stream",
     "text": [
      "y_preds.shape: (5342, 2)\n"
     ]
    }
   ],
   "source": [
    "y_preds = pd.DataFrame(\n",
    "    {\n",
    "        \"h1n1_vaccine\": knn_preds_proba[0][:, 1],\n",
    "        \"seasonal_vaccine\": knn_preds_proba[1][:, 1],\n",
    "    },\n",
    "    index = y_val.index\n",
    ")\n",
    "\n",
    "# Ver los primeros registros de las predicciones\n",
    "print(\"y_preds.shape:\", y_preds.shape)\n",
    "y_preds.head(10)\n",
    "\n",
    "# Guardar el DataFrame en un archivo CSV\n",
    "y_preds.to_csv('../../Data/Algorithms/Prueba1/knn_preds_proba.csv', index=True)"
   ]
  },
  {
   "cell_type": "markdown",
   "metadata": {},
   "source": [
    "Mostramos ahora las primeras filas del DataFrame de probabilidades predichas:"
   ]
  },
  {
   "cell_type": "code",
   "execution_count": 39,
   "metadata": {},
   "outputs": [
    {
     "data": {
      "text/html": [
       "<div>\n",
       "<style scoped>\n",
       "    .dataframe tbody tr th:only-of-type {\n",
       "        vertical-align: middle;\n",
       "    }\n",
       "\n",
       "    .dataframe tbody tr th {\n",
       "        vertical-align: top;\n",
       "    }\n",
       "\n",
       "    .dataframe thead th {\n",
       "        text-align: right;\n",
       "    }\n",
       "</style>\n",
       "<table border=\"1\" class=\"dataframe\">\n",
       "  <thead>\n",
       "    <tr style=\"text-align: right;\">\n",
       "      <th></th>\n",
       "      <th>h1n1_vaccine</th>\n",
       "      <th>seasonal_vaccine</th>\n",
       "    </tr>\n",
       "  </thead>\n",
       "  <tbody>\n",
       "    <tr>\n",
       "      <th>15772</th>\n",
       "      <td>0.285714</td>\n",
       "      <td>0.285714</td>\n",
       "    </tr>\n",
       "    <tr>\n",
       "      <th>9407</th>\n",
       "      <td>0.000000</td>\n",
       "      <td>0.142857</td>\n",
       "    </tr>\n",
       "    <tr>\n",
       "      <th>16515</th>\n",
       "      <td>0.142857</td>\n",
       "      <td>0.857143</td>\n",
       "    </tr>\n",
       "    <tr>\n",
       "      <th>23353</th>\n",
       "      <td>0.428571</td>\n",
       "      <td>0.285714</td>\n",
       "    </tr>\n",
       "    <tr>\n",
       "      <th>10008</th>\n",
       "      <td>0.428571</td>\n",
       "      <td>0.571429</td>\n",
       "    </tr>\n",
       "  </tbody>\n",
       "</table>\n",
       "</div>"
      ],
      "text/plain": [
       "       h1n1_vaccine  seasonal_vaccine\n",
       "15772      0.285714          0.285714\n",
       "9407       0.000000          0.142857\n",
       "16515      0.142857          0.857143\n",
       "23353      0.428571          0.285714\n",
       "10008      0.428571          0.571429"
      ]
     },
     "execution_count": 39,
     "metadata": {},
     "output_type": "execute_result"
    }
   ],
   "source": [
    "y_preds.head()"
   ]
  },
  {
   "cell_type": "markdown",
   "metadata": {},
   "source": [
    "Ahora, dado que este problema o más específicamene esta competencia propuesta, emplea la métrica de evaluación `roc_auc_score`, que mide el área bajo la curva ROC (AUC) para evaluar la calidad de las predicciones de probabilidad de un modelo, empleamos la métrica `roc_auc_score` de la librería `sklearn.metrics` para calcular el AUC para cada variable de salida y luego calculamos la media de los dos AUC para obtener una medida general del rendimiento del modelo. Además, calculamos otras métricas adicionales, como las empleadas anteriormente, para evaluar el rendimiento del modelo."
   ]
  },
  {
   "cell_type": "code",
   "execution_count": 42,
   "metadata": {},
   "outputs": [
    {
     "name": "stdout",
     "output_type": "stream",
     "text": [
      "AUROC para H1N1: 0.7352329837211844\n",
      "AUROC para vacuna estacional: 0.7753901054229131\n",
      "AUROC promedio: 0.7553115445720487\n"
     ]
    }
   ],
   "source": [
    "# Calcular el AUROC para cada variable de salida\n",
    "roc_auc_h1n1 = roc_auc_score(y_val['h1n1_vaccine'], knn_preds_proba[0][:, 1])\n",
    "roc_auc_seasonal = roc_auc_score(y_val['seasonal_vaccine'], knn_preds_proba[1][:, 1])\n",
    "\n",
    "# Calcular el AUROC promedio\n",
    "roc_auc_promedio = roc_auc_score(y_val, y_preds)\n",
    "\n",
    "# Imprimir los AUROC\n",
    "print(f\"AUROC para H1N1: {roc_auc_h1n1}\")\n",
    "print(f\"AUROC para vacuna estacional: {roc_auc_seasonal}\")\n",
    "print(f\"AUROC promedio: {roc_auc_promedio}\")"
   ]
  },
  {
   "cell_type": "markdown",
   "metadata": {},
   "source": [
    "Una vez hecho esto, podemos graficar estos resultados para poder visualizarlos de forma más clara. Para ello, empleamos la función `plot_roc` que nos permite visualizar la curva ROC para cada variable de salida. Esta curva representa la tasa de verdaderos positivos (TPR) frente a la tasa de falsos positivos (FPR) para diferentes umbrales de probabilidad."
   ]
  },
  {
   "cell_type": "code",
   "execution_count": 55,
   "metadata": {},
   "outputs": [],
   "source": [
    "# Función para graficar la curva ROC\n",
    "def plot_roc(y_true, y_score, label_name, ax):\n",
    "    fpr, tpr, thresholds = roc_curve(y_true, y_score)\n",
    "    ax.plot(fpr, tpr, color=\"blue\")\n",
    "    ax.plot([0, 1], [0, 1], color='lightblue', linestyle='--')\n",
    "    ax.set_ylabel('TPR')\n",
    "    ax.set_xlabel('FPR')\n",
    "    ax.set_title(\n",
    "        f\"{label_name}: AUC = {roc_auc_score(y_true, y_score):.4f}\"\n",
    "    )"
   ]
  },
  {
   "cell_type": "code",
   "execution_count": 56,
   "metadata": {},
   "outputs": [
    {
     "data": {
      "image/png": "[encoded data removed]",
      "text/plain": [
       "<Figure size 800x350 with 2 Axes>"
      ]
     },
     "metadata": {},
     "output_type": "display_data"
    }
   ],
   "source": [
    "# Realizar la gráfica de la curva ROC\n",
    "fig, ax = plt.subplots(1, 2, figsize=(8, 3.5))\n",
    "\n",
    "plot_roc(\n",
    "    y_val['h1n1_vaccine'], \n",
    "    y_preds['h1n1_vaccine'], \n",
    "    'h1n1_vaccine',\n",
    "    ax=ax[0]\n",
    ")\n",
    "\n",
    "plot_roc(\n",
    "    y_val['seasonal_vaccine'], \n",
    "    y_preds['seasonal_vaccine'], \n",
    "    'seasonal_vaccine',\n",
    "    ax=ax[1]\n",
    ")\n",
    "\n",
    "fig.tight_layout()\n",
    "plt.show()"
   ]
  },
  {
   "cell_type": "markdown",
   "metadata": {},
   "source": [
    "Esta gráfica se utiliza para evaluar la calidad de las predicciones de probabilidad de un modelo. Un modelo con un AUC más alto tendrá una curva ROC más cercana al rincón superior izquierdo, lo que indica una mejor separación entre las clases positivas y negativas.\n",
    "\n",
    "En este caso, la curva ROC para la variable de salida `'h1n1_vaccine'` muestra un AUC de 0.74, mientras que la curva ROC para la variable de salida `'seasonal_vaccine'` muestra un AUC de 0.77. En general, el modelo KNN parece tener un rendimiento moderado en la predicción de probabilidades, con un AUC promedio de 0.76."
   ]
  },
  {
   "cell_type": "markdown",
   "metadata": {},
   "source": [
    "$\\ $\n",
    "\n",
    "$\\ $\n",
    "\n",
    "$\\ $\n",
    "\n",
    "$\\ $\n",
    "\n",
    "$\\ $\n",
    "\n",
    "$\\ $\n",
    "\n",
    "$\\ $\n",
    "\n",
    "$\\ $\n",
    "\n",
    "---\n",
    "---\n",
    "---\n",
    "## **4. Stacking**\n",
    "---\n",
    "---\n",
    "---"
   ]
  },
  {
   "cell_type": "markdown",
   "metadata": {},
   "source": [
    "$\\ $\n",
    "\n",
    "---\n",
    "---\n",
    "### **4.1. Creación del modelo**\n",
    "---\n",
    "---"
   ]
  },
  {
   "cell_type": "markdown",
   "metadata": {},
   "source": [
    "Una vez realizado el proceso de kNN, pasamos a implementar el ensemble de Stacking.\n",
    "\n",
    "Un ensemble de stacking es un método de aprendizaje automático que combina múltiples modelos de aprendizaje automático para mejorar el rendimiento predictivo. En este caso, vamos a implementar un ensemble de stacking que combina un modelo de regresión logística y un modelo de árbol de decisión con el modelo kNN que hemos entrenado anteriormente.\n",
    "\n",
    "Dicho esto, lo que vamos a hacer es definir los modelos base que vamos a utilizar en el ensemble de stacking:"
   ]
  },
  {
   "cell_type": "code",
   "execution_count": 57,
   "metadata": {},
   "outputs": [],
   "source": [
    "# Extraer los mejores parámetros de knn_best\n",
    "best_params = knn_best.get_params()\n",
    "\n",
    "knn_params = {k: v for k, v in best_params.items() if k in KNeighborsClassifier().get_params()}\n",
    "\n",
    "# Crear una nueva instancia de KNeighborsClassifier con los mejores parámetros\n",
    "knn_best_unfitted = KNeighborsClassifier(**knn_params)\n",
    "\n",
    "# Configuración del modelo de Stacking\n",
    "estimators = [\n",
    "    ('knn', knn_best_unfitted),  # Puedes usar knn_best si ya está definido\n",
    "    ('tree', DecisionTreeClassifier(max_depth=5))\n",
    "]\n",
    "\n",
    "stacking_model = StackingClassifier(\n",
    "    estimators=estimators,\n",
    "    final_estimator=LogisticRegression()\n",
    ")\n",
    "\n",
    "# Envolver el modelo de Stacking en un MultiOutputClassifier\n",
    "multi_output_stacking_model = MultiOutputClassifier(stacking_model)"
   ]
  },
  {
   "cell_type": "markdown",
   "metadata": {},
   "source": [
    "Entonces, lo que se ha realizado es lo siguiente:\n",
    "\n",
    "1. Se extraen los mejores parámetros del modelo `knn_best` utilizando el método `get_params()`, como se ha hecho anteriormente.\n",
    "2. Se filtran los parámetros relevantes para el `KNeighborsClassifier` y se almacenan en el diccionario `knn_params`.\n",
    "3. Se crea una nueva instancia de `KNeighborsClassifier` con los mejores parámetros obtenidos, llamada `knn_best_unfitted`.\n",
    "4. Se configura un modelo de Stacking, que combina múltiples clasificadores. En este caso, se utilizan `knn_best_unfitted` y `DecisionTreeClassifier` como estimadores base.\n",
    "5. Se define el clasificador final del modelo de Stacking como `LogisticRegression`.\n",
    "\n",
    "Así, este modelo de Stacking (`stacking_model`) se puede utilizar para mejorar el rendimiento combinando las predicciones de múltiples clasificadores.\n",
    "\n",
    "Finalmente, antes de entrenar el modelo, se envuelve el modelo de Stacking (`stacking_model`) en un `MultiOutputClassifier` para manejar múltiples variables de salida, dado que nos encontramos en un problema de múltiples etiquetas.\n",
    "\n",
    "Y ahora sí, pasamos a entrenar el modelo de Stacking envuelto (`multi_output_stacking_model`) utilizando los datos de entrenamiento (`X_train`, `y_train`).\n",
    "\n",
    "Esto permite que el modelo de Stacking maneje múltiples etiquetas de salida simultáneamente, entrenándose para predecir todas las variables de salida a la vez."
   ]
  },
  {
   "cell_type": "code",
   "execution_count": 58,
   "metadata": {},
   "outputs": [
    {
     "data": {
      "text/html": [
       "<style>#sk-container-id-1 {color: black;}#sk-container-id-1 pre{padding: 0;}#sk-container-id-1 div.sk-toggleable {background-color: white;}#sk-container-id-1 label.sk-toggleable__label {cursor: pointer;display: block;width: 100%;margin-bottom: 0;padding: 0.3em;box-sizing: border-box;text-align: center;}#sk-container-id-1 label.sk-toggleable__label-arrow:before {content: \"▸\";float: left;margin-right: 0.25em;color: #696969;}#sk-container-id-1 label.sk-toggleable__label-arrow:hover:before {color: black;}#sk-container-id-1 div.sk-estimator:hover label.sk-toggleable__label-arrow:before {color: black;}#sk-container-id-1 div.sk-toggleable__content {max-height: 0;max-width: 0;overflow: hidden;text-align: left;background-color: #f0f8ff;}#sk-container-id-1 div.sk-toggleable__content pre {margin: 0.2em;color: black;border-radius: 0.25em;background-color: #f0f8ff;}#sk-container-id-1 input.sk-toggleable__control:checked~div.sk-toggleable__content {max-height: 200px;max-width: 100%;overflow: auto;}#sk-container-id-1 input.sk-toggleable__control:checked~label.sk-toggleable__label-arrow:before {content: \"▾\";}#sk-container-id-1 div.sk-estimator input.sk-toggleable__control:checked~label.sk-toggleable__label {background-color: #d4ebff;}#sk-container-id-1 div.sk-label input.sk-toggleable__control:checked~label.sk-toggleable__label {background-color: #d4ebff;}#sk-container-id-1 input.sk-hidden--visually {border: 0;clip: rect(1px 1px 1px 1px);clip: rect(1px, 1px, 1px, 1px);height: 1px;margin: -1px;overflow: hidden;padding: 0;position: absolute;width: 1px;}#sk-container-id-1 div.sk-estimator {font-family: monospace;background-color: #f0f8ff;border: 1px dotted black;border-radius: 0.25em;box-sizing: border-box;margin-bottom: 0.5em;}#sk-container-id-1 div.sk-estimator:hover {background-color: #d4ebff;}#sk-container-id-1 div.sk-parallel-item::after {content: \"\";width: 100%;border-bottom: 1px solid gray;flex-grow: 1;}#sk-container-id-1 div.sk-label:hover label.sk-toggleable__label {background-color: #d4ebff;}#sk-container-id-1 div.sk-serial::before {content: \"\";position: absolute;border-left: 1px solid gray;box-sizing: border-box;top: 0;bottom: 0;left: 50%;z-index: 0;}#sk-container-id-1 div.sk-serial {display: flex;flex-direction: column;align-items: center;background-color: white;padding-right: 0.2em;padding-left: 0.2em;position: relative;}#sk-container-id-1 div.sk-item {position: relative;z-index: 1;}#sk-container-id-1 div.sk-parallel {display: flex;align-items: stretch;justify-content: center;background-color: white;position: relative;}#sk-container-id-1 div.sk-item::before, #sk-container-id-1 div.sk-parallel-item::before {content: \"\";position: absolute;border-left: 1px solid gray;box-sizing: border-box;top: 0;bottom: 0;left: 50%;z-index: -1;}#sk-container-id-1 div.sk-parallel-item {display: flex;flex-direction: column;z-index: 1;position: relative;background-color: white;}#sk-container-id-1 div.sk-parallel-item:first-child::after {align-self: flex-end;width: 50%;}#sk-container-id-1 div.sk-parallel-item:last-child::after {align-self: flex-start;width: 50%;}#sk-container-id-1 div.sk-parallel-item:only-child::after {width: 0;}#sk-container-id-1 div.sk-dashed-wrapped {border: 1px dashed gray;margin: 0 0.4em 0.5em 0.4em;box-sizing: border-box;padding-bottom: 0.4em;background-color: white;}#sk-container-id-1 div.sk-label label {font-family: monospace;font-weight: bold;display: inline-block;line-height: 1.2em;}#sk-container-id-1 div.sk-label-container {text-align: center;}#sk-container-id-1 div.sk-container {/* jupyter's `normalize.less` sets `[hidden] { display: none; }` but bootstrap.min.css set `[hidden] { display: none !important; }` so we also need the `!important` here to be able to override the default hidden behavior on the sphinx rendered scikit-learn.org. See: https://github.com/scikit-learn/scikit-learn/issues/21755 */display: inline-block !important;position: relative;}#sk-container-id-1 div.sk-text-repr-fallback {display: none;}</style><div id=\"sk-container-id-1\" class=\"sk-top-container\"><div class=\"sk-text-repr-fallback\"><pre>MultiOutputClassifier(estimator=StackingClassifier(estimators=[(&#x27;knn&#x27;,\n",
       "                                                                KNeighborsClassifier()),\n",
       "                                                               (&#x27;tree&#x27;,\n",
       "                                                                DecisionTreeClassifier(max_depth=5))],\n",
       "                                                   final_estimator=LogisticRegression()))</pre><b>In a Jupyter environment, please rerun this cell to show the HTML representation or trust the notebook. <br />On GitHub, the HTML representation is unable to render, please try loading this page with nbviewer.org.</b></div><div class=\"sk-container\" hidden><div class=\"sk-item sk-dashed-wrapped\"><div class=\"sk-label-container\"><div class=\"sk-label sk-toggleable\"><input class=\"sk-toggleable__control sk-hidden--visually\" id=\"sk-estimator-id-1\" type=\"checkbox\" ><label for=\"sk-estimator-id-1\" class=\"sk-toggleable__label sk-toggleable__label-arrow\">MultiOutputClassifier</label><div class=\"sk-toggleable__content\"><pre>MultiOutputClassifier(estimator=StackingClassifier(estimators=[(&#x27;knn&#x27;,\n",
       "                                                                KNeighborsClassifier()),\n",
       "                                                               (&#x27;tree&#x27;,\n",
       "                                                                DecisionTreeClassifier(max_depth=5))],\n",
       "                                                   final_estimator=LogisticRegression()))</pre></div></div></div><div class=\"sk-parallel\"><div class=\"sk-parallel-item\"><div class=\"sk-item\"><div class=\"sk-label-container\"><div class=\"sk-label sk-toggleable\"><input class=\"sk-toggleable__control sk-hidden--visually\" id=\"sk-estimator-id-2\" type=\"checkbox\" ><label for=\"sk-estimator-id-2\" class=\"sk-toggleable__label sk-toggleable__label-arrow\">estimator: StackingClassifier</label><div class=\"sk-toggleable__content\"><pre>StackingClassifier(estimators=[(&#x27;knn&#x27;, KNeighborsClassifier()),\n",
       "                               (&#x27;tree&#x27;, DecisionTreeClassifier(max_depth=5))],\n",
       "                   final_estimator=LogisticRegression())</pre></div></div></div><div class=\"sk-serial\"><div class=\"sk-item\"><div class=\"sk-serial\"><div class=\"sk-item\"><div class=\"sk-parallel\"><div class=\"sk-parallel-item\"><div class=\"sk-item\"><div class=\"sk-label-container\"><div class=\"sk-label sk-toggleable\"><label>knn</label></div></div><div class=\"sk-serial\"><div class=\"sk-item\"><div class=\"sk-estimator sk-toggleable\"><input class=\"sk-toggleable__control sk-hidden--visually\" id=\"sk-estimator-id-3\" type=\"checkbox\" ><label for=\"sk-estimator-id-3\" class=\"sk-toggleable__label sk-toggleable__label-arrow\">KNeighborsClassifier</label><div class=\"sk-toggleable__content\"><pre>KNeighborsClassifier()</pre></div></div></div></div></div></div><div class=\"sk-parallel-item\"><div class=\"sk-item\"><div class=\"sk-label-container\"><div class=\"sk-label sk-toggleable\"><label>tree</label></div></div><div class=\"sk-serial\"><div class=\"sk-item\"><div class=\"sk-estimator sk-toggleable\"><input class=\"sk-toggleable__control sk-hidden--visually\" id=\"sk-estimator-id-4\" type=\"checkbox\" ><label for=\"sk-estimator-id-4\" class=\"sk-toggleable__label sk-toggleable__label-arrow\">DecisionTreeClassifier</label><div class=\"sk-toggleable__content\"><pre>DecisionTreeClassifier(max_depth=5)</pre></div></div></div></div></div></div></div></div><div class=\"sk-item\"><div class=\"sk-parallel\"><div class=\"sk-parallel-item\"><div class=\"sk-item\"><div class=\"sk-label-container\"><div class=\"sk-label sk-toggleable\"><label>final_estimator</label></div></div><div class=\"sk-serial\"><div class=\"sk-item\"><div class=\"sk-estimator sk-toggleable\"><input class=\"sk-toggleable__control sk-hidden--visually\" id=\"sk-estimator-id-5\" type=\"checkbox\" ><label for=\"sk-estimator-id-5\" class=\"sk-toggleable__label sk-toggleable__label-arrow\">LogisticRegression</label><div class=\"sk-toggleable__content\"><pre>LogisticRegression()</pre></div></div></div></div></div></div></div></div></div></div></div></div></div></div></div></div></div>"
      ],
      "text/plain": [
       "MultiOutputClassifier(estimator=StackingClassifier(estimators=[('knn',\n",
       "                                                                KNeighborsClassifier()),\n",
       "                                                               ('tree',\n",
       "                                                                DecisionTreeClassifier(max_depth=5))],\n",
       "                                                   final_estimator=LogisticRegression()))"
      ]
     },
     "execution_count": 58,
     "metadata": {},
     "output_type": "execute_result"
    }
   ],
   "source": [
    "# Entrenar el modelo de Stacking\n",
    "multi_output_stacking_model.fit(X_train, y_train)"
   ]
  },
  {
   "cell_type": "markdown",
   "metadata": {},
   "source": [
    "Y una vez hecho esto, podemos guardar el modelo de Stacking entrenado en un archivo utilizando `joblib`, para poder cargarlo en el futuro sin tener que volver a entrenarlo."
   ]
  },
  {
   "cell_type": "code",
   "execution_count": 59,
   "metadata": {},
   "outputs": [
    {
     "data": {
      "text/plain": [
       "['../../Algorithms/Prueba1/multi_output_stacking_model.pkl']"
      ]
     },
     "execution_count": 59,
     "metadata": {},
     "output_type": "execute_result"
    }
   ],
   "source": [
    "# Guardar el modelo entrenado\n",
    "joblib.dump(multi_output_stacking_model, '../../Algorithms/Prueba1/multi_output_stacking_model.pkl')"
   ]
  },
  {
   "cell_type": "markdown",
   "metadata": {},
   "source": [
    "$\\ $\n",
    "\n",
    "$\\ $\n",
    "\n",
    "$\\ $\n",
    "\n",
    "$\\ $\n",
    "\n",
    "$\\ $\n",
    "\n",
    "---\n",
    "---\n",
    "### **4.2. Evaluación del modelo**\n",
    "---\n",
    "---\n",
    "\n",
    "$\\ $"
   ]
  },
  {
   "cell_type": "markdown",
   "metadata": {},
   "source": [
    "---\n",
    "#### **4.2.1. Predicción de valores enteros (predict)**\n",
    "---"
   ]
  },
  {
   "cell_type": "markdown",
   "metadata": {},
   "source": [
    "De forma similar a lo realizado con el modelo kNN, ahora vamos a evaluar el rendimiento del modelo de Stacking en el conjunto de validación. Para ello, predecimos las etiquetas de clase para cada muestra en el conjunto de validación utilizando el modelo de Stacking entrenado."
   ]
  },
  {
   "cell_type": "code",
   "execution_count": 60,
   "metadata": {},
   "outputs": [],
   "source": [
    "# Evaluar Stacking en el conjunto de validación\n",
    "stacking_preds = multi_output_stacking_model.predict(X_val)"
   ]
  },
  {
   "cell_type": "markdown",
   "metadata": {},
   "source": [
    "Convertimos las predicciones en un DataFrame de pandas para poder visualizarlas de forma más cómoda, con los correspondientes nombres de las columnas dados por las respectivas etiquetas. Además, guardamos las predicciones en un archivo CSV, en caso de que queramos cargarlas en el futuro."
   ]
  },
  {
   "cell_type": "code",
   "execution_count": 61,
   "metadata": {},
   "outputs": [
    {
     "data": {
      "text/html": [
       "<div>\n",
       "<style scoped>\n",
       "    .dataframe tbody tr th:only-of-type {\n",
       "        vertical-align: middle;\n",
       "    }\n",
       "\n",
       "    .dataframe tbody tr th {\n",
       "        vertical-align: top;\n",
       "    }\n",
       "\n",
       "    .dataframe thead th {\n",
       "        text-align: right;\n",
       "    }\n",
       "</style>\n",
       "<table border=\"1\" class=\"dataframe\">\n",
       "  <thead>\n",
       "    <tr style=\"text-align: right;\">\n",
       "      <th></th>\n",
       "      <th>h1n1_vaccine</th>\n",
       "      <th>seasonal_vaccine</th>\n",
       "    </tr>\n",
       "  </thead>\n",
       "  <tbody>\n",
       "    <tr>\n",
       "      <th>0</th>\n",
       "      <td>0</td>\n",
       "      <td>0</td>\n",
       "    </tr>\n",
       "    <tr>\n",
       "      <th>1</th>\n",
       "      <td>0</td>\n",
       "      <td>0</td>\n",
       "    </tr>\n",
       "    <tr>\n",
       "      <th>2</th>\n",
       "      <td>0</td>\n",
       "      <td>1</td>\n",
       "    </tr>\n",
       "    <tr>\n",
       "      <th>3</th>\n",
       "      <td>0</td>\n",
       "      <td>0</td>\n",
       "    </tr>\n",
       "    <tr>\n",
       "      <th>4</th>\n",
       "      <td>0</td>\n",
       "      <td>0</td>\n",
       "    </tr>\n",
       "  </tbody>\n",
       "</table>\n",
       "</div>"
      ],
      "text/plain": [
       "   h1n1_vaccine  seasonal_vaccine\n",
       "0             0                 0\n",
       "1             0                 0\n",
       "2             0                 1\n",
       "3             0                 0\n",
       "4             0                 0"
      ]
     },
     "execution_count": 61,
     "metadata": {},
     "output_type": "execute_result"
    }
   ],
   "source": [
    "# Convertir las predicciones a un DataFrame de pandas\n",
    "stacking_preds_df = pd.DataFrame(stacking_preds, columns=['h1n1_vaccine', 'seasonal_vaccine'])\n",
    "\n",
    "# Guardar el DataFrame en un archivo CSV\n",
    "stacking_preds_df.to_csv('../../Data/Algorithms/Prueba1/stacking_preds.csv', index=False)\n",
    "\n",
    "# Mostrar los primeros registros de las predicciones\n",
    "stacking_preds_df.head()"
   ]
  },
  {
   "cell_type": "code",
   "execution_count": 64,
   "metadata": {},
   "outputs": [
    {
     "name": "stdout",
     "output_type": "stream",
     "text": [
      "Accuracy en validación: 0.6602396106327219\n",
      "\n",
      "F1 Score (weighted): 0.6649634140154318\n",
      "Precision (weighted): 0.7429958195763793\n",
      "Recall (weighted): 0.6140742809271154\n",
      "\n",
      "Reporte de clasificación:\n",
      "               precision    recall  f1-score   support\n",
      "\n",
      "           0       0.69      0.39      0.50      1130\n",
      "           1       0.77      0.72      0.74      2451\n",
      "\n",
      "   micro avg       0.75      0.61      0.68      3581\n",
      "   macro avg       0.73      0.55      0.62      3581\n",
      "weighted avg       0.74      0.61      0.66      3581\n",
      " samples avg       0.33      0.31      0.31      3581\n",
      "\n"
     ]
    }
   ],
   "source": [
    "# Calcular y mostrar la exactitud\n",
    "print(\"Accuracy en validación:\", accuracy_score(y_val, stacking_preds), end=\"\\n\\n\")\n",
    "\n",
    "# Calcular y mostrar el F1-score\n",
    "f1 = f1_score(y_val, stacking_preds, average='weighted', zero_division=0)\n",
    "print(\"F1 Score (weighted):\", f1)\n",
    "\n",
    "# Calcular y mostrar la precisión\n",
    "precision = precision_score(y_val, stacking_preds, average='weighted', zero_division=0)\n",
    "print(\"Precision (weighted):\", precision)\n",
    "\n",
    "# Calcular y mostrar el recall\n",
    "recall = recall_score(y_val, stacking_preds, average='weighted', zero_division=0)\n",
    "print(\"Recall (weighted):\", recall, end=\"\\n\\n\")\n",
    "\n",
    "# Calcular y mostrar el reporte de clasificación\n",
    "print(\"Reporte de clasificación:\\n\", classification_report(y_val, stacking_preds, zero_division=0))"
   ]
  },
  {
   "cell_type": "markdown",
   "metadata": {},
   "source": [
    "Los resultados obtenidos con el modelo de Stacking muestran una mejora en comparación con los obtenidos con el modelo KNN. El modelo de Stacking ha logrado una mayor precisión (accuracy) en la predicción de las variables de salida, lo que indica que la combinación de múltiples clasificadores ha sido beneficiosa para el rendimiento general del modelo.\n",
    "\n",
    "El modelo de Stacking combina las predicciones de un `KNeighborsClassifier` y un `DecisionTreeClassifier`, utilizando una `LogisticRegression` como clasificador final. Esta combinación permite que el modelo aproveche las fortalezas de cada clasificador base, lo que resulta en una mejor capacidad de generalización y una mayor precisión en las predicciones.\n",
    "\n",
    "En comparación, el modelo KNN por sí solo obtuvo una precisión de 0.59, lo que sugiere que tenía algunas dificultades para capturar la complejidad de los datos y hacer predicciones precisas. La mejora en la precisión con el modelo de Stacking indica que la estrategia de combinar múltiples clasificadores ha sido efectiva para abordar las limitaciones del modelo KNN individual.\n",
    "\n",
    "En resumen, el uso del modelo de Stacking ha resultado en un rendimiento superior en términos de precisión, lo que demuestra la ventaja de utilizar enfoques de ensamblado (ensemble) para mejorar la capacidad predictiva de los modelos de aprendizaje automático."
   ]
  },
  {
   "cell_type": "markdown",
   "metadata": {},
   "source": [
    "$\\ $\n",
    "\n",
    "$\\ $\n",
    "\n",
    "$\\ $\n",
    "\n",
    "---\n",
    "#### **4.2.2. Predicción de probabilidades (predict_proba)**\n",
    "---"
   ]
  },
  {
   "cell_type": "markdown",
   "metadata": {},
   "source": [
    "Pamos ahora a evaluar el rendimiento del modelo de Stacking en términos de predicciones de probabilidad. Para ello, predecimos las probabilidades de pertenencia a cada clase para cada muestra en el conjunto de validación utilizando el modelo de Stacking entrenado."
   ]
  },
  {
   "cell_type": "code",
   "execution_count": 67,
   "metadata": {},
   "outputs": [],
   "source": [
    "# Evaluar KNN en el conjunto de validación\n",
    "stacking_preds_proba = multi_output_stacking_model.predict_proba(X_val)"
   ]
  },
  {
   "cell_type": "markdown",
   "metadata": {},
   "source": [
    "De igual forma, comprobamos la estructura de las matrices de probabilidades predichas por el modelo de Stacking para cada variable de salida."
   ]
  },
  {
   "cell_type": "code",
   "execution_count": 68,
   "metadata": {},
   "outputs": [
    {
     "name": "stdout",
     "output_type": "stream",
     "text": [
      "stacking_preds_proba[0].shape (5342, 2)\n",
      "stacking_preds_proba[1].shape (5342, 2)\n"
     ]
    }
   ],
   "source": [
    "print(\"stacking_preds_proba[0].shape\", stacking_preds_proba[0].shape)\n",
    "print(\"stacking_preds_proba[1].shape\", stacking_preds_proba[1].shape)"
   ]
  },
  {
   "cell_type": "markdown",
   "metadata": {},
   "source": [
    "Ahora, creamos un DataFrame de pandas que contenga las probabilidades predichas para cada una de las variables de salida (`'h1n1_vaccine'` y `'seasonal_vaccine'`), en este caso utilizando las probabilidades de la clase positiva (índice 1) para cada variable de salida y guardamos este DataFrame en un archivo CSV para poder analizar las probabilidades predichas posteriormente."
   ]
  },
  {
   "cell_type": "code",
   "execution_count": 69,
   "metadata": {},
   "outputs": [
    {
     "name": "stdout",
     "output_type": "stream",
     "text": [
      "y_preds.shape: (5342, 2)\n"
     ]
    }
   ],
   "source": [
    "y_preds = pd.DataFrame(\n",
    "    {\n",
    "        \"h1n1_vaccine\": stacking_preds_proba[0][:, 1],\n",
    "        \"seasonal_vaccine\": stacking_preds_proba[1][:, 1],\n",
    "    },\n",
    "    index = y_val.index\n",
    ")\n",
    "\n",
    "# Ver los primeros registros de las predicciones\n",
    "print(\"y_preds.shape:\", y_preds.shape)\n",
    "y_preds.head(10)\n",
    "\n",
    "# Guardar el DataFrame en un archivo CSV\n",
    "y_preds.to_csv('../../Data/Algorithms/Prueba1/stacking_preds_proba.csv', index=True)"
   ]
  },
  {
   "cell_type": "markdown",
   "metadata": {},
   "source": [
    "Mostramos ahora las primeras filas del DataFrame de probabilidades predichas:"
   ]
  },
  {
   "cell_type": "code",
   "execution_count": 70,
   "metadata": {},
   "outputs": [
    {
     "data": {
      "text/html": [
       "<div>\n",
       "<style scoped>\n",
       "    .dataframe tbody tr th:only-of-type {\n",
       "        vertical-align: middle;\n",
       "    }\n",
       "\n",
       "    .dataframe tbody tr th {\n",
       "        vertical-align: top;\n",
       "    }\n",
       "\n",
       "    .dataframe thead th {\n",
       "        text-align: right;\n",
       "    }\n",
       "</style>\n",
       "<table border=\"1\" class=\"dataframe\">\n",
       "  <thead>\n",
       "    <tr style=\"text-align: right;\">\n",
       "      <th></th>\n",
       "      <th>h1n1_vaccine</th>\n",
       "      <th>seasonal_vaccine</th>\n",
       "    </tr>\n",
       "  </thead>\n",
       "  <tbody>\n",
       "    <tr>\n",
       "      <th>15772</th>\n",
       "      <td>0.124915</td>\n",
       "      <td>0.288023</td>\n",
       "    </tr>\n",
       "    <tr>\n",
       "      <th>9407</th>\n",
       "      <td>0.124915</td>\n",
       "      <td>0.210203</td>\n",
       "    </tr>\n",
       "    <tr>\n",
       "      <th>16515</th>\n",
       "      <td>0.082010</td>\n",
       "      <td>0.725110</td>\n",
       "    </tr>\n",
       "    <tr>\n",
       "      <th>23353</th>\n",
       "      <td>0.169063</td>\n",
       "      <td>0.186148</td>\n",
       "    </tr>\n",
       "    <tr>\n",
       "      <th>10008</th>\n",
       "      <td>0.112520</td>\n",
       "      <td>0.153993</td>\n",
       "    </tr>\n",
       "  </tbody>\n",
       "</table>\n",
       "</div>"
      ],
      "text/plain": [
       "       h1n1_vaccine  seasonal_vaccine\n",
       "15772      0.124915          0.288023\n",
       "9407       0.124915          0.210203\n",
       "16515      0.082010          0.725110\n",
       "23353      0.169063          0.186148\n",
       "10008      0.112520          0.153993"
      ]
     },
     "execution_count": 70,
     "metadata": {},
     "output_type": "execute_result"
    }
   ],
   "source": [
    "y_preds.head()"
   ]
  },
  {
   "cell_type": "markdown",
   "metadata": {},
   "source": [
    "Y volvemos a calcular el AUC para cada variable de salida y luego calculamos la media de los dos AUC para obtener una medida general del rendimiento del modelo. Además, calculamos otras métricas adicionales, como las empleadas anteriormente, para evaluar el rendimiento del modelo."
   ]
  },
  {
   "cell_type": "code",
   "execution_count": 71,
   "metadata": {},
   "outputs": [
    {
     "name": "stdout",
     "output_type": "stream",
     "text": [
      "AUROC para H1N1: 0.8248006118212607\n",
      "AUROC para vacuna estacional: 0.8363741862116296\n",
      "AUROC promedio: 0.8305873990164452\n"
     ]
    }
   ],
   "source": [
    "# Calcular el AUROC para cada variable de salida\n",
    "roc_auc_h1n1 = roc_auc_score(y_val['h1n1_vaccine'], stacking_preds_proba[0][:, 1])\n",
    "roc_auc_seasonal = roc_auc_score(y_val['seasonal_vaccine'], stacking_preds_proba[1][:, 1])\n",
    "\n",
    "# Calcular el AUROC promedio\n",
    "roc_auc_promedio = roc_auc_score(y_val, y_preds)\n",
    "\n",
    "# Imprimir los AUROC\n",
    "print(f\"AUROC para H1N1: {roc_auc_h1n1}\")\n",
    "print(f\"AUROC para vacuna estacional: {roc_auc_seasonal}\")\n",
    "print(f\"AUROC promedio: {roc_auc_promedio}\")"
   ]
  },
  {
   "cell_type": "markdown",
   "metadata": {},
   "source": [
    "Donde vemos que el modelo de Stacking ha logrado un AUC promedio de 0.83, lo que indica un rendimiento sólido en la predicción de probabilidades. La curva ROC para la variable de salida `'h1n1_vaccine'` muestra un AUC de 0.82, mientras que la curva ROC para la variable de salida `'seasonal_vaccine'` muestra un AUC de 0.84. En general, el modelo de Stacking parece tener un rendimiento sólido en la predicción de probabilidades, con un AUC promedio de 0.84.\n",
    "\n",
    "El significado de este valor es que el modelo tiene una probabilidad del 84% de clasificar correctamente una observación aleatoria positiva más alta que una observación aleatoria negativa. Este valor es una métrica que mide la capacidad de un modelo para distinguir entre clases. En este contexto, un AUROC de 0.84 significa que el modelo tiene una probabilidad del 84% de clasificar correctamente una observación aleatoria positiva más alta que una observación aleatoria negativa.\n",
    "\n",
    "Más específicamente un AUROC de 0.84 indica que, si seleccionamos aleatoriamente una observación positiva y una negativa, el modelo asignará una puntuación de probabilidad más alta a la observación positiva el 84% de las veces. En otras palabras, el modelo es bastante bueno para distinguir entre observaciones positivas y negativas, aunque no es perfecto (un AUROC de 1.0 sería perfecto, mientras que un AUROC de 0.5 indica un rendimiento no mejor que el azar).\n",
    "\n",
    "En el caso anterior, con el modelo KNN, el AUC promedio fue de 0.76, lo que indica que el modelo de Stacking ha logrado una mejora significativa en la capacidad de distinguir entre clases y hacer predicciones precisas.\n",
    "\n",
    "Una vez comentado esto, volvemos a graficar estos resultados para poder visualizarlos de forma más clara. Para ello, empleamos la función `plot_roc` que nos permite visualizar la curva ROC para cada variable de salida."
   ]
  },
  {
   "cell_type": "code",
   "execution_count": 72,
   "metadata": {},
   "outputs": [
    {
     "data": {
      "image/png": "[encoded data removed]",
      "text/plain": [
       "<Figure size 800x350 with 2 Axes>"
      ]
     },
     "metadata": {},
     "output_type": "display_data"
    }
   ],
   "source": [
    "# Realizar la gráfica de la curva ROC\n",
    "fig, ax = plt.subplots(1, 2, figsize=(8, 3.5))\n",
    "\n",
    "plot_roc(\n",
    "    y_val['h1n1_vaccine'], \n",
    "    y_preds['h1n1_vaccine'], \n",
    "    'h1n1_vaccine',\n",
    "    ax=ax[0]\n",
    ")\n",
    "\n",
    "plot_roc(\n",
    "    y_val['seasonal_vaccine'], \n",
    "    y_preds['seasonal_vaccine'], \n",
    "    'seasonal_vaccine',\n",
    "    ax=ax[1]\n",
    ")\n",
    "\n",
    "fig.tight_layout()\n",
    "plt.show()"
   ]
  },
  {
   "cell_type": "markdown",
   "metadata": {},
   "source": [
    "Vemos que al tener un AUC promedio de 0.84, el modelo de Stacking ha logrado un rendimiento bastante bueno en la predicción de probabilidades, con una curva ROC que se acerca algo más al rincón superior izquierdo, lo que indica una mejor separación entre las clases positivas y negativas.\n",
    "\n",
    "Por clases, la curva ROC para la variable de salida `'h1n1_vaccine'` muestra un AUC de 0.82, mientras que la curva ROC para la variable de salida `'seasonal_vaccine'` muestra un AUC de 0.84, lo que refleja un mejor rendimiento en la predicción de las dos vacunas y principalmente en la vacuna estacional."
   ]
  },
  {
   "cell_type": "markdown",
   "metadata": {},
   "source": [
    "$\\ $\n",
    "\n",
    "$\\ $\n",
    "\n",
    "$\\ $\n",
    "\n",
    "$\\ $\n",
    "\n",
    "$\\ $\n",
    "\n",
    "$\\ $\n",
    "\n",
    "$\\ $\n",
    "\n",
    "$\\ $\n",
    "\n",
    "---\n",
    "---\n",
    "---\n",
    "## **5. Predicción**\n",
    "---\n",
    "---\n",
    "---\n",
    "\n",
    "$\\ $"
   ]
  },
  {
   "cell_type": "markdown",
   "metadata": {},
   "source": [
    "---\n",
    "---\n",
    "### **5.1. Lectura del documento con el formato de envío**\n",
    "---\n",
    "---"
   ]
  },
  {
   "cell_type": "markdown",
   "metadata": {},
   "source": [
    "Finalmente, pasamos a realizar las predicciones finales sobre el conjunto de test. Dichos datos de test ya los hemos cargado previamente, además de también haberlos  normalizado los mismos valores de normalización que los datos de entrenamiento.\n",
    "\n",
    "Lo que hacemos ahora es cargar el documento con el formato de envío (`submission_format.csv`) para verificar que las predicciones se realizan correctamente y se guardan en el formato adecuado para poder enviarlas a la competición.\n",
    "\n",
    "Dicho esto, procedemos a cargar el documento con el formato de envío y visualizar las primeras filas para comprobar que se ha cargado correctamente:"
   ]
  },
  {
   "cell_type": "code",
   "execution_count": 73,
   "metadata": {},
   "outputs": [
    {
     "data": {
      "text/html": [
       "<div>\n",
       "<style scoped>\n",
       "    .dataframe tbody tr th:only-of-type {\n",
       "        vertical-align: middle;\n",
       "    }\n",
       "\n",
       "    .dataframe tbody tr th {\n",
       "        vertical-align: top;\n",
       "    }\n",
       "\n",
       "    .dataframe thead th {\n",
       "        text-align: right;\n",
       "    }\n",
       "</style>\n",
       "<table border=\"1\" class=\"dataframe\">\n",
       "  <thead>\n",
       "    <tr style=\"text-align: right;\">\n",
       "      <th></th>\n",
       "      <th>h1n1_vaccine</th>\n",
       "      <th>seasonal_vaccine</th>\n",
       "    </tr>\n",
       "    <tr>\n",
       "      <th>respondent_id</th>\n",
       "      <th></th>\n",
       "      <th></th>\n",
       "    </tr>\n",
       "  </thead>\n",
       "  <tbody>\n",
       "    <tr>\n",
       "      <th>26707</th>\n",
       "      <td>0.5</td>\n",
       "      <td>0.7</td>\n",
       "    </tr>\n",
       "    <tr>\n",
       "      <th>26708</th>\n",
       "      <td>0.5</td>\n",
       "      <td>0.7</td>\n",
       "    </tr>\n",
       "    <tr>\n",
       "      <th>26709</th>\n",
       "      <td>0.5</td>\n",
       "      <td>0.7</td>\n",
       "    </tr>\n",
       "    <tr>\n",
       "      <th>26710</th>\n",
       "      <td>0.5</td>\n",
       "      <td>0.7</td>\n",
       "    </tr>\n",
       "    <tr>\n",
       "      <th>26711</th>\n",
       "      <td>0.5</td>\n",
       "      <td>0.7</td>\n",
       "    </tr>\n",
       "  </tbody>\n",
       "</table>\n",
       "</div>"
      ],
      "text/plain": [
       "               h1n1_vaccine  seasonal_vaccine\n",
       "respondent_id                                \n",
       "26707                   0.5               0.7\n",
       "26708                   0.5               0.7\n",
       "26709                   0.5               0.7\n",
       "26710                   0.5               0.7\n",
       "26711                   0.5               0.7"
      ]
     },
     "execution_count": 73,
     "metadata": {},
     "output_type": "execute_result"
    }
   ],
   "source": [
    "# Cargar el documento con el formato de la competencia\n",
    "submission_df = pd.read_csv(\"../../Data/Original/submission_format.csv\", index_col=\"respondent_id\")\n",
    "\n",
    "# Mostar los primeros registros del documento\n",
    "submission_df.head()"
   ]
  },
  {
   "cell_type": "markdown",
   "metadata": {},
   "source": [
    "Ahora, modificamos los índices del dataframe con los datos de test que ya habíamos normalizado previamente, para que coincidan con los índices del documento con el formato de envío, ya que tras el preporcesamiento común, los índices de los datos de test se habían reiniado, comenzando desde 0. Para ello, empleamos el método `set_index` de pandas.\n",
    "\n",
    "Una vez hecho esto, podemos comprobar que los índices de los datos de test coinciden con los índices del documento con el formato de envío:"
   ]
  },
  {
   "cell_type": "code",
   "execution_count": 74,
   "metadata": {},
   "outputs": [],
   "source": [
    "# Asegurarse de que features_test_df tenga los mismos índices que submission_df\n",
    "features_test_scaled_df.index = submission_df.index\n",
    "\n",
    "# Make sure we have the rows in the same order\n",
    "np.testing.assert_array_equal(features_test_scaled_df.index.values, submission_df.index.values)"
   ]
  },
  {
   "cell_type": "markdown",
   "metadata": {},
   "source": [
    "Mostrar las primeras filas de los datos de test con los índices modificados:"
   ]
  },
  {
   "cell_type": "code",
   "execution_count": 75,
   "metadata": {},
   "outputs": [
    {
     "data": {
      "text/html": [
       "<div>\n",
       "<style scoped>\n",
       "    .dataframe tbody tr th:only-of-type {\n",
       "        vertical-align: middle;\n",
       "    }\n",
       "\n",
       "    .dataframe tbody tr th {\n",
       "        vertical-align: top;\n",
       "    }\n",
       "\n",
       "    .dataframe thead th {\n",
       "        text-align: right;\n",
       "    }\n",
       "</style>\n",
       "<table border=\"1\" class=\"dataframe\">\n",
       "  <thead>\n",
       "    <tr style=\"text-align: right;\">\n",
       "      <th></th>\n",
       "      <th>h1n1_concern</th>\n",
       "      <th>h1n1_knowledge</th>\n",
       "      <th>opinion_h1n1_vacc_effective</th>\n",
       "      <th>opinion_h1n1_risk</th>\n",
       "      <th>opinion_h1n1_sick_from_vacc</th>\n",
       "      <th>opinion_seas_vacc_effective</th>\n",
       "      <th>opinion_seas_risk</th>\n",
       "      <th>opinion_seas_sick_from_vacc</th>\n",
       "      <th>age_group</th>\n",
       "      <th>education</th>\n",
       "      <th>...</th>\n",
       "      <th>hhs_geo_region_lrircsnp</th>\n",
       "      <th>hhs_geo_region_lzgpxyit</th>\n",
       "      <th>hhs_geo_region_mlyzmhmf</th>\n",
       "      <th>hhs_geo_region_oxchjgsf</th>\n",
       "      <th>hhs_geo_region_qufhixun</th>\n",
       "      <th>census_msa_MSA, Not Principle  City</th>\n",
       "      <th>census_msa_MSA, Principle City</th>\n",
       "      <th>census_msa_Non-MSA</th>\n",
       "      <th>household_adults</th>\n",
       "      <th>household_children</th>\n",
       "    </tr>\n",
       "    <tr>\n",
       "      <th>respondent_id</th>\n",
       "      <th></th>\n",
       "      <th></th>\n",
       "      <th></th>\n",
       "      <th></th>\n",
       "      <th></th>\n",
       "      <th></th>\n",
       "      <th></th>\n",
       "      <th></th>\n",
       "      <th></th>\n",
       "      <th></th>\n",
       "      <th></th>\n",
       "      <th></th>\n",
       "      <th></th>\n",
       "      <th></th>\n",
       "      <th></th>\n",
       "      <th></th>\n",
       "      <th></th>\n",
       "      <th></th>\n",
       "      <th></th>\n",
       "      <th></th>\n",
       "      <th></th>\n",
       "    </tr>\n",
       "  </thead>\n",
       "  <tbody>\n",
       "    <tr>\n",
       "      <th>26707</th>\n",
       "      <td>0.666667</td>\n",
       "      <td>1.0</td>\n",
       "      <td>1.00</td>\n",
       "      <td>0.041204</td>\n",
       "      <td>0.00</td>\n",
       "      <td>1.00</td>\n",
       "      <td>0.054755</td>\n",
       "      <td>0.00</td>\n",
       "      <td>0.25</td>\n",
       "      <td>1.000000</td>\n",
       "      <td>...</td>\n",
       "      <td>0.0</td>\n",
       "      <td>0.0</td>\n",
       "      <td>1.0</td>\n",
       "      <td>0.0</td>\n",
       "      <td>0.0</td>\n",
       "      <td>1.0</td>\n",
       "      <td>0.0</td>\n",
       "      <td>0.0</td>\n",
       "      <td>0.333333</td>\n",
       "      <td>0.000000</td>\n",
       "    </tr>\n",
       "    <tr>\n",
       "      <th>26708</th>\n",
       "      <td>0.333333</td>\n",
       "      <td>0.5</td>\n",
       "      <td>0.75</td>\n",
       "      <td>0.041204</td>\n",
       "      <td>0.00</td>\n",
       "      <td>0.75</td>\n",
       "      <td>0.054755</td>\n",
       "      <td>0.00</td>\n",
       "      <td>0.00</td>\n",
       "      <td>0.333333</td>\n",
       "      <td>...</td>\n",
       "      <td>0.0</td>\n",
       "      <td>0.0</td>\n",
       "      <td>0.0</td>\n",
       "      <td>0.0</td>\n",
       "      <td>0.0</td>\n",
       "      <td>0.0</td>\n",
       "      <td>0.0</td>\n",
       "      <td>1.0</td>\n",
       "      <td>1.000000</td>\n",
       "      <td>0.000000</td>\n",
       "    </tr>\n",
       "    <tr>\n",
       "      <th>26709</th>\n",
       "      <td>0.666667</td>\n",
       "      <td>1.0</td>\n",
       "      <td>1.00</td>\n",
       "      <td>0.760301</td>\n",
       "      <td>0.25</td>\n",
       "      <td>1.00</td>\n",
       "      <td>0.763689</td>\n",
       "      <td>0.75</td>\n",
       "      <td>0.50</td>\n",
       "      <td>1.000000</td>\n",
       "      <td>...</td>\n",
       "      <td>1.0</td>\n",
       "      <td>0.0</td>\n",
       "      <td>0.0</td>\n",
       "      <td>0.0</td>\n",
       "      <td>0.0</td>\n",
       "      <td>0.0</td>\n",
       "      <td>0.0</td>\n",
       "      <td>1.0</td>\n",
       "      <td>0.333333</td>\n",
       "      <td>0.000000</td>\n",
       "    </tr>\n",
       "    <tr>\n",
       "      <th>26710</th>\n",
       "      <td>0.333333</td>\n",
       "      <td>0.5</td>\n",
       "      <td>0.75</td>\n",
       "      <td>0.280903</td>\n",
       "      <td>0.25</td>\n",
       "      <td>0.75</td>\n",
       "      <td>0.763689</td>\n",
       "      <td>0.25</td>\n",
       "      <td>1.00</td>\n",
       "      <td>0.333333</td>\n",
       "      <td>...</td>\n",
       "      <td>1.0</td>\n",
       "      <td>0.0</td>\n",
       "      <td>0.0</td>\n",
       "      <td>0.0</td>\n",
       "      <td>0.0</td>\n",
       "      <td>1.0</td>\n",
       "      <td>0.0</td>\n",
       "      <td>0.0</td>\n",
       "      <td>0.333333</td>\n",
       "      <td>0.000000</td>\n",
       "    </tr>\n",
       "    <tr>\n",
       "      <th>26711</th>\n",
       "      <td>1.000000</td>\n",
       "      <td>0.5</td>\n",
       "      <td>1.00</td>\n",
       "      <td>0.280903</td>\n",
       "      <td>0.75</td>\n",
       "      <td>0.75</td>\n",
       "      <td>0.763689</td>\n",
       "      <td>0.25</td>\n",
       "      <td>0.25</td>\n",
       "      <td>0.333333</td>\n",
       "      <td>...</td>\n",
       "      <td>0.0</td>\n",
       "      <td>1.0</td>\n",
       "      <td>0.0</td>\n",
       "      <td>0.0</td>\n",
       "      <td>0.0</td>\n",
       "      <td>0.0</td>\n",
       "      <td>0.0</td>\n",
       "      <td>1.0</td>\n",
       "      <td>0.000000</td>\n",
       "      <td>0.333333</td>\n",
       "    </tr>\n",
       "  </tbody>\n",
       "</table>\n",
       "<p>5 rows × 48 columns</p>\n",
       "</div>"
      ],
      "text/plain": [
       "               h1n1_concern  h1n1_knowledge  opinion_h1n1_vacc_effective  \\\n",
       "respondent_id                                                              \n",
       "26707              0.666667             1.0                         1.00   \n",
       "26708              0.333333             0.5                         0.75   \n",
       "26709              0.666667             1.0                         1.00   \n",
       "26710              0.333333             0.5                         0.75   \n",
       "26711              1.000000             0.5                         1.00   \n",
       "\n",
       "               opinion_h1n1_risk  opinion_h1n1_sick_from_vacc  \\\n",
       "respondent_id                                                   \n",
       "26707                   0.041204                         0.00   \n",
       "26708                   0.041204                         0.00   \n",
       "26709                   0.760301                         0.25   \n",
       "26710                   0.280903                         0.25   \n",
       "26711                   0.280903                         0.75   \n",
       "\n",
       "               opinion_seas_vacc_effective  opinion_seas_risk  \\\n",
       "respondent_id                                                   \n",
       "26707                                 1.00           0.054755   \n",
       "26708                                 0.75           0.054755   \n",
       "26709                                 1.00           0.763689   \n",
       "26710                                 0.75           0.763689   \n",
       "26711                                 0.75           0.763689   \n",
       "\n",
       "               opinion_seas_sick_from_vacc  age_group  education  ...  \\\n",
       "respondent_id                                                     ...   \n",
       "26707                                 0.00       0.25   1.000000  ...   \n",
       "26708                                 0.00       0.00   0.333333  ...   \n",
       "26709                                 0.75       0.50   1.000000  ...   \n",
       "26710                                 0.25       1.00   0.333333  ...   \n",
       "26711                                 0.25       0.25   0.333333  ...   \n",
       "\n",
       "               hhs_geo_region_lrircsnp  hhs_geo_region_lzgpxyit  \\\n",
       "respondent_id                                                     \n",
       "26707                              0.0                      0.0   \n",
       "26708                              0.0                      0.0   \n",
       "26709                              1.0                      0.0   \n",
       "26710                              1.0                      0.0   \n",
       "26711                              0.0                      1.0   \n",
       "\n",
       "               hhs_geo_region_mlyzmhmf  hhs_geo_region_oxchjgsf  \\\n",
       "respondent_id                                                     \n",
       "26707                              1.0                      0.0   \n",
       "26708                              0.0                      0.0   \n",
       "26709                              0.0                      0.0   \n",
       "26710                              0.0                      0.0   \n",
       "26711                              0.0                      0.0   \n",
       "\n",
       "               hhs_geo_region_qufhixun  census_msa_MSA, Not Principle  City  \\\n",
       "respondent_id                                                                 \n",
       "26707                              0.0                                  1.0   \n",
       "26708                              0.0                                  0.0   \n",
       "26709                              0.0                                  0.0   \n",
       "26710                              0.0                                  1.0   \n",
       "26711                              0.0                                  0.0   \n",
       "\n",
       "               census_msa_MSA, Principle City  census_msa_Non-MSA  \\\n",
       "respondent_id                                                       \n",
       "26707                                     0.0                 0.0   \n",
       "26708                                     0.0                 1.0   \n",
       "26709                                     0.0                 1.0   \n",
       "26710                                     0.0                 0.0   \n",
       "26711                                     0.0                 1.0   \n",
       "\n",
       "               household_adults  household_children  \n",
       "respondent_id                                        \n",
       "26707                  0.333333            0.000000  \n",
       "26708                  1.000000            0.000000  \n",
       "26709                  0.333333            0.000000  \n",
       "26710                  0.333333            0.000000  \n",
       "26711                  0.000000            0.333333  \n",
       "\n",
       "[5 rows x 48 columns]"
      ]
     },
     "execution_count": 75,
     "metadata": {},
     "output_type": "execute_result"
    }
   ],
   "source": [
    "features_test_scaled_df.head()"
   ]
  },
  {
   "cell_type": "markdown",
   "metadata": {},
   "source": [
    "Esto aunque en realidad no es realmente necesario, ya que para obtener las predicciones vamos a emplear la variable `X_test` que contiene los datos de test normalizados, creada anteormente a partir del array `features_test_scaled`, puede ser de utilidad si queremos visualizar los datos de test para realizar alguna comprobación."
   ]
  },
  {
   "cell_type": "markdown",
   "metadata": {},
   "source": [
    "$\\ $\n",
    "\n",
    "$\\ $\n",
    "\n",
    "$\\ $\n",
    "\n",
    "$\\ $\n",
    "\n",
    "$\\ $\n",
    "\n",
    "---\n",
    "---\n",
    "### **5.2. kNN**\n",
    "---\n",
    "---"
   ]
  },
  {
   "cell_type": "markdown",
   "metadata": {},
   "source": [
    "$\\ $\n",
    "\n",
    "---\n",
    "#### **5.2.1. Predicción de valores enteros (predict)**\n",
    "---"
   ]
  },
  {
   "cell_type": "markdown",
   "metadata": {},
   "source": [
    "Ahora sí, pasamos a realizar las predicciones finales sobre el conjunto de test utilizando el modelo kNN. Para ello, empleamos el método `predict` del modelo kNN entrenado (`knn_best`) para predecir las etiquetas de clase para cada muestra en el conjunto de test."
   ]
  },
  {
   "cell_type": "code",
   "execution_count": 78,
   "metadata": {},
   "outputs": [],
   "source": [
    "# Evaluar KNN en el conjunto de validación\n",
    "knn_test_preds = knn_best.predict(X_test)"
   ]
  },
  {
   "cell_type": "markdown",
   "metadata": {},
   "source": [
    "Guardamos los resultados obtenidos en un DataFrame de pandas para poder visualizarlos de forma más cómoda, con los correspondientes nombres de las columnas dados por las respectivas etiquetas. Además, guardamos las predicciones en un archivo CSV, en caso de que queramos cargarlas en el futuro y las visualizamos para comprobar que se han realizado correctamente."
   ]
  },
  {
   "cell_type": "code",
   "execution_count": 84,
   "metadata": {},
   "outputs": [
    {
     "data": {
      "text/html": [
       "<div>\n",
       "<style scoped>\n",
       "    .dataframe tbody tr th:only-of-type {\n",
       "        vertical-align: middle;\n",
       "    }\n",
       "\n",
       "    .dataframe tbody tr th {\n",
       "        vertical-align: top;\n",
       "    }\n",
       "\n",
       "    .dataframe thead th {\n",
       "        text-align: right;\n",
       "    }\n",
       "</style>\n",
       "<table border=\"1\" class=\"dataframe\">\n",
       "  <thead>\n",
       "    <tr style=\"text-align: right;\">\n",
       "      <th></th>\n",
       "      <th>h1n1_vaccine</th>\n",
       "      <th>seasonal_vaccine</th>\n",
       "    </tr>\n",
       "    <tr>\n",
       "      <th>respondent_id</th>\n",
       "      <th></th>\n",
       "      <th></th>\n",
       "    </tr>\n",
       "  </thead>\n",
       "  <tbody>\n",
       "    <tr>\n",
       "      <th>26707</th>\n",
       "      <td>0</td>\n",
       "      <td>0</td>\n",
       "    </tr>\n",
       "    <tr>\n",
       "      <th>26708</th>\n",
       "      <td>0</td>\n",
       "      <td>0</td>\n",
       "    </tr>\n",
       "    <tr>\n",
       "      <th>26709</th>\n",
       "      <td>0</td>\n",
       "      <td>0</td>\n",
       "    </tr>\n",
       "    <tr>\n",
       "      <th>26710</th>\n",
       "      <td>0</td>\n",
       "      <td>1</td>\n",
       "    </tr>\n",
       "    <tr>\n",
       "      <th>26711</th>\n",
       "      <td>0</td>\n",
       "      <td>0</td>\n",
       "    </tr>\n",
       "  </tbody>\n",
       "</table>\n",
       "</div>"
      ],
      "text/plain": [
       "               h1n1_vaccine  seasonal_vaccine\n",
       "respondent_id                                \n",
       "26707                     0                 0\n",
       "26708                     0                 0\n",
       "26709                     0                 0\n",
       "26710                     0                 1\n",
       "26711                     0                 0"
      ]
     },
     "execution_count": 84,
     "metadata": {},
     "output_type": "execute_result"
    }
   ],
   "source": [
    "# Convertir las predicciones a un DataFrame de pandas\n",
    "knn_test_preds_df = pd.DataFrame(knn_test_preds, columns=['h1n1_vaccine', 'seasonal_vaccine'], index=features_test_scaled_df.index)\n",
    "\n",
    "# Guardar el DataFrame en un archivo CSV\n",
    "knn_test_preds_df.to_csv('../../Data/Algorithms/Prueba1/knn_test_preds.csv', index=True)\n",
    "\n",
    "# Mostrar los primeros registros de las predicciones\n",
    "knn_test_preds_df.head()"
   ]
  },
  {
   "cell_type": "markdown",
   "metadata": {},
   "source": [
    "Dado que no disponemos de las etiquetas reales de los datos de test, no podemos evaluar el rendimiento del modelo kNN en este conjunto de datos. Sin embargo, podemos enviar las predicciones de las probabilidades calculadas con la función `predict_proba` a la competición para obtener una puntuación de evaluación. Para ello, pasaríamos a la siguiente sección."
   ]
  },
  {
   "cell_type": "markdown",
   "metadata": {},
   "source": [
    "$\\ $\n",
    "\n",
    "$\\ $\n",
    "\n",
    "$\\ $\n",
    "\n",
    "---\n",
    "#### **5.2.2. Predicción de probabilidades (predict_proba)**\n",
    "---"
   ]
  },
  {
   "cell_type": "markdown",
   "metadata": {},
   "source": [
    "Pasamos pues a predecir las probabilidades de pertenencia a cada clase para cada muestra en el conjunto de test utilizando el modelo kNN entrenado."
   ]
  },
  {
   "cell_type": "code",
   "execution_count": 136,
   "metadata": {},
   "outputs": [],
   "source": [
    "# Evaluar KNN en el conjunto de validación\n",
    "knn_test_preds_proba = knn_best.predict_proba(X_test)"
   ]
  },
  {
   "cell_type": "markdown",
   "metadata": {},
   "source": [
    "Comprobamos la estructura de las matrices de probabilidades predichas por el modelo kNN para cada variable de salida."
   ]
  },
  {
   "cell_type": "code",
   "execution_count": 141,
   "metadata": {},
   "outputs": [
    {
     "name": "stdout",
     "output_type": "stream",
     "text": [
      "knn_test_preds_proba[0].shape (26708, 2)\n",
      "knn_test_preds_proba[1].shape (26708, 2)\n"
     ]
    }
   ],
   "source": [
    "# Estrutura de las predicciones\n",
    "print(\"knn_test_preds_proba[0].shape\", knn_test_preds_proba[0].shape)\n",
    "print(\"knn_test_preds_proba[1].shape\", knn_test_preds_proba[1].shape)"
   ]
  },
  {
   "cell_type": "markdown",
   "metadata": {},
   "source": [
    "Y creamos un DataFrame de pandas que contenga las probabilidades predichas para cada una de las variables de salida (`'h1n1_vaccine'` y `'seasonal_vaccine'`), en este caso utilizando las probabilidades de la clase positiva (índice 1) para cada variable de salida y guardamos este DataFrame en un archivo CSV para poder enviar las predicciones a la competición. Dicho DataFrame sigue el formato del documento con el formato de envío, con las columnas `h1n1_vaccine` y `seasonal_vaccine` y los respectivos índices de las muestras."
   ]
  },
  {
   "cell_type": "code",
   "execution_count": 145,
   "metadata": {},
   "outputs": [
    {
     "data": {
      "text/html": [
       "<div>\n",
       "<style scoped>\n",
       "    .dataframe tbody tr th:only-of-type {\n",
       "        vertical-align: middle;\n",
       "    }\n",
       "\n",
       "    .dataframe tbody tr th {\n",
       "        vertical-align: top;\n",
       "    }\n",
       "\n",
       "    .dataframe thead th {\n",
       "        text-align: right;\n",
       "    }\n",
       "</style>\n",
       "<table border=\"1\" class=\"dataframe\">\n",
       "  <thead>\n",
       "    <tr style=\"text-align: right;\">\n",
       "      <th></th>\n",
       "      <th>h1n1_vaccine</th>\n",
       "      <th>seasonal_vaccine</th>\n",
       "    </tr>\n",
       "    <tr>\n",
       "      <th>respondent_id</th>\n",
       "      <th></th>\n",
       "      <th></th>\n",
       "    </tr>\n",
       "  </thead>\n",
       "  <tbody>\n",
       "    <tr>\n",
       "      <th>26707</th>\n",
       "      <td>0.000000</td>\n",
       "      <td>0.428571</td>\n",
       "    </tr>\n",
       "    <tr>\n",
       "      <th>26708</th>\n",
       "      <td>0.000000</td>\n",
       "      <td>0.000000</td>\n",
       "    </tr>\n",
       "    <tr>\n",
       "      <th>26709</th>\n",
       "      <td>0.428571</td>\n",
       "      <td>0.428571</td>\n",
       "    </tr>\n",
       "    <tr>\n",
       "      <th>26710</th>\n",
       "      <td>0.428571</td>\n",
       "      <td>0.571429</td>\n",
       "    </tr>\n",
       "    <tr>\n",
       "      <th>26711</th>\n",
       "      <td>0.142857</td>\n",
       "      <td>0.285714</td>\n",
       "    </tr>\n",
       "  </tbody>\n",
       "</table>\n",
       "</div>"
      ],
      "text/plain": [
       "               h1n1_vaccine  seasonal_vaccine\n",
       "respondent_id                                \n",
       "26707              0.000000          0.428571\n",
       "26708              0.000000          0.000000\n",
       "26709              0.428571          0.428571\n",
       "26710              0.428571          0.571429\n",
       "26711              0.142857          0.285714"
      ]
     },
     "execution_count": 145,
     "metadata": {},
     "output_type": "execute_result"
    }
   ],
   "source": [
    "# Crear una copia de submission_df para knn\n",
    "submission_df_knn = submission_df.copy()\n",
    "\n",
    "# Save predictions to submission data frame\n",
    "submission_df_knn[\"h1n1_vaccine\"] = knn_test_preds_proba[0][:, 1]\n",
    "submission_df_knn[\"seasonal_vaccine\"] = knn_test_preds_proba[1][:, 1]\n",
    "\n",
    "submission_df_knn.head()"
   ]
  },
  {
   "cell_type": "markdown",
   "metadata": {},
   "source": [
    "Guardamos las predicciones en un archivo CSV para poder enviarlas a la competición."
   ]
  },
  {
   "cell_type": "code",
   "execution_count": 147,
   "metadata": {},
   "outputs": [],
   "source": [
    "# Guardar submission_df_stacking como un archivo CSV\n",
    "submission_df_knn.to_csv('../Data/Submission/Prueba1/submission_knn.csv', index=True)"
   ]
  },
  {
   "cell_type": "markdown",
   "metadata": {},
   "source": [
    "$\\ $\n",
    "\n",
    "$\\ $\n",
    "\n",
    "$\\ $\n",
    "\n",
    "---\n",
    "#### **5.2.3. Submission**\n",
    "---"
   ]
  },
  {
   "cell_type": "markdown",
   "metadata": {},
   "source": [
    "Finalmente, proporcionamos esta submission a la comptetencia de DrivenData para comprobar la eficacia de nuestro modelo con los valores obtenidos con `predic_proba`. Así, obtenemos:"
   ]
  },
  {
   "cell_type": "code",
   "execution_count": 164,
   "metadata": {},
   "outputs": [
    {
     "data": {
      "image/png": "[encoded data removed]",
      "text/plain": [
       "<IPython.core.display.Image object>"
      ]
     },
     "metadata": {
      "image/png": {
       "width": 550
      }
     },
     "output_type": "display_data"
    }
   ],
   "source": [
    "# Mostrar la imagen\n",
    "display(Image(filename=\"../../Data/Submission/Prueba1/puntuacion_knn.png\", width=550))"
   ]
  },
  {
   "cell_type": "markdown",
   "metadata": {},
   "source": [
    "Una puntación de 0.74 indica que el modelo ha logrado un rendimiento moderado en la competición, con un AUC promedio de 0.74. Teniendo en cuenta que se ha empleado un modelo kNN, que es un algoritmo relativamente simple, el rendimiento obtenido es razonable. Sin embargo, es posible que se puedan obtener mejores resultados con modelos más complejos o con enfoques de ensamblado más avanzados, como por ejemplo, el modelo de Stacking que se ha implementado anteriormente."
   ]
  },
  {
   "cell_type": "markdown",
   "metadata": {},
   "source": [
    "$\\ $\n",
    "\n",
    "$\\ $\n",
    "\n",
    "$\\ $\n",
    "\n",
    "$\\ $\n",
    "\n",
    "$\\ $\n",
    "\n",
    "---\n",
    "---\n",
    "### **5.3. Stacking**\n",
    "---\n",
    "---\n",
    "\n",
    "$\\ $"
   ]
  },
  {
   "cell_type": "markdown",
   "metadata": {},
   "source": [
    "---\n",
    "#### **5.3.1. Predicción de valores enteros (predict)**\n",
    "---"
   ]
  },
  {
   "cell_type": "markdown",
   "metadata": {},
   "source": [
    "Pasamos ahora a realizar las predicciones finales sobre el conjunto de test utilizando el modelo de Stacking. Para ello, empleamos el método `predict` del modelo de Stacking entrenado (`multi_output_stacking_model`) para predecir las etiquetas de clase para cada muestra en el conjunto de test."
   ]
  },
  {
   "cell_type": "code",
   "execution_count": 79,
   "metadata": {},
   "outputs": [],
   "source": [
    "# Evaluar Stacking en el conjunto de validación\n",
    "stacking_test_preds = multi_output_stacking_model.predict(X_test)"
   ]
  },
  {
   "cell_type": "markdown",
   "metadata": {},
   "source": [
    "Y guardamos los resultados obtenidos en un DataFrame de pandas para poder visualizarlos de forma más cómoda, con los correspondientes nombres de las columnas dados por las respectivas etiquetas. Además, guardamos las predicciones en un archivo CSV, en caso de que queramos cargarlas en el futuro y las visualizamos para comprobar que se han realizado correctamente."
   ]
  },
  {
   "cell_type": "code",
   "execution_count": 85,
   "metadata": {},
   "outputs": [
    {
     "data": {
      "text/html": [
       "<div>\n",
       "<style scoped>\n",
       "    .dataframe tbody tr th:only-of-type {\n",
       "        vertical-align: middle;\n",
       "    }\n",
       "\n",
       "    .dataframe tbody tr th {\n",
       "        vertical-align: top;\n",
       "    }\n",
       "\n",
       "    .dataframe thead th {\n",
       "        text-align: right;\n",
       "    }\n",
       "</style>\n",
       "<table border=\"1\" class=\"dataframe\">\n",
       "  <thead>\n",
       "    <tr style=\"text-align: right;\">\n",
       "      <th></th>\n",
       "      <th>h1n1_vaccine</th>\n",
       "      <th>seasonal_vaccine</th>\n",
       "    </tr>\n",
       "    <tr>\n",
       "      <th>respondent_id</th>\n",
       "      <th></th>\n",
       "      <th></th>\n",
       "    </tr>\n",
       "  </thead>\n",
       "  <tbody>\n",
       "    <tr>\n",
       "      <th>26707</th>\n",
       "      <td>0</td>\n",
       "      <td>0</td>\n",
       "    </tr>\n",
       "    <tr>\n",
       "      <th>26708</th>\n",
       "      <td>0</td>\n",
       "      <td>0</td>\n",
       "    </tr>\n",
       "    <tr>\n",
       "      <th>26709</th>\n",
       "      <td>0</td>\n",
       "      <td>1</td>\n",
       "    </tr>\n",
       "    <tr>\n",
       "      <th>26710</th>\n",
       "      <td>0</td>\n",
       "      <td>1</td>\n",
       "    </tr>\n",
       "    <tr>\n",
       "      <th>26711</th>\n",
       "      <td>0</td>\n",
       "      <td>0</td>\n",
       "    </tr>\n",
       "  </tbody>\n",
       "</table>\n",
       "</div>"
      ],
      "text/plain": [
       "               h1n1_vaccine  seasonal_vaccine\n",
       "respondent_id                                \n",
       "26707                     0                 0\n",
       "26708                     0                 0\n",
       "26709                     0                 1\n",
       "26710                     0                 1\n",
       "26711                     0                 0"
      ]
     },
     "execution_count": 85,
     "metadata": {},
     "output_type": "execute_result"
    }
   ],
   "source": [
    "# Convertir las predicciones a un DataFrame de pandas\n",
    "stacking_test_preds_df = pd.DataFrame(stacking_test_preds, columns=['h1n1_vaccine', 'seasonal_vaccine'], index=features_test_scaled_df.index)\n",
    "\n",
    "# Guardar el DataFrame en un archivo CSV\n",
    "stacking_test_preds_df.to_csv('../../Data/Algorithms/Prueba1/stacking_test_preds.csv', index=False)\n",
    "\n",
    "# Mostrar los primeros registros de las predicciones\n",
    "stacking_test_preds_df.head()"
   ]
  },
  {
   "cell_type": "markdown",
   "metadata": {},
   "source": [
    "$\\ $\n",
    "\n",
    "$\\ $\n",
    "\n",
    "$\\ $\n",
    "\n",
    "---\n",
    "#### **5.3.2. Predicción de probabilidades (predict_proba)**\n",
    "---"
   ]
  },
  {
   "cell_type": "markdown",
   "metadata": {},
   "source": [
    "Ahora, pasamos a predecir las probabilidades de pertenencia a cada clase para cada muestra en el conjunto de test utilizando el modelo de Stacking entrenado."
   ]
  },
  {
   "cell_type": "code",
   "execution_count": 81,
   "metadata": {},
   "outputs": [],
   "source": [
    "# Evaluar KNN en el conjunto de validación\n",
    "stacking_test_preds_proba = multi_output_stacking_model.predict_proba(X_test)"
   ]
  },
  {
   "cell_type": "markdown",
   "metadata": {},
   "source": [
    "Mostramos la estructura de las matrices de probabilidades predichas por el modelo de Stacking para cada variable de salida."
   ]
  },
  {
   "cell_type": "code",
   "execution_count": 59,
   "metadata": {},
   "outputs": [
    {
     "name": "stdout",
     "output_type": "stream",
     "text": [
      "stacking_preds_proba[0].shape (26708, 2)\n",
      "stacking_preds_proba[1].shape (26708, 2)\n"
     ]
    }
   ],
   "source": [
    "# Estrutura de las predicciones\n",
    "print(\"stacking_preds_proba[0].shape\", stacking_test_preds_proba[0].shape)\n",
    "print(\"stacking_preds_proba[1].shape\", stacking_test_preds_proba[1].shape)"
   ]
  },
  {
   "cell_type": "markdown",
   "metadata": {},
   "source": [
    "Creamos un DataFrame de pandas que contenga las probabilidades predichas para cada una de las variables de salida (`'h1n1_vaccine'` y `'seasonal_vaccine'`), en este caso utilizando las probabilidades de la clase positiva (índice 1) para cada variable de salida y guardamos este DataFrame en un archivo CSV para poder enviar las predicciones a la competición. Dicho DataFrame sigue el formato del documento con el formato de envío, con las columnas `h1n1_vaccine` y `seasonal_vaccine` y los respectivos índices de las muestras."
   ]
  },
  {
   "cell_type": "code",
   "execution_count": 86,
   "metadata": {},
   "outputs": [
    {
     "data": {
      "text/html": [
       "<div>\n",
       "<style scoped>\n",
       "    .dataframe tbody tr th:only-of-type {\n",
       "        vertical-align: middle;\n",
       "    }\n",
       "\n",
       "    .dataframe tbody tr th {\n",
       "        vertical-align: top;\n",
       "    }\n",
       "\n",
       "    .dataframe thead th {\n",
       "        text-align: right;\n",
       "    }\n",
       "</style>\n",
       "<table border=\"1\" class=\"dataframe\">\n",
       "  <thead>\n",
       "    <tr style=\"text-align: right;\">\n",
       "      <th></th>\n",
       "      <th>h1n1_vaccine</th>\n",
       "      <th>seasonal_vaccine</th>\n",
       "    </tr>\n",
       "    <tr>\n",
       "      <th>respondent_id</th>\n",
       "      <th></th>\n",
       "      <th></th>\n",
       "    </tr>\n",
       "  </thead>\n",
       "  <tbody>\n",
       "    <tr>\n",
       "      <th>26707</th>\n",
       "      <td>0.135436</td>\n",
       "      <td>0.208973</td>\n",
       "    </tr>\n",
       "    <tr>\n",
       "      <th>26708</th>\n",
       "      <td>0.069465</td>\n",
       "      <td>0.088534</td>\n",
       "    </tr>\n",
       "    <tr>\n",
       "      <th>26709</th>\n",
       "      <td>0.443088</td>\n",
       "      <td>0.734613</td>\n",
       "    </tr>\n",
       "    <tr>\n",
       "      <th>26710</th>\n",
       "      <td>0.368788</td>\n",
       "      <td>0.861679</td>\n",
       "    </tr>\n",
       "    <tr>\n",
       "      <th>26711</th>\n",
       "      <td>0.362354</td>\n",
       "      <td>0.479705</td>\n",
       "    </tr>\n",
       "  </tbody>\n",
       "</table>\n",
       "</div>"
      ],
      "text/plain": [
       "               h1n1_vaccine  seasonal_vaccine\n",
       "respondent_id                                \n",
       "26707              0.135436          0.208973\n",
       "26708              0.069465          0.088534\n",
       "26709              0.443088          0.734613\n",
       "26710              0.368788          0.861679\n",
       "26711              0.362354          0.479705"
      ]
     },
     "execution_count": 86,
     "metadata": {},
     "output_type": "execute_result"
    }
   ],
   "source": [
    "# Crear una copia de submission_df para knn\n",
    "submission_df_stacking = submission_df.copy()\n",
    "\n",
    "# Save predictions to submission data frame\n",
    "submission_df_stacking[\"h1n1_vaccine\"] = stacking_test_preds_proba[0][:, 1]\n",
    "submission_df_stacking[\"seasonal_vaccine\"] = stacking_test_preds_proba[1][:, 1]\n",
    "\n",
    "submission_df_stacking.head()"
   ]
  },
  {
   "cell_type": "markdown",
   "metadata": {},
   "source": [
    "Y guardamos las predicciones en un archivo CSV para poder enviarlas a la competición."
   ]
  },
  {
   "cell_type": "code",
   "execution_count": 153,
   "metadata": {},
   "outputs": [],
   "source": [
    "# Guardar submission_df_stacking como un archivo CSV\n",
    "submission_df_stacking.to_csv('../../Data/Submission/Prueba1/submission_stacking.csv', index=True)"
   ]
  },
  {
   "cell_type": "markdown",
   "metadata": {},
   "source": [
    "$\\ $\n",
    "\n",
    "$\\ $\n",
    "\n",
    "$\\ $\n",
    "\n",
    "---\n",
    "#### **5.3.3. Submission**\n",
    "---"
   ]
  },
  {
   "cell_type": "markdown",
   "metadata": {},
   "source": [
    "Finalmente, proporcionamos esta submission a la comptetencia de DrivenData para comprobar la eficacia de nuestro modelo con los valores obtenidos con `predic_proba`. Así, obtenemos:"
   ]
  },
  {
   "cell_type": "code",
   "execution_count": 163,
   "metadata": {},
   "outputs": [
    {
     "data": {
      "image/png": "[encoded data removed]",
      "text/plain": [
       "<IPython.core.display.Image object>"
      ]
     },
     "metadata": {
      "image/png": {
       "width": 550
      }
     },
     "output_type": "display_data"
    }
   ],
   "source": [
    "# Mostrar la imagen\n",
    "display(Image(filename=\"../../Data/Submission/Prueba1/puntuacion_stacking.png\", width=550))"
   ]
  },
  {
   "cell_type": "markdown",
   "metadata": {},
   "source": [
    "En este caso, hemos obtenido una puntuación de 0.81, lo que indica que el modelo de Stacking ha logrado un rendimiento bastante bueno en la competición, con un AUC promedio de 0.81. Este resultado es superior al obtenido con el modelo kNN, lo que sugiere que la combinación de múltiples clasificadores en un ensemble de Stacking ha sido efectiva para mejorar la capacidad predictiva del modelo."
   ]
  }
 ],
 "metadata": {
  "kernelspec": {
   "display_name": "base",
   "language": "python",
   "name": "python3"
  },
  "language_info": {
   "codemirror_mode": {
    "name": "ipython",
    "version": 3
   },
   "file_extension": ".py",
   "mimetype": "text/x-python",
   "name": "python",
   "nbconvert_exporter": "python",
   "pygments_lexer": "ipython3",
   "version": "3.12.2"
  }
 },
 "nbformat": 4,
 "nbformat_minor": 2
}
