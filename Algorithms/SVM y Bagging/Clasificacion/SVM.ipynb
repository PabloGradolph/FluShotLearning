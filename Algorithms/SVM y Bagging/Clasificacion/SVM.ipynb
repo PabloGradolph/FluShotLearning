{
 "cells": [
  {
   "cell_type": "markdown",
   "metadata": {},
   "source": [
    "## 2. Clasificación con SVM\n",
    "\n",
    "Como se ha mencionado en el preprocesamiento, en el problema que aquí se estudia, cada individuo puede pertenecer a una clase, las dos o ninguna, por lo que se está tratando de un problema multietiqueta. Para usar una máquina de soporte vectorial para clasificar, te"
   ]
  },
  {
   "cell_type": "code",
   "execution_count": 1,
   "metadata": {},
   "outputs": [],
   "source": [
    "import sklearn\n",
    "import numpy as np\n",
    "import pandas as pd\n",
    "import matplotlib.pyplot as plt\n",
    "import seaborn as sns\n",
    "import scipy as sp\n",
    "from sklearn.svm import LinearSVC, SVC\n",
    "from sklearn.multioutput import MultiOutputClassifier\n",
    "from sklearn.model_selection import GridSearchCV\n",
    "from sklearn.preprocessing import StandardScaler\n",
    "from sklearn.preprocessing import MinMaxScaler\n",
    "\n"
   ]
  },
  {
   "cell_type": "code",
   "execution_count": 3,
   "metadata": {},
   "outputs": [],
   "source": [
    "X_train = pd.read_csv(\"preprocessed_training_dataset.csv\")\n",
    "y_train = pd.read_csv(\"training_set_labels.csv\")\n",
    "\n",
    "# Cargar el dataset de prueba\n",
    "X_test = pd.read_csv(\"preprocessed_test_dataset.csv\")"
   ]
  },
  {
   "cell_type": "code",
   "execution_count": 5,
   "metadata": {},
   "outputs": [
    {
     "name": "stdout",
     "output_type": "stream",
     "text": [
      "Train set: (26707, 96) (26707, 3)\n",
      "Test set: (26708, 96)\n"
     ]
    }
   ],
   "source": [
    "print ('Train set:', X_train.shape,  y_train.shape)\n",
    "print ('Test set:', X_test.shape)"
   ]
  },
  {
   "cell_type": "code",
   "execution_count": 7,
   "metadata": {},
   "outputs": [],
   "source": [
    "# Eliminar la columna de índice (asumiendo que es la primera columna)\n",
    "X_train = X_train.iloc[:, 1:]\n",
    "y_train = y_train.iloc[:, 1:]\n",
    "X_test = X_test.iloc[:, 1:]"
   ]
  },
  {
   "cell_type": "code",
   "execution_count": 19,
   "metadata": {},
   "outputs": [
    {
     "data": {
      "text/html": [
       "<div>\n",
       "<style scoped>\n",
       "    .dataframe tbody tr th:only-of-type {\n",
       "        vertical-align: middle;\n",
       "    }\n",
       "\n",
       "    .dataframe tbody tr th {\n",
       "        vertical-align: top;\n",
       "    }\n",
       "\n",
       "    .dataframe thead th {\n",
       "        text-align: right;\n",
       "    }\n",
       "</style>\n",
       "<table border=\"1\" class=\"dataframe\">\n",
       "  <thead>\n",
       "    <tr style=\"text-align: right;\">\n",
       "      <th></th>\n",
       "      <th>h1n1_concern</th>\n",
       "      <th>h1n1_knowledge</th>\n",
       "      <th>opinion_h1n1_vacc_effective</th>\n",
       "      <th>opinion_h1n1_risk</th>\n",
       "      <th>opinion_h1n1_sick_from_vacc</th>\n",
       "      <th>opinion_seas_vacc_effective</th>\n",
       "      <th>opinion_seas_risk</th>\n",
       "      <th>opinion_seas_sick_from_vacc</th>\n",
       "      <th>household_adults</th>\n",
       "      <th>household_children</th>\n",
       "      <th>...</th>\n",
       "      <th>employment_occupation_qxajmpny</th>\n",
       "      <th>employment_occupation_rcertsgn</th>\n",
       "      <th>employment_occupation_tfqavkke</th>\n",
       "      <th>employment_occupation_ukymxvdu</th>\n",
       "      <th>employment_occupation_uqqtjvyb</th>\n",
       "      <th>employment_occupation_vlluhbov</th>\n",
       "      <th>employment_occupation_xgwztkwe</th>\n",
       "      <th>employment_occupation_xqwwgdyp</th>\n",
       "      <th>employment_occupation_xtkaffoo</th>\n",
       "      <th>employment_occupation_xzmlyyjv</th>\n",
       "    </tr>\n",
       "  </thead>\n",
       "  <tbody>\n",
       "    <tr>\n",
       "      <th>0</th>\n",
       "      <td>1.0</td>\n",
       "      <td>0.0</td>\n",
       "      <td>3.0</td>\n",
       "      <td>1.0</td>\n",
       "      <td>2.0</td>\n",
       "      <td>2.0</td>\n",
       "      <td>1.0</td>\n",
       "      <td>2.0</td>\n",
       "      <td>0.0</td>\n",
       "      <td>0.0</td>\n",
       "      <td>...</td>\n",
       "      <td>0.0</td>\n",
       "      <td>0.0</td>\n",
       "      <td>0.0</td>\n",
       "      <td>0.0</td>\n",
       "      <td>0.0</td>\n",
       "      <td>0.0</td>\n",
       "      <td>0.0</td>\n",
       "      <td>0.0</td>\n",
       "      <td>0.0</td>\n",
       "      <td>0.0</td>\n",
       "    </tr>\n",
       "    <tr>\n",
       "      <th>1</th>\n",
       "      <td>3.0</td>\n",
       "      <td>2.0</td>\n",
       "      <td>5.0</td>\n",
       "      <td>4.0</td>\n",
       "      <td>4.0</td>\n",
       "      <td>4.0</td>\n",
       "      <td>2.0</td>\n",
       "      <td>4.0</td>\n",
       "      <td>0.0</td>\n",
       "      <td>0.0</td>\n",
       "      <td>...</td>\n",
       "      <td>0.0</td>\n",
       "      <td>0.0</td>\n",
       "      <td>0.0</td>\n",
       "      <td>0.0</td>\n",
       "      <td>0.0</td>\n",
       "      <td>0.0</td>\n",
       "      <td>1.0</td>\n",
       "      <td>0.0</td>\n",
       "      <td>0.0</td>\n",
       "      <td>0.0</td>\n",
       "    </tr>\n",
       "    <tr>\n",
       "      <th>2</th>\n",
       "      <td>1.0</td>\n",
       "      <td>1.0</td>\n",
       "      <td>3.0</td>\n",
       "      <td>1.0</td>\n",
       "      <td>1.0</td>\n",
       "      <td>4.0</td>\n",
       "      <td>1.0</td>\n",
       "      <td>2.0</td>\n",
       "      <td>2.0</td>\n",
       "      <td>0.0</td>\n",
       "      <td>...</td>\n",
       "      <td>0.0</td>\n",
       "      <td>0.0</td>\n",
       "      <td>0.0</td>\n",
       "      <td>0.0</td>\n",
       "      <td>0.0</td>\n",
       "      <td>0.0</td>\n",
       "      <td>0.0</td>\n",
       "      <td>0.0</td>\n",
       "      <td>1.0</td>\n",
       "      <td>0.0</td>\n",
       "    </tr>\n",
       "    <tr>\n",
       "      <th>3</th>\n",
       "      <td>1.0</td>\n",
       "      <td>1.0</td>\n",
       "      <td>3.0</td>\n",
       "      <td>3.0</td>\n",
       "      <td>5.0</td>\n",
       "      <td>5.0</td>\n",
       "      <td>4.0</td>\n",
       "      <td>1.0</td>\n",
       "      <td>0.0</td>\n",
       "      <td>0.0</td>\n",
       "      <td>...</td>\n",
       "      <td>0.0</td>\n",
       "      <td>0.0</td>\n",
       "      <td>0.0</td>\n",
       "      <td>0.0</td>\n",
       "      <td>0.0</td>\n",
       "      <td>0.0</td>\n",
       "      <td>0.0</td>\n",
       "      <td>0.0</td>\n",
       "      <td>0.0</td>\n",
       "      <td>0.0</td>\n",
       "    </tr>\n",
       "    <tr>\n",
       "      <th>4</th>\n",
       "      <td>2.0</td>\n",
       "      <td>1.0</td>\n",
       "      <td>3.0</td>\n",
       "      <td>3.0</td>\n",
       "      <td>2.0</td>\n",
       "      <td>3.0</td>\n",
       "      <td>1.0</td>\n",
       "      <td>4.0</td>\n",
       "      <td>1.0</td>\n",
       "      <td>0.0</td>\n",
       "      <td>...</td>\n",
       "      <td>0.0</td>\n",
       "      <td>0.0</td>\n",
       "      <td>0.0</td>\n",
       "      <td>0.0</td>\n",
       "      <td>0.0</td>\n",
       "      <td>0.0</td>\n",
       "      <td>0.0</td>\n",
       "      <td>0.0</td>\n",
       "      <td>0.0</td>\n",
       "      <td>0.0</td>\n",
       "    </tr>\n",
       "  </tbody>\n",
       "</table>\n",
       "<p>5 rows × 95 columns</p>\n",
       "</div>"
      ],
      "text/plain": [
       "   h1n1_concern  h1n1_knowledge  opinion_h1n1_vacc_effective  \\\n",
       "0           1.0             0.0                          3.0   \n",
       "1           3.0             2.0                          5.0   \n",
       "2           1.0             1.0                          3.0   \n",
       "3           1.0             1.0                          3.0   \n",
       "4           2.0             1.0                          3.0   \n",
       "\n",
       "   opinion_h1n1_risk  opinion_h1n1_sick_from_vacc  \\\n",
       "0                1.0                          2.0   \n",
       "1                4.0                          4.0   \n",
       "2                1.0                          1.0   \n",
       "3                3.0                          5.0   \n",
       "4                3.0                          2.0   \n",
       "\n",
       "   opinion_seas_vacc_effective  opinion_seas_risk  \\\n",
       "0                          2.0                1.0   \n",
       "1                          4.0                2.0   \n",
       "2                          4.0                1.0   \n",
       "3                          5.0                4.0   \n",
       "4                          3.0                1.0   \n",
       "\n",
       "   opinion_seas_sick_from_vacc  household_adults  household_children  ...  \\\n",
       "0                          2.0               0.0                 0.0  ...   \n",
       "1                          4.0               0.0                 0.0  ...   \n",
       "2                          2.0               2.0                 0.0  ...   \n",
       "3                          1.0               0.0                 0.0  ...   \n",
       "4                          4.0               1.0                 0.0  ...   \n",
       "\n",
       "   employment_occupation_qxajmpny  employment_occupation_rcertsgn  \\\n",
       "0                             0.0                             0.0   \n",
       "1                             0.0                             0.0   \n",
       "2                             0.0                             0.0   \n",
       "3                             0.0                             0.0   \n",
       "4                             0.0                             0.0   \n",
       "\n",
       "   employment_occupation_tfqavkke  employment_occupation_ukymxvdu  \\\n",
       "0                             0.0                             0.0   \n",
       "1                             0.0                             0.0   \n",
       "2                             0.0                             0.0   \n",
       "3                             0.0                             0.0   \n",
       "4                             0.0                             0.0   \n",
       "\n",
       "   employment_occupation_uqqtjvyb  employment_occupation_vlluhbov  \\\n",
       "0                             0.0                             0.0   \n",
       "1                             0.0                             0.0   \n",
       "2                             0.0                             0.0   \n",
       "3                             0.0                             0.0   \n",
       "4                             0.0                             0.0   \n",
       "\n",
       "   employment_occupation_xgwztkwe  employment_occupation_xqwwgdyp  \\\n",
       "0                             0.0                             0.0   \n",
       "1                             1.0                             0.0   \n",
       "2                             0.0                             0.0   \n",
       "3                             0.0                             0.0   \n",
       "4                             0.0                             0.0   \n",
       "\n",
       "   employment_occupation_xtkaffoo  employment_occupation_xzmlyyjv  \n",
       "0                             0.0                             0.0  \n",
       "1                             0.0                             0.0  \n",
       "2                             1.0                             0.0  \n",
       "3                             0.0                             0.0  \n",
       "4                             0.0                             0.0  \n",
       "\n",
       "[5 rows x 95 columns]"
      ]
     },
     "execution_count": 19,
     "metadata": {},
     "output_type": "execute_result"
    }
   ],
   "source": [
    "X_train.head()"
   ]
  },
  {
   "cell_type": "markdown",
   "metadata": {},
   "source": [
    "Antes de proceder, es necesario escalar los valores, sobre todo para que las variables de mayor rango (pertenencientes a las preguntas de opinión mayoritariamente) no influyan en el cálculo de las distancias con SVM. Dentro de las posibilidades de escalado, se puede optar por:\n",
    "- Normalización zero-mean: Escala los valores en un rango $[0,1]$ en función de la media y la varianza de la variable. Esta normalización se usa cuando las distribuciones de las variables siguen aproximadamente una distribución normal.\n",
    "- Normalización MinMaxScaling: Escala los valores en un rango $[0,1]$ en función de los valores máximos y mínimos de cada variable. Esta técnica de escalado conserva las características de los datos originales tras la transformación. \n",
    "\n",
    "Dado que no se conocen las distribuciones originales de los datos, se va a optar por el uso de escalado MinMax"
   ]
  },
  {
   "cell_type": "code",
   "execution_count": 9,
   "metadata": {},
   "outputs": [
    {
     "data": {
      "text/plain": [
       "array([[0.66666667, 1.        , 1.        , ..., 0.        , 0.        ,\n",
       "        0.        ],\n",
       "       [0.33333333, 0.5       , 0.75      , ..., 1.        , 0.        ,\n",
       "        0.        ],\n",
       "       [0.66666667, 1.        , 1.        , ..., 0.        , 0.        ,\n",
       "        0.        ],\n",
       "       ...,\n",
       "       [0.        , 0.5       , 0.75      , ..., 0.        , 0.        ,\n",
       "        0.        ],\n",
       "       [1.        , 0.5       , 0.25      , ..., 0.        , 0.        ,\n",
       "        0.        ],\n",
       "       [0.66666667, 0.5       , 1.        , ..., 0.        , 1.        ,\n",
       "        0.        ]])"
      ]
     },
     "execution_count": 9,
     "metadata": {},
     "output_type": "execute_result"
    }
   ],
   "source": [
    "# Escalar características\n",
    "scaler = MinMaxScaler()\n",
    "X_train_scaled = scaler.fit_transform(X_train)\n",
    "X_test_scaled = scaler.transform(X_test)\n",
    "X_test_scaled"
   ]
  },
  {
   "cell_type": "code",
   "execution_count": 11,
   "metadata": {},
   "outputs": [],
   "source": [
    "# Asegurarse de que todos los valores sean numéricos\n",
    "#X_train = X_train.astype(float)\n",
    "#X_test = X_test.astype(float)\n",
    "y_train = y_train.astype(int)"
   ]
  },
  {
   "cell_type": "code",
   "execution_count": 15,
   "metadata": {},
   "outputs": [],
   "source": [
    "from sklearn.model_selection import train_test_split\n",
    "\n",
    "X_train_split, X_valid_split, y_train_split, y_valid_split = train_test_split(\n",
    "    X_train_scaled, y_train, test_size=0.2, random_state=42\n",
    ")"
   ]
  },
  {
   "cell_type": "markdown",
   "metadata": {},
   "source": [
    "Una vez tenemos todos los datos en el mismo formato, podemos pasar a implementar SVM. Este algoritmo trata de sobredimensionar los datos para poder generar un hiperplano de separación entre dos clases, por lo que, de manera nativa no es capaz de realizar una clasificación multietiqueta. Para solventar este problema se usa un pequeño 'truco' a la hora de implementar el algoritmo, que es la descomposición binaria de la respuesta obtenida, de esta manera SVM puede abordar los problemas multietiqueta como problemas independientes:\n",
    "\n",
    "- Si se entrena un clasificador para cada par de valores posibles se está usando una estrategia OVO (One-vs-One)\n",
    "- Si el clasificador es capaz de distinguir en cada caso su etiqueta frente a las demás se usa una estrategia OVR (One-vs-Rest)\n",
    "\n",
    "Otra opción para la clasificación multietiqueta pasa por el uso de la función 'MultiOutputClassifier' implementada en 'sklearn', capaz de tratar cada etiqueta como un problema binario independiente, entrenando un clasificador para cada etiqueta sin comparar con las demás:"
   ]
  },
  {
   "cell_type": "code",
   "execution_count": 42,
   "metadata": {},
   "outputs": [
    {
     "name": "stdout",
     "output_type": "stream",
     "text": [
      "Fitting 5 folds for each of 16 candidates, totalling 80 fits\n",
      "Mejores parámetros encontrados:  {'estimator__C': 1, 'estimator__gamma': 'scale', 'estimator__kernel': 'rbf', 'estimator__max_iter': 50000}\n",
      "Accuracy en validación: 0.669973792587046\n",
      "Reporte de clasificación:\n",
      "               precision    recall  f1-score   support\n",
      "\n",
      "           0       0.69      0.42      0.52      1130\n",
      "           1       0.77      0.74      0.76      2451\n",
      "\n",
      "   micro avg       0.75      0.64      0.69      3581\n",
      "   macro avg       0.73      0.58      0.64      3581\n",
      "weighted avg       0.75      0.64      0.68      3581\n",
      " samples avg       0.34      0.32      0.32      3581\n",
      "\n"
     ]
    },
    {
     "name": "stderr",
     "output_type": "stream",
     "text": [
      "C:\\Users\\er_ja\\anaconda3\\Lib\\site-packages\\sklearn\\metrics\\_classification.py:1469: UndefinedMetricWarning: Precision and F-score are ill-defined and being set to 0.0 in samples with no predicted labels. Use `zero_division` parameter to control this behavior.\n",
      "  _warn_prf(average, modifier, msg_start, len(result))\n",
      "C:\\Users\\er_ja\\anaconda3\\Lib\\site-packages\\sklearn\\metrics\\_classification.py:1469: UndefinedMetricWarning: Recall and F-score are ill-defined and being set to 0.0 in samples with no true labels. Use `zero_division` parameter to control this behavior.\n",
      "  _warn_prf(average, modifier, msg_start, len(result))\n"
     ]
    }
   ],
   "source": [
    "base_svm = SVC(kernel='rbf', probability=True, random_state=42, max_iter=10000)\n",
    "\n",
    "# Paso 2: Configurar MultiOutputClassifier para manejar multietiqueta\n",
    "multi_label_svm = MultiOutputClassifier(base_svm)\n",
    "\n",
    "# Paso 3: Definir el espacio de búsqueda de hiperparámetros\n",
    "param_grid = {\n",
    "    'estimator__C': [0.1, 1],       # Regularización\n",
    "    'estimator__gamma': ['scale', 'auto'],   # Parámetro del kernel RBF\n",
    "    'estimator__kernel': ['rbf', 'poly'],    # Tipos de kernel\n",
    "    'estimator__max_iter': [10000, 50000]\n",
    "}\n",
    "\n",
    "# Paso 4: Configurar GridSearchCV\n",
    "grid_search = GridSearchCV(\n",
    "    estimator=multi_label_svm,\n",
    "    param_grid=param_grid,\n",
    "    cv=5,  # Validación cruzada de 5 pliegues\n",
    "    scoring='accuracy',  # Métrica para evaluar el modelo\n",
    "    verbose=3,  # Para ver el progreso\n",
    "    n_jobs=-1   # Usar todos los núcleos disponibles\n",
    ")\n",
    "\n",
    "# Paso 5: Entrenar con los datos de entrenamiento\n",
    "grid_search.fit(X_train_split, y_train_split)\n",
    "\n",
    "# Paso 6: Resultados\n",
    "print(\"Mejores parámetros encontrados: \", grid_search.best_params_)\n",
    "\n",
    "best_model = grid_search.best_estimator_\n",
    "best_model.fit(X_train_split, y_train_split)\n",
    "from sklearn.metrics import accuracy_score, classification_report\n",
    "\n",
    "y_valid_pred = best_model.predict(X_valid_split)\n",
    "print(\"Accuracy en validación:\", accuracy_score(y_valid_split, y_valid_pred))\n",
    "print(\"Reporte de clasificación:\\n\", classification_report(y_valid_split, y_valid_pred, zero_division=0))\n"
   ]
  },
  {
   "cell_type": "markdown",
   "metadata": {},
   "source": [
    "También podemos probar LinearSVC, en este caso el clasificador SVM que se usa kernel lineal:"
   ]
  },
  {
   "cell_type": "code",
   "execution_count": 51,
   "metadata": {},
   "outputs": [
    {
     "name": "stderr",
     "output_type": "stream",
     "text": [
      "C:\\Users\\er_ja\\anaconda3\\Lib\\site-packages\\sklearn\\svm\\_base.py:1242: ConvergenceWarning: Liblinear failed to converge, increase the number of iterations.\n",
      "  warnings.warn(\n"
     ]
    },
    {
     "name": "stdout",
     "output_type": "stream",
     "text": [
      "Mejores parámetros encontrados:  {'estimator__C': 0.1, 'estimator__dual': False, 'estimator__intercept_scaling': 1.0, 'estimator__max_iter': 1000, 'estimator__tol': 0.01}\n",
      "Accuracy en validación: 0.6710969674279296\n",
      "Reporte de clasificación:\n",
      "               precision    recall  f1-score   support\n",
      "\n",
      "           0       0.70      0.41      0.52      1130\n",
      "           1       0.78      0.74      0.76      2451\n",
      "\n",
      "   micro avg       0.76      0.63      0.69      3581\n",
      "   macro avg       0.74      0.57      0.64      3581\n",
      "weighted avg       0.75      0.63      0.68      3581\n",
      " samples avg       0.34      0.32      0.32      3581\n",
      "\n"
     ]
    }
   ],
   "source": [
    "from sklearn.svm import LinearSVC\n",
    "\n",
    "multi_label_lsvm = MultiOutputClassifier(LinearSVC(C=1.0, random_state=42, dual=True, max_iter=10000))\n",
    "\n",
    "param_grid = {\n",
    "    'estimator__C': [0.1, 1.0],\n",
    "    'estimator__tol': [1e-4, 1e-2],\n",
    "    'estimator__max_iter': [1000, 10000, 50000],\n",
    "    'estimator__intercept_scaling': [0.1, 1.0],\n",
    "    'estimator__dual':[True, False],\n",
    "}\n",
    "\n",
    "# Paso 5: Configurar GridSearchCV\n",
    "grid_search = GridSearchCV(multi_label_lsvm, param_grid, cv=5, scoring='accuracy')\n",
    "\n",
    "grid_search.fit(X_train_split, y_train_split)\n",
    "\n",
    "print(\"Mejores parámetros encontrados: \", grid_search.best_params_)\n",
    "\n",
    "best_model = grid_search.best_estimator_\n",
    "best_model.fit(X_train_split, y_train_split)\n",
    "from sklearn.metrics import accuracy_score, classification_report\n",
    "\n",
    "y_valid_pred2 = best_model.predict(X_valid_split)\n",
    "print(\"Accuracy en validación:\", accuracy_score(y_valid_split, y_valid_pred2))\n",
    "print(\"Reporte de clasificación:\\n\", classification_report(y_valid_split, y_valid_pred2, zero_division=0 ))"
   ]
  },
  {
   "cell_type": "markdown",
   "metadata": {},
   "source": [
    "Comparamos los resultados con los que se obtienen a partir de OVO y OVR:"
   ]
  },
  {
   "cell_type": "code",
   "execution_count": 67,
   "metadata": {},
   "outputs": [
    {
     "name": "stdout",
     "output_type": "stream",
     "text": [
      "Accuracy en validación: 0.669973792587046\n",
      "Reporte de clasificación Lineal OVR:\n",
      "               precision    recall  f1-score   support\n",
      "\n",
      "           0       0.69      0.42      0.52      1130\n",
      "           1       0.77      0.74      0.76      2451\n",
      "\n",
      "   micro avg       0.75      0.64      0.69      3581\n",
      "   macro avg       0.73      0.58      0.64      3581\n",
      "weighted avg       0.75      0.64      0.68      3581\n",
      " samples avg       0.34      0.32      0.32      3581\n",
      "\n"
     ]
    }
   ],
   "source": [
    "from sklearn.multiclass import OneVsOneClassifier, OneVsRestClassifier\n",
    "\n",
    "ovr = OneVsRestClassifier(LinearSVC(C=0.1, random_state=42, dual=False, max_iter=1000, tol=0.01)); # Usamos mismos parámetros que antes y la misma semilla\n",
    "ovr.fit(X_train_split, y_train_split)\n",
    "y_pred = ovr.predict(X_valid_split)\n",
    "print(\"Accuracy en validación:\", accuracy_score(y_valid_split, y_valid_pred))\n",
    "print(\"Reporte de clasificación Lineal OVR:\\n\", classification_report(y_valid_split, y_valid_pred, zero_division=0))\n"
   ]
  },
  {
   "cell_type": "code",
   "execution_count": 69,
   "metadata": {},
   "outputs": [
    {
     "name": "stdout",
     "output_type": "stream",
     "text": [
      "Accuracy en validación: 0.669973792587046\n",
      "Reporte de clasificación OVR:\n",
      "               precision    recall  f1-score   support\n",
      "\n",
      "           0       0.69      0.42      0.52      1130\n",
      "           1       0.77      0.74      0.76      2451\n",
      "\n",
      "   micro avg       0.75      0.64      0.69      3581\n",
      "   macro avg       0.73      0.58      0.64      3581\n",
      "weighted avg       0.75      0.64      0.68      3581\n",
      " samples avg       0.34      0.32      0.32      3581\n",
      "\n"
     ]
    }
   ],
   "source": [
    "ovr = OneVsRestClassifier(SVC(C=1, random_state=42, gamma='scale', max_iter=50000, kernel='rbf')); # Usamos mismos parámetros que antes y la misma semilla\n",
    "ovr.fit(X_train_split, y_train_split)\n",
    "y_pred = ovr.predict(X_valid_split)\n",
    "print(\"Accuracy en validación:\", accuracy_score(y_valid_split, y_valid_pred))\n",
    "print(\"Reporte de clasificación OVR:\\n\", classification_report(y_valid_split, y_valid_pred, zero_division=0))"
   ]
  },
  {
   "cell_type": "code",
   "execution_count": 71,
   "metadata": {},
   "outputs": [
    {
     "name": "stdout",
     "output_type": "stream",
     "text": [
      "Accuracy en validación: 0.669973792587046\n",
      "Reporte de clasificación Lineal OVR:\n",
      "               precision    recall  f1-score   support\n",
      "\n",
      "           0       0.69      0.42      0.52      1130\n",
      "           1       0.77      0.74      0.76      2451\n",
      "\n",
      "   micro avg       0.75      0.64      0.69      3581\n",
      "   macro avg       0.73      0.58      0.64      3581\n",
      "weighted avg       0.75      0.64      0.68      3581\n",
      " samples avg       0.34      0.32      0.32      3581\n",
      "\n"
     ]
    }
   ],
   "source": [
    "ovo = OneVsOneClassifier(LinearSVC(C=0.1, random_state=42, dual=False, max_iter=1000, tol=0.01)); # Usamos mismos parámetros que antes y la misma semilla\n",
    "ovr.fit(X_train_split, y_train_split)\n",
    "y_pred = ovr.predict(X_valid_split)\n",
    "print(\"Accuracy en validación:\", accuracy_score(y_valid_split, y_valid_pred))\n",
    "print(\"Reporte de clasificación Lineal OVR:\\n\", classification_report(y_valid_split, y_valid_pred, zero_division=0))"
   ]
  },
  {
   "cell_type": "markdown",
   "metadata": {},
   "source": [
    "Parece claro que los métodos de OVR y OVO no están tan bien implementados como MultiOutputClassifier a la hora de tratar con problemas multietiqueta."
   ]
  }
 ],
 "metadata": {
  "kernelspec": {
   "display_name": "Python 3 (ipykernel)",
   "language": "python",
   "name": "python3"
  },
  "language_info": {
   "codemirror_mode": {
    "name": "ipython",
    "version": 3
   },
   "file_extension": ".py",
   "mimetype": "text/x-python",
   "name": "python",
   "nbconvert_exporter": "python",
   "pygments_lexer": "ipython3",
   "version": "3.12.4"
  }
 },
 "nbformat": 4,
 "nbformat_minor": 4
}
