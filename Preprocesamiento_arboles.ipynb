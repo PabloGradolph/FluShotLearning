{
 "cells": [
  {
   "cell_type": "code",
   "execution_count": 54,
   "metadata": {},
   "outputs": [],
   "source": [
    "import pandas as pd\n",
    "from sklearn.compose import ColumnTransformer\n",
    "from sklearn.preprocessing import OneHotEncoder, OrdinalEncoder\n",
    "from sklearn.model_selection import train_test_split"
   ]
  },
  {
   "cell_type": "code",
   "execution_count": 55,
   "metadata": {},
   "outputs": [],
   "source": [
    "def preprocess_data(df, fit_preprocessor=None):\n",
    "\n",
    "    # 1. Asignar 'Not Applicable' a columnas relacionadas con estado laboral\n",
    "    df[['employment_industry', 'employment_occupation']] = df[['employment_industry', 'employment_occupation']].mask(\n",
    "        df['employment_status'].isin(['Not in Labor Force', 'Unemployed']), 'Not Applicable'\n",
    "    )\n",
    "\n",
    "    # Definir columnas\n",
    "    cat_cols = ['race', 'sex', 'marital_status', 'rent_or_own', 'hhs_geo_region',\n",
    "                'census_msa', 'employment_industry', 'employment_occupation']\n",
    "    ord_cols = ['age_group', 'education', 'income_poverty', 'employment_status']\n",
    "    num_cols = df.select_dtypes(include='number').columns.tolist()\n",
    "\n",
    "    # Orden explícito para las columnas ordinales_str\n",
    "    ordinal_order = {\n",
    "        # No hay valores nulos en age_group.\n",
    "        'age_group': ['18 - 34 Years', '35 - 44 Years', '45 - 54 Years', '55 - 64 Years', '65+ Years'],\n",
    "        # Categoría missing como educación media.\n",
    "        'education': ['< 12 Years', '12 Years','Missing', 'Some College', 'College Graduate'],\n",
    "        # Categoría missing por encima de pobreza y debajo de \"encima de pobreza\"\n",
    "        'income_poverty': ['Below Poverty', 'Missing', '<= $75,000, Above Poverty', '> $75,000'],\n",
    "        # Categoría missing entre desempleados y empleados\n",
    "        'employment_status': ['Not in Labor Force', 'Unemployed', 'Missing', 'Employed'],\n",
    "    }\n",
    "    ordinal_keys = list(ordinal_order.keys())\n",
    "\n",
    "    # 2. Categorías faltantes en columnas categóricas\n",
    "    for col in cat_cols + ord_cols:\n",
    "        df[col] = df[col].fillna('Missing')\n",
    "\n",
    "    # 3. Indicadores para valores faltantes en columnas numéricas\n",
    "    for col in num_cols:\n",
    "        df[f\"{col}_is_missing\"] = df[col].isnull().astype(int)\n",
    "\n",
    "    # 4. Imputación extrema en columnas numéricas\n",
    "    for col in num_cols:\n",
    "        min_value = df[col].min(skipna=True)  # Evita NaN al calcular el mínimo\n",
    "        df[col] = df[col].fillna(min_value - 1)\n",
    "\n",
    "    # 5. Codificación de columnas categóricas y ordinales\n",
    "    preprocessor = ColumnTransformer(\n",
    "        transformers=[\n",
    "            ('categorical_encoder', OneHotEncoder(handle_unknown='ignore'), cat_cols),\n",
    "            ('ordinal_encoder', OrdinalEncoder(categories=[ordinal_order[col] for col in ordinal_keys]), ord_cols) \n",
    "        ],\n",
    "        remainder='passthrough',  # Mantener columnas numéricas\n",
    "        sparse_threshold=0  # Asegurar un DataFrame denso\n",
    "    )\n",
    "\n",
    "    if fit_preprocessor is None:\n",
    "        # Si no hay preprocesador, ajustarlo\n",
    "        processed_data = preprocessor.fit_transform(df)\n",
    "        preprocessor_fitted = preprocessor\n",
    "    else:\n",
    "        # Usar un preprocesador ajustado previamente\n",
    "        processed_data = fit_preprocessor.transform(df)\n",
    "        preprocessor_fitted = fit_preprocessor\n",
    "\n",
    "    # Reconstruir nombres de columnas\n",
    "    categorical_columns = preprocessor_fitted.named_transformers_['categorical_encoder'].get_feature_names_out(cat_cols)\n",
    "    ordinal_columns = ord_cols\n",
    "    remaining_columns = [col for col in df.columns if col not in cat_cols + ord_cols]\n",
    "    output_columns = list(categorical_columns) + ordinal_columns + remaining_columns\n",
    "\n",
    "    # Convertir a DataFrame\n",
    "    processed_df = pd.DataFrame(processed_data, columns=output_columns, index=df.index)\n",
    "\n",
    "    return processed_df, preprocessor_fitted"
   ]
  },
  {
   "cell_type": "code",
   "execution_count": 56,
   "metadata": {},
   "outputs": [],
   "source": [
    "# Cargar datos\n",
    "data = pd.read_csv('Data/training_set_features.csv', index_col=\"respondent_id\")\n",
    "labels = pd.read_csv('Data/training_set_labels.csv', index_col=\"respondent_id\")"
   ]
  },
  {
   "cell_type": "code",
   "execution_count": 57,
   "metadata": {},
   "outputs": [],
   "source": [
    "# Dividir datos antes del preprocesamiento\n",
    "X_train, X_test, y_train, y_test = train_test_split(data, labels, test_size=0.2, random_state=42, stratify=labels)"
   ]
  },
  {
   "cell_type": "code",
   "execution_count": 58,
   "metadata": {},
   "outputs": [],
   "source": [
    "# Preprocesar X_train y ajustar el preprocesador\n",
    "X_train_preprocessed, preprocessor = preprocess_data(X_train.copy())\n",
    "\n",
    "# Preprocesar X_test usando el mismo preprocesador\n",
    "X_test_preprocessed, _ = preprocess_data(X_test.copy(), fit_preprocessor=preprocessor)\n",
    "\n",
    "# Guardar los DataFrames preprocesados\n",
    "X_train_preprocessed.to_csv('Data/preprocessed_X_train.csv', index=True)\n",
    "X_test_preprocessed.to_csv('Data/preprocessed_X_test.csv', index=True)\n",
    "y_train.to_csv('Data/preprocessed_y_train.csv', index=True)\n",
    "y_test.to_csv('Data/preprocessed_y_test.csv', index=True)"
   ]
  },
  {
   "cell_type": "code",
   "execution_count": 59,
   "metadata": {},
   "outputs": [],
   "source": [
    "# Preprocesar el conjunto de prueba externo\n",
    "test_set_features = pd.read_csv(\"Data/test_set_features.csv\", index_col=\"respondent_id\")\n",
    "test_set_preprocessed, _ = preprocess_data(test_set_features.copy(), fit_preprocessor=preprocessor)\n",
    "\n",
    "# Guardar el conjunto de prueba preprocesado\n",
    "test_set_preprocessed.to_csv(\"Data/preprocessed_test_set_features.csv\", index=True)"
   ]
  },
  {
   "cell_type": "code",
   "execution_count": 60,
   "metadata": {},
   "outputs": [
    {
     "name": "stdout",
     "output_type": "stream",
     "text": [
      "Dimensiones del dataset:\n",
      "Filas: 21365, Columnas: 123\n",
      "\n",
      "Información general del dataset:\n",
      "<class 'pandas.core.frame.DataFrame'>\n",
      "Index: 21365 entries, 12230 to 467\n",
      "Columns: 123 entries, race_Black to household_children_is_missing\n",
      "dtypes: float64(123)\n",
      "memory usage: 20.2 MB\n",
      "None\n",
      "\n",
      "Valores faltantes por columna (porcentaje):\n",
      "race_Black                                0.0\n",
      "race_Hispanic                             0.0\n",
      "race_Other or Multiple                    0.0\n",
      "race_White                                0.0\n",
      "sex_Female                                0.0\n",
      "                                         ... \n",
      "opinion_seas_vacc_effective_is_missing    0.0\n",
      "opinion_seas_risk_is_missing              0.0\n",
      "opinion_seas_sick_from_vacc_is_missing    0.0\n",
      "household_adults_is_missing               0.0\n",
      "household_children_is_missing             0.0\n",
      "Length: 123, dtype: float64\n"
     ]
    }
   ],
   "source": [
    "# 1. Dimensiones del dataset\n",
    "print(\"Dimensiones del dataset:\")\n",
    "print(f\"Filas: {X_train_preprocessed.shape[0]}, Columnas: {X_train_preprocessed.shape[1]}\")\n",
    "\n",
    "# 2. Información del dataset\n",
    "print(\"\\nInformación general del dataset:\")\n",
    "print(X_train_preprocessed.info())\n",
    "\n",
    "# 3. Valores faltantes\n",
    "print(\"\\nValores faltantes por columna (porcentaje):\")\n",
    "missing_values = X_train_preprocessed.isna().mean() * 100\n",
    "print(missing_values)"
   ]
  }
 ],
 "metadata": {
  "kernelspec": {
   "display_name": "VENV",
   "language": "python",
   "name": "python3"
  },
  "language_info": {
   "codemirror_mode": {
    "name": "ipython",
    "version": 3
   },
   "file_extension": ".py",
   "mimetype": "text/x-python",
   "name": "python",
   "nbconvert_exporter": "python",
   "pygments_lexer": "ipython3",
   "version": "3.12.8"
  }
 },
 "nbformat": 4,
 "nbformat_minor": 2
}
